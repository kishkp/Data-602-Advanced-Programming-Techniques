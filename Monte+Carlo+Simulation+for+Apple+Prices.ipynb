{
 "cells": [
  {
   "cell_type": "code",
   "execution_count": 42,
   "metadata": {
    "collapsed": false
   },
   "outputs": [
    {
     "name": "stdout",
     "output_type": "stream",
     "text": [
      "Populating the interactive namespace from numpy and matplotlib\n"
     ]
    }
   ],
   "source": [
    "%pylab inline"
   ]
  },
  {
   "cell_type": "code",
   "execution_count": 43,
   "metadata": {
    "collapsed": true
   },
   "outputs": [],
   "source": [
    "import Tkinter\n",
    "import tkFileDialog\n",
    "import pandas as pd\n",
    "import numpy as np\n"
   ]
  },
  {
   "cell_type": "code",
   "execution_count": 44,
   "metadata": {
    "collapsed": false
   },
   "outputs": [],
   "source": [
    "# read apple data from dialog box and assign column headers\n",
    "\n",
    "# root = Tkinter.Tk()\n",
    "# root.withdraw()\n",
    "# file = tkFileDialog.askopenfilename(parent=root)\n",
    "\n",
    "\n",
    "# Please change path below to the location of the data file. \n",
    "data = pd.read_csv(\"D:/Data 602 - Advanced Programming Techniques/Assignments/apple.2011.csv\")\n",
    "data.columns = ['Date','Price','Pert_change']"
   ]
  },
  {
   "cell_type": "code",
   "execution_count": 45,
   "metadata": {
    "collapsed": false
   },
   "outputs": [
    {
     "data": {
      "text/plain": [
       "(0.0009573552071713143, 0.016487613979893456)"
      ]
     },
     "execution_count": 45,
     "metadata": {},
     "output_type": "execute_result"
    }
   ],
   "source": [
    "# calculate the mean and the standard deviation for the percentage change column\n",
    "data_pert_change = pd.Series(data['Pert_change'][1:], dtype = float)\n",
    "mu, sigma = np.mean(data_pert_change), np.std(data_pert_change)\n",
    "mu, sigma\n",
    "\n"
   ]
  },
  {
   "cell_type": "code",
   "execution_count": 46,
   "metadata": {
    "collapsed": false
   },
   "outputs": [],
   "source": [
    "# Define a function to get the hypothetical price after 20 days. \n",
    "# Inputs : \n",
    "# 1 - Last Price from the dataset\n",
    "# 2 - A set of 20 random percentage changes generated from gaussian random generator\n",
    "\n",
    "def get_last_price(last_price, random_percentages):\n",
    "    for j in random_percentages:\n",
    "        last_price = last_price * (1 + j)\n",
    "    return(last_price)"
   ]
  },
  {
   "cell_type": "code",
   "execution_count": 47,
   "metadata": {
    "collapsed": false,
    "scrolled": false
   },
   "outputs": [],
   "source": [
    "# Run the simulation for 10000 times and Store the final price from each simulaton\n",
    "final_prices = []\n",
    "last_price = data['Price'][data['Price'].size - 1]\n",
    "\n",
    "for i in range(0,10000):\n",
    "    random_percentages = np.random.normal(mu, sigma, 20)\n",
    "    final_prices.append(get_last_price(last_price, random_percentages))"
   ]
  },
  {
   "cell_type": "code",
   "execution_count": 48,
   "metadata": {
    "collapsed": false
   },
   "outputs": [
    {
     "name": "stdout",
     "output_type": "stream",
     "text": [
      "346.472181638\n"
     ]
    }
   ],
   "source": [
    "#  VaR with 99% confidence. This means that the price will be above this result after 20 days with a confidence level of 99%.\n",
    "\n",
    "print np.percentile(final_prices,1)"
   ]
  }
 ],
 "metadata": {
  "kernelspec": {
   "display_name": "Python [conda root]",
   "language": "python",
   "name": "conda-root-py"
  },
  "language_info": {
   "codemirror_mode": {
    "name": "ipython",
    "version": 2
   },
   "file_extension": ".py",
   "mimetype": "text/x-python",
   "name": "python",
   "nbconvert_exporter": "python",
   "pygments_lexer": "ipython2",
   "version": "2.7.12"
  }
 },
 "nbformat": 4,
 "nbformat_minor": 1
}
