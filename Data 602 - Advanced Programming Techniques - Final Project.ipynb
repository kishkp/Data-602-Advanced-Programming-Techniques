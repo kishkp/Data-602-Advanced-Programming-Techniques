{
 "cells": [
  {
   "cell_type": "markdown",
   "metadata": {
    "nbpresent": {
     "id": "9591cca6-8dfc-40a6-a194-e2c7221a7afd"
    }
   },
   "source": [
    "# Data 602 - Advanced Programming Techniques - Final Project\n",
    "## Kishore Prasad"
   ]
  },
  {
   "cell_type": "markdown",
   "metadata": {
    "nbpresent": {
     "id": "ce8e690c-0147-4a89-9d9d-5f017f394e64"
    }
   },
   "source": [
    "## Overview\n",
    "\n",
    "Auto Insurance is a competetive area. Insurance companies vie with each other to woo customers. Since it is a yearly renewal, they also have to struggle to retain customers. While renewing, there are various considerations: Should this customer be renewed? Should we propose an alternative insurance policy? Should we cross-sell or upsell? etc. Various marketing campaigns are targetted towards customers. Each campaign will have a specific agenda and goal. We should not execute all campaigns for all the customers. Neither will a general campaign work for all the customers. This is not feasibe for the following reasons:\n",
    "\n",
    " - Each customer's needs will be different? A campaign will be more effective if we can address it to the right audience. \n",
    " - It is costly to execute all campaigns for all the customers. This is a waste of efforts as well as money. Also, it will overwhelm the customer while making the right choice.\n",
    " - Too many campaign mails / SMSs etc will might make a customer annoyed and might make the customer churn.\n",
    " \n",
    "That is the reason that a well planned strategy has to be executed to target the right audience. \n",
    "\n",
    "In this project, we will study customer demographic and transaction data to understand whether a customer will respond to a campaign. We will use logistic regression techniques to carry out this analysis. This exercise is primarily aimed at renewal of existing customers.  \n"
   ]
  },
  {
   "cell_type": "code",
   "execution_count": 626,
   "metadata": {
    "collapsed": false
   },
   "outputs": [
    {
     "data": {
      "text/html": [
       "<script>requirejs.config({paths: { 'plotly': ['https://cdn.plot.ly/plotly-latest.min']},});if(!window.Plotly) {{require(['plotly'],function(plotly) {window.Plotly=plotly;});}}</script>"
      ],
      "text/plain": [
       "<IPython.core.display.HTML object>"
      ]
     },
     "metadata": {},
     "output_type": "display_data"
    }
   ],
   "source": [
    "import pandas as pd\n",
    "import numpy as np\n",
    "import matplotlib.pyplot as plt\n",
    "import plotly\n",
    "import plotly.plotly as py\n",
    "import plotly.graph_objs as go\n",
    "import plotly.tools as tools\n",
    "import scipy.stats as stats\n",
    "import statsmodels.api as sm\n",
    "from patsy import dmatrices\n",
    "from sklearn import linear_model\n",
    "from sklearn.linear_model import LogisticRegression\n",
    "from sklearn.feature_selection import f_regression\n",
    "from sklearn.cross_validation import train_test_split\n",
    "from sklearn import metrics\n",
    "from sklearn.cross_validation import cross_val_score\n",
    "from sklearn.metrics import classification_report\n",
    "\n",
    "from plotly.offline import download_plotlyjs, init_notebook_mode, plot, iplot\n",
    "from plotly.graph_objs import *\n",
    "\n",
    "plotly.tools.set_credentials_file(username='kishkp', api_key='DxJQrhnrXYCRF7MdMktU')\n",
    "\n",
    "init_notebook_mode(connected=True) \n",
    "\n",
    "%matplotlib inline\n",
    "\n",
    "from IPython.core.interactiveshell import InteractiveShell\n",
    "InteractiveShell.ast_node_interactivity = \"all\"\n",
    "\n",
    "pd.options.display.max_colwidth = 0\n",
    "plt.style.use('ggplot')"
   ]
  },
  {
   "cell_type": "markdown",
   "metadata": {
    "nbpresent": {
     "id": "af660f26-cd47-428e-bd26-e766130cf314"
    }
   },
   "source": [
    "## Data Exploration Analysis and Data Preparation\n",
    "\n",
    "In section we will explore and gain some insights into the dataset. We will also look at the variable types. Create some descriptive statistics for the variables. We will also transform the data to suit the task at hand. While doing so, we will also create some additional variables / features. Finally, we will do some sort of feature selection to include only those features that might influence the dependent variable ('Response'). \n",
    "\n",
    "The following are some of the activities in this section:\n",
    "\n",
    "- Univariate / Bivariate / Descriptive statistics\n",
    "- Outlier and Missing values treatment\n",
    "- Creating Additional Variables\n",
    "- Feature Selection"
   ]
  },
  {
   "cell_type": "markdown",
   "metadata": {},
   "source": [
    "### Feature / Variable Identification\n",
    "\n",
    "In this section we will have a look at the variables / features that are at our disposal. In addition, we will prepare an outline of the kind of analysis that we will carry out for each of the variable.\n",
    "\n",
    "Below is the list of variables, their properties and the relevant analysis to be carried out:"
   ]
  },
  {
   "cell_type": "code",
   "execution_count": 698,
   "metadata": {
    "collapsed": false,
    "nbpresent": {
     "id": "9b2a9727-f50a-4962-8ca4-76cbb0339ebf"
    }
   },
   "outputs": [
    {
     "data": {
      "text/html": [
       "<div>\n",
       "<table border=\"1\" class=\"dataframe\">\n",
       "  <thead>\n",
       "    <tr style=\"text-align: right;\">\n",
       "      <th></th>\n",
       "      <th>Variable / Feature</th>\n",
       "      <th>Type</th>\n",
       "      <th>Comments Description</th>\n",
       "    </tr>\n",
       "  </thead>\n",
       "  <tbody>\n",
       "    <tr>\n",
       "      <th>0</th>\n",
       "      <td>Response</td>\n",
       "      <td>Dependent Variable - Character</td>\n",
       "      <td>Whether the customer responded to the campaign and signed up for the respective offer. This is the dependent variable to be predicted.</td>\n",
       "    </tr>\n",
       "    <tr>\n",
       "      <th>1</th>\n",
       "      <td>State</td>\n",
       "      <td>Categorical</td>\n",
       "      <td>We will check to see if some states have a higher tendency to subscribe to the offer. If so, we will retain this variable. If not, we will discard the variable.</td>\n",
       "    </tr>\n",
       "    <tr>\n",
       "      <th>2</th>\n",
       "      <td>Coverage</td>\n",
       "      <td>Categorical</td>\n",
       "      <td>What type of coverage is currently enjoyed by the customer. We will look at the frequency distribution and correlation to response to see if this is a variable worth considering.</td>\n",
       "    </tr>\n",
       "    <tr>\n",
       "      <th>3</th>\n",
       "      <td>Education</td>\n",
       "      <td>Categorical</td>\n",
       "      <td>The education level of the customer. We will look at the frequency distribution and correlation to response to see if this is a variable worth considering.</td>\n",
       "    </tr>\n",
       "    <tr>\n",
       "      <th>4</th>\n",
       "      <td>EmploymentStatus</td>\n",
       "      <td>Categorical</td>\n",
       "      <td>Is the person currently employed? We will look at the frequency distribution and correlation to response to see if this is a variable worth considering.</td>\n",
       "    </tr>\n",
       "    <tr>\n",
       "      <th>5</th>\n",
       "      <td>Gender</td>\n",
       "      <td>Categorical</td>\n",
       "      <td>What is the gender of the customer? Does the gender have any impact on the subscription?  We will look at the frequency distribution and correlation to response to see if this is a variable worth considering.</td>\n",
       "    </tr>\n",
       "    <tr>\n",
       "      <th>6</th>\n",
       "      <td>Location Code</td>\n",
       "      <td>Categorical</td>\n",
       "      <td>Are Urban folks more likely to subscribe?  We will look at the frequency distribution and correlation to response to see if this is a variable worth considering.</td>\n",
       "    </tr>\n",
       "    <tr>\n",
       "      <th>7</th>\n",
       "      <td>Marital Status</td>\n",
       "      <td>Categorical</td>\n",
       "      <td>Are Married folks more likely to subscribe?  We will look at the frequency distribution and correlation to response to see if this is a variable worth considering.</td>\n",
       "    </tr>\n",
       "    <tr>\n",
       "      <th>8</th>\n",
       "      <td>Policy Type</td>\n",
       "      <td>Categorical</td>\n",
       "      <td>Does the type of policy impact the campaign response? Are personal policy holders more likely to subscribe?  We will look at the frequency distribution and correlation to response to see if this is a variable worth considering.</td>\n",
       "    </tr>\n",
       "    <tr>\n",
       "      <th>9</th>\n",
       "      <td>Policy</td>\n",
       "      <td>Categorical</td>\n",
       "      <td>Does the level of policy impact the campaign response? We will look at the frequency distribution and correlation to response to see if this is a variable worth considering.</td>\n",
       "    </tr>\n",
       "    <tr>\n",
       "      <th>10</th>\n",
       "      <td>Renew Offer Type</td>\n",
       "      <td>Categorical</td>\n",
       "      <td>Is a particular offer more attractive than the other?  We will look at the frequency distribution and correlation to response to see if this is a variable worth considering.</td>\n",
       "    </tr>\n",
       "    <tr>\n",
       "      <th>11</th>\n",
       "      <td>Sales Channel</td>\n",
       "      <td>Categorical</td>\n",
       "      <td>Is a particular sales channel more likely to lead to a successful response? We will look at the frequency distribution and correlation to response to see if this is a variable worth considering.</td>\n",
       "    </tr>\n",
       "    <tr>\n",
       "      <th>12</th>\n",
       "      <td>Vehicle Class</td>\n",
       "      <td>Categorical</td>\n",
       "      <td>Does the vehicle class impact campaign response?  We will look at the frequency distribution and correlation to response to see if this is a variable worth considering.</td>\n",
       "    </tr>\n",
       "    <tr>\n",
       "      <th>13</th>\n",
       "      <td>Vehicle Size</td>\n",
       "      <td>Categorical</td>\n",
       "      <td>Does the vehicle size impact campaign response?  We will look at the frequency distribution and correlation to response to see if this is a variable worth considering.</td>\n",
       "    </tr>\n",
       "    <tr>\n",
       "      <th>14</th>\n",
       "      <td>Effective To Date</td>\n",
       "      <td>Date</td>\n",
       "      <td>Till when is the current policy covered. We will also generate some additional derived variables from this variable to see the impact. Is the customer in a hurry to sign up. Does the age of the current policy have an impact on the campaign response? We will do some exploration to see if this variable is useful.</td>\n",
       "    </tr>\n",
       "    <tr>\n",
       "      <th>15</th>\n",
       "      <td>Customer Lifetime Value</td>\n",
       "      <td>Numeric</td>\n",
       "      <td>What is the value generated by the customer for the insurance company. We will bin this variable to see if a customer with higher LTV is more loyal to the company and subscribes more or if it is otherwise.</td>\n",
       "    </tr>\n",
       "    <tr>\n",
       "      <th>16</th>\n",
       "      <td>Income</td>\n",
       "      <td>Numeric</td>\n",
       "      <td>Does a higher income indicate a successful campaign response. Is there a pattern to find here?. We will try binning this variable to see if we can get more predictive power. We will look at the frequency distribution / histograms and correlation to response to see if this is a variable worth considering.</td>\n",
       "    </tr>\n",
       "    <tr>\n",
       "      <th>17</th>\n",
       "      <td>Monthly Premium Auto</td>\n",
       "      <td>Numeric</td>\n",
       "      <td>Is there a pattern here? We will look at the histograms and/or create binned variables to see if this variable is useful for prediction.</td>\n",
       "    </tr>\n",
       "    <tr>\n",
       "      <th>18</th>\n",
       "      <td>Months Since Last Claim</td>\n",
       "      <td>Numeric</td>\n",
       "      <td>Is there a pattern here? We will look at the histograms and/or create binned variables to see if this variable is useful for prediction.</td>\n",
       "    </tr>\n",
       "    <tr>\n",
       "      <th>19</th>\n",
       "      <td>Months Since Policy Inception</td>\n",
       "      <td>Numeric</td>\n",
       "      <td>Is there a pattern here? We will look at the histograms and/or create binned variables to see if this variable is useful for prediction.</td>\n",
       "    </tr>\n",
       "    <tr>\n",
       "      <th>20</th>\n",
       "      <td>Number of Open Complaints</td>\n",
       "      <td>Numeric</td>\n",
       "      <td>Is there a pattern here? We will look at the histograms and/or create binned variables to see if this variable is useful for prediction.</td>\n",
       "    </tr>\n",
       "    <tr>\n",
       "      <th>21</th>\n",
       "      <td>Number of Policies</td>\n",
       "      <td>Numeric</td>\n",
       "      <td>Is there a pattern here? We will look at the histograms and/or create binned variables to see if this variable is useful for prediction.</td>\n",
       "    </tr>\n",
       "    <tr>\n",
       "      <th>22</th>\n",
       "      <td>Total Claim Amount</td>\n",
       "      <td>Numeric</td>\n",
       "      <td>Does the Total claim amount impact campaign response. Is there a pattern to find here?. We will try binning this variable to see if we can get more predictive power. We will look at the frequency distribution / histograms and correlation to response to see if this is a variable worth considering.</td>\n",
       "    </tr>\n",
       "  </tbody>\n",
       "</table>\n",
       "</div>"
      ],
      "text/plain": [
       "               Variable / Feature                            Type  \\\n",
       "0   Response                       Dependent Variable - Character   \n",
       "1   State                          Categorical                      \n",
       "2   Coverage                       Categorical                      \n",
       "3   Education                      Categorical                      \n",
       "4   EmploymentStatus               Categorical                      \n",
       "5   Gender                         Categorical                      \n",
       "6   Location Code                  Categorical                      \n",
       "7   Marital Status                 Categorical                      \n",
       "8   Policy Type                    Categorical                      \n",
       "9   Policy                         Categorical                      \n",
       "10  Renew Offer Type               Categorical                      \n",
       "11  Sales Channel                  Categorical                      \n",
       "12  Vehicle Class                  Categorical                      \n",
       "13  Vehicle Size                   Categorical                      \n",
       "14  Effective To Date              Date                             \n",
       "15  Customer Lifetime Value        Numeric                          \n",
       "16  Income                         Numeric                          \n",
       "17  Monthly Premium Auto           Numeric                          \n",
       "18  Months Since Last Claim        Numeric                          \n",
       "19  Months Since Policy Inception  Numeric                          \n",
       "20  Number of Open Complaints      Numeric                          \n",
       "21  Number of Policies             Numeric                          \n",
       "22  Total Claim Amount             Numeric                          \n",
       "\n",
       "                                                                                                                                                                                                                                                                                                        Comments Description   \n",
       "0   Whether the customer responded to the campaign and signed up for the respective offer. This is the dependent variable to be predicted.                                                                                                                                                                                     \n",
       "1   We will check to see if some states have a higher tendency to subscribe to the offer. If so, we will retain this variable. If not, we will discard the variable.                                                                                                                                                           \n",
       "2   What type of coverage is currently enjoyed by the customer. We will look at the frequency distribution and correlation to response to see if this is a variable worth considering.                                                                                                                                         \n",
       "3   The education level of the customer. We will look at the frequency distribution and correlation to response to see if this is a variable worth considering.                                                                                                                                                                \n",
       "4   Is the person currently employed? We will look at the frequency distribution and correlation to response to see if this is a variable worth considering.                                                                                                                                                                   \n",
       "5   What is the gender of the customer? Does the gender have any impact on the subscription?  We will look at the frequency distribution and correlation to response to see if this is a variable worth considering.                                                                                                           \n",
       "6   Are Urban folks more likely to subscribe?  We will look at the frequency distribution and correlation to response to see if this is a variable worth considering.                                                                                                                                                          \n",
       "7   Are Married folks more likely to subscribe?  We will look at the frequency distribution and correlation to response to see if this is a variable worth considering.                                                                                                                                                        \n",
       "8   Does the type of policy impact the campaign response? Are personal policy holders more likely to subscribe?  We will look at the frequency distribution and correlation to response to see if this is a variable worth considering.                                                                                        \n",
       "9   Does the level of policy impact the campaign response? We will look at the frequency distribution and correlation to response to see if this is a variable worth considering.                                                                                                                                              \n",
       "10  Is a particular offer more attractive than the other?  We will look at the frequency distribution and correlation to response to see if this is a variable worth considering.                                                                                                                                              \n",
       "11  Is a particular sales channel more likely to lead to a successful response? We will look at the frequency distribution and correlation to response to see if this is a variable worth considering.                                                                                                                         \n",
       "12  Does the vehicle class impact campaign response?  We will look at the frequency distribution and correlation to response to see if this is a variable worth considering.                                                                                                                                                   \n",
       "13  Does the vehicle size impact campaign response?  We will look at the frequency distribution and correlation to response to see if this is a variable worth considering.                                                                                                                                                    \n",
       "14  Till when is the current policy covered. We will also generate some additional derived variables from this variable to see the impact. Is the customer in a hurry to sign up. Does the age of the current policy have an impact on the campaign response? We will do some exploration to see if this variable is useful.   \n",
       "15  What is the value generated by the customer for the insurance company. We will bin this variable to see if a customer with higher LTV is more loyal to the company and subscribes more or if it is otherwise.                                                                                                              \n",
       "16  Does a higher income indicate a successful campaign response. Is there a pattern to find here?. We will try binning this variable to see if we can get more predictive power. We will look at the frequency distribution / histograms and correlation to response to see if this is a variable worth considering.          \n",
       "17  Is there a pattern here? We will look at the histograms and/or create binned variables to see if this variable is useful for prediction.                                                                                                                                                                                   \n",
       "18  Is there a pattern here? We will look at the histograms and/or create binned variables to see if this variable is useful for prediction.                                                                                                                                                                                   \n",
       "19  Is there a pattern here? We will look at the histograms and/or create binned variables to see if this variable is useful for prediction.                                                                                                                                                                                   \n",
       "20  Is there a pattern here? We will look at the histograms and/or create binned variables to see if this variable is useful for prediction.                                                                                                                                                                                   \n",
       "21  Is there a pattern here? We will look at the histograms and/or create binned variables to see if this variable is useful for prediction.                                                                                                                                                                                   \n",
       "22  Does the Total claim amount impact campaign response. Is there a pattern to find here?. We will try binning this variable to see if we can get more predictive power. We will look at the frequency distribution / histograms and correlation to response to see if this is a variable worth considering.                  "
      ]
     },
     "execution_count": 698,
     "metadata": {},
     "output_type": "execute_result"
    }
   ],
   "source": [
    "file = \"https://raw.githubusercontent.com/kishkp/Data-602-Advanced-Programming-Techniques/master/Project1_desc.csv\"\n",
    "df = pd.read_csv(file)\n",
    "df"
   ]
  },
  {
   "cell_type": "markdown",
   "metadata": {},
   "source": [
    "From the table above, we can see that we have quite a few categorical and Numeric variables. The \"Response\" variable is dichotomous with \"Yes\" and \"No\" as the values and it is the dependent variable. We will be predicting for this variable.\n",
    "\n",
    "The following analysis will be carried out for the various features / variables:\n",
    "\n",
    "- Categorical : We will create bar plots / frequency tables for each of the categorical variables to understand the distribution of these variables in the data. In addition, we will use chi-square test to determine if these variables have a statistically significant relationship with the \"Response\" variable.\n",
    "\n",
    "- Numerical : We will have a look at the histogram to see if the data is normally distributed. If not, we will look at carrying out some transformations.   \n"
   ]
  },
  {
   "cell_type": "code",
   "execution_count": 699,
   "metadata": {
    "collapsed": false
   },
   "outputs": [],
   "source": [
    "file = \"https://raw.githubusercontent.com/kishkp/Data-602-Advanced-Programming-Techniques/master/WA_Fn-UseC_-Marketing-Customer-Value-Analysis.csv\"\n",
    "data = pd.read_csv(file)\n",
    "data.columns = ['Customer','State','CustomerLifetimeValue','Response','Coverage','Education','EffectiveToDate','EmploymentStatus',\n",
    "'Gender','Income','LocationCode','MaritalStatus', 'MonthlyPremiumAuto','MonthsSinceLastClaim', 'MonthsSincePolicyInception','NumberofOpenComplaints',\n",
    "'NumberofPolicies','PolicyType','Policy','RenewOfferType', 'SalesChannel','TotalClaimAmount','VehicleClass', 'VehicleSize'] \n"
   ]
  },
  {
   "cell_type": "markdown",
   "metadata": {},
   "source": [
    "### Univariate / BiVariate / Descriptive Statistics"
   ]
  },
  {
   "cell_type": "markdown",
   "metadata": {},
   "source": [
    "#### Categorical Variables"
   ]
  },
  {
   "cell_type": "markdown",
   "metadata": {},
   "source": [
    "##### Customer\n",
    "\n",
    "We discard the \"customer\" variable as it is a row identifier and does not add any value to the outcome."
   ]
  },
  {
   "cell_type": "code",
   "execution_count": 131,
   "metadata": {
    "collapsed": false
   },
   "outputs": [],
   "source": [
    "# data.drop('Customer', axis=1, inplace=True)"
   ]
  },
  {
   "cell_type": "markdown",
   "metadata": {},
   "source": [
    "##### State\n",
    "\n",
    "We will check to see if some states have a higher tendency to subscribe to the offer. If so, we will retain this variable. If not, we will discard the variable."
   ]
  },
  {
   "cell_type": "code",
   "execution_count": 5,
   "metadata": {
    "collapsed": false
   },
   "outputs": [
    {
     "name": "stdout",
     "output_type": "stream",
     "text": [
      "This is the format of your plot grid:\n",
      "[ (1,1) x1,y1 ]  [ (1,2) x2,y2 ]\n",
      "\n"
     ]
    },
    {
     "data": {
      "text/html": [
       "<iframe id=\"igraph\" scrolling=\"no\" style=\"border:none;\" seamless=\"seamless\" src=\"https://plot.ly/~kishkp/236.embed\" height=\"525px\" width=\"100%\"></iframe>"
      ],
      "text/plain": [
       "<plotly.tools.PlotlyDisplay object>"
      ]
     },
     "execution_count": 5,
     "metadata": {},
     "output_type": "execute_result"
    }
   ],
   "source": [
    "# show box_plots\n",
    "\n",
    "# Get the data for the 2 response types of 'Yes'  and 'No'\n",
    "x_0 = data.State.unique()\n",
    "y_0 = data[(data[\"Response\"] == 'Yes')].State.value_counts()\n",
    "y_1 = data[(data[\"Response\"] == 'No')].State.value_counts()\n",
    "\n",
    "# Create the percentage of the total \n",
    "totals = y_0 + y_1\n",
    "\n",
    "y_2 = y_0 / totals\n",
    "y_3 = y_1 / totals\n",
    "\n",
    "# Assign each bar with the respective series\n",
    "trace1 = Bar(x=x_0, y=y_0, name = 'Response = Yes',)\n",
    "trace2 = Bar(x=x_0,y=y_1, name = 'Response = No',)\n",
    "trace3 = Bar(x=x_0, y=y_2, name = 'Response = Yes',)\n",
    "trace4 = Bar(x=x_0,y=y_3,  name = 'Response = No',)\n",
    "\n",
    "# Make subplots and add the series to the respective sub-plots\n",
    "fig = tools.make_subplots(1, 2)\n",
    "fig.append_trace(trace1, 1, 1)\n",
    "fig.append_trace(trace2, 1, 1)\n",
    "fig.append_trace(trace3, 1, 2)\n",
    "fig.append_trace(trace4, 1, 2)\n",
    "\n",
    "# Make the layout as 'Stack'\n",
    "fig['layout'].update(barmode='stack')\n",
    "py.iplot(fig)\n"
   ]
  },
  {
   "cell_type": "code",
   "execution_count": 286,
   "metadata": {
    "collapsed": false
   },
   "outputs": [
    {
     "data": {
      "text/html": [
       "<div>\n",
       "<table border=\"1\" class=\"dataframe\">\n",
       "  <thead>\n",
       "    <tr style=\"text-align: right;\">\n",
       "      <th>Response</th>\n",
       "      <th>No</th>\n",
       "      <th>Yes</th>\n",
       "    </tr>\n",
       "    <tr>\n",
       "      <th>State</th>\n",
       "      <th></th>\n",
       "      <th></th>\n",
       "    </tr>\n",
       "  </thead>\n",
       "  <tbody>\n",
       "    <tr>\n",
       "      <th>Arizona</th>\n",
       "      <td>1460</td>\n",
       "      <td>243</td>\n",
       "    </tr>\n",
       "    <tr>\n",
       "      <th>California</th>\n",
       "      <td>2694</td>\n",
       "      <td>456</td>\n",
       "    </tr>\n",
       "    <tr>\n",
       "      <th>Nevada</th>\n",
       "      <td>758</td>\n",
       "      <td>124</td>\n",
       "    </tr>\n",
       "    <tr>\n",
       "      <th>Oregon</th>\n",
       "      <td>2225</td>\n",
       "      <td>376</td>\n",
       "    </tr>\n",
       "    <tr>\n",
       "      <th>Washington</th>\n",
       "      <td>689</td>\n",
       "      <td>109</td>\n",
       "    </tr>\n",
       "  </tbody>\n",
       "</table>\n",
       "</div>"
      ],
      "text/plain": [
       "Response      No  Yes\n",
       "State                \n",
       "Arizona     1460  243\n",
       "California  2694  456\n",
       "Nevada      758   124\n",
       "Oregon      2225  376\n",
       "Washington  689   109"
      ]
     },
     "execution_count": 286,
     "metadata": {},
     "output_type": "execute_result"
    },
    {
     "data": {
      "text/plain": [
       "(0.43847752995883232,\n",
       " 0.97920715123356927,\n",
       " 4L,\n",
       " array([[ 1459.1283118 ,   243.8716882 ],\n",
       "        [ 2698.91613751,   451.08386249],\n",
       "        [  755.6965185 ,   126.3034815 ],\n",
       "        [ 2228.53361069,   372.46638931],\n",
       "        [  683.7254215 ,   114.2745785 ]]))"
      ]
     },
     "execution_count": 286,
     "metadata": {},
     "output_type": "execute_result"
    }
   ],
   "source": [
    "# Perform chi-sq test for independence\n",
    "\n",
    "# create a cross tab from the data\n",
    "cross_tab = pd.crosstab(data.State, data.Response, margins = False)\n",
    "cross_tab\n",
    "\n",
    "# show chi-sq statistics -  A high p-value ( > 0.05) indicates that the variables are independent.\n",
    "chi_Sq_res = stats.chi2_contingency(observed= cross_tab)\n",
    "chi_Sq_res\n",
    "\n",
    "# UNUSED - split the chi-sq statistics into the respective components for further use if any.\n",
    "chi_sq_stat = chi_Sq_res[0]\n",
    "p_val = chi_Sq_res[1]\n",
    "deg_free = chi_Sq_res[2]\n",
    "exp_counts = chi_Sq_res[3]\n",
    "\n",
    "#data.drop('State', axis=1, inplace=True)"
   ]
  },
  {
   "cell_type": "markdown",
   "metadata": {},
   "source": [
    "From the 100 percent stacked bar, it is clear that 'Response' variable is not dependent on 'State'. We do not see any variation in the \"Response\" based on the change in \"State\". The high p-value (0.9792)from the chi-square test of independence confirms this. \n",
    "\n",
    "Hence, we go ahead and exclude \"state\" from the analysis."
   ]
  },
  {
   "cell_type": "markdown",
   "metadata": {},
   "source": [
    "##### Coverage\n",
    "\n",
    "What type of coverage is currently enjoyed by the customer. We will look at the frequency distribution and correlation to response to see if this is a variable worth considering.\n",
    "\n"
   ]
  },
  {
   "cell_type": "code",
   "execution_count": 556,
   "metadata": {
    "collapsed": false,
    "scrolled": false
   },
   "outputs": [
    {
     "name": "stdout",
     "output_type": "stream",
     "text": [
      "This is the format of your plot grid:\n",
      "[ (1,1) x1,y1 ]  [ (1,2) x2,y2 ]\n",
      "\n"
     ]
    },
    {
     "data": {
      "text/html": [
       "<iframe id=\"igraph\" scrolling=\"no\" style=\"border:none;\" seamless=\"seamless\" src=\"https://plot.ly/~kishkp/254.embed\" height=\"525px\" width=\"100%\"></iframe>"
      ],
      "text/plain": [
       "<plotly.tools.PlotlyDisplay object>"
      ]
     },
     "execution_count": 556,
     "metadata": {},
     "output_type": "execute_result"
    }
   ],
   "source": [
    "# show box_plots\n",
    "\n",
    "x_0 = data.Coverage.unique()\n",
    "y_0 = data[(data[\"Response\"] == 'Yes')].Coverage.value_counts()\n",
    "y_1 = data[(data[\"Response\"] == 'No')].Coverage.value_counts()\n",
    "\n",
    "totals = y_0 + y_1\n",
    "\n",
    "# Create the percentage of the total \n",
    "y_2 = y_0 / totals\n",
    "y_3 = y_1 / totals\n",
    "\n",
    "trace1 = Bar(x=x_0, y=y_0,  name = 'Response = Yes',)\n",
    "trace2 = Bar(x=x_0,y=y_1,  name = 'Response = No',)\n",
    "trace3 = Bar(x=x_0, y=y_2,  name = 'Response = Yes',)\n",
    "trace4 = Bar(x=x_0,y=y_3,  name = 'Response = No',)\n",
    "\n",
    "fig = tools.make_subplots(1, 2)\n",
    "fig.append_trace(trace1, 1, 1)\n",
    "fig.append_trace(trace2, 1, 1)\n",
    "fig.append_trace(trace3, 1, 2)\n",
    "fig.append_trace(trace4, 1, 2)\n",
    "\n",
    "fig['layout'].update(barmode='stack')\n",
    "py.iplot(fig)\n"
   ]
  },
  {
   "cell_type": "code",
   "execution_count": 287,
   "metadata": {
    "collapsed": false
   },
   "outputs": [
    {
     "data": {
      "text/html": [
       "<div>\n",
       "<table border=\"1\" class=\"dataframe\">\n",
       "  <thead>\n",
       "    <tr style=\"text-align: right;\">\n",
       "      <th>Response</th>\n",
       "      <th>No</th>\n",
       "      <th>Yes</th>\n",
       "    </tr>\n",
       "    <tr>\n",
       "      <th>Coverage</th>\n",
       "      <th></th>\n",
       "      <th></th>\n",
       "    </tr>\n",
       "  </thead>\n",
       "  <tbody>\n",
       "    <tr>\n",
       "      <th>Basic</th>\n",
       "      <td>4770</td>\n",
       "      <td>798</td>\n",
       "    </tr>\n",
       "    <tr>\n",
       "      <th>Extended</th>\n",
       "      <td>2352</td>\n",
       "      <td>390</td>\n",
       "    </tr>\n",
       "    <tr>\n",
       "      <th>Premium</th>\n",
       "      <td>704</td>\n",
       "      <td>120</td>\n",
       "    </tr>\n",
       "  </tbody>\n",
       "</table>\n",
       "</div>"
      ],
      "text/plain": [
       "Response    No  Yes\n",
       "Coverage           \n",
       "Basic     4770  798\n",
       "Extended  2352  390\n",
       "Premium   704   120"
      ]
     },
     "execution_count": 287,
     "metadata": {},
     "output_type": "execute_result"
    },
    {
     "data": {
      "text/plain": [
       "(0.061276542077876382,\n",
       " 0.96982632390239099,\n",
       " 2L,\n",
       " array([[ 4770.65557259,   797.34442741],\n",
       "        [ 2349.34223779,   392.65776221],\n",
       "        [  706.00218962,   117.99781038]]))"
      ]
     },
     "execution_count": 287,
     "metadata": {},
     "output_type": "execute_result"
    }
   ],
   "source": [
    "# Perform chi-sq test for independence \n",
    "cross_tab = pd.crosstab(data.Coverage, data.Response, margins = False)\n",
    "cross_tab\n",
    "\n",
    "\n",
    "chi_Sq_res = stats.chi2_contingency(observed= cross_tab)\n",
    "chi_Sq_res\n",
    "\n",
    "chi_sq_stat = chi_Sq_res[0]\n",
    "p_val = chi_Sq_res[1]\n",
    "deg_free = chi_Sq_res[2]\n",
    "exp_counts = chi_Sq_res[3]\n",
    "\n"
   ]
  },
  {
   "cell_type": "markdown",
   "metadata": {
    "collapsed": true
   },
   "source": [
    "From the 100 percent stacked bar, it is clear that 'Response' variable is not dependent on 'Coverage'. We do not see any variation in the \"Response\" based on the change in \"Coverage\". The high p-value (0.9698) from the chi-square test of independence confirms this. \n",
    "\n",
    "Hence, we go ahead and exclude \"Coverage\" from the analysis as well."
   ]
  },
  {
   "cell_type": "markdown",
   "metadata": {},
   "source": [
    "##### Education\t\n",
    "\n",
    "The variable denotes the education level of the customer. We will look at the frequency distribution and correlation to response to see if this is a variable worth considering.\n"
   ]
  },
  {
   "cell_type": "code",
   "execution_count": 9,
   "metadata": {
    "collapsed": false,
    "scrolled": false
   },
   "outputs": [
    {
     "name": "stdout",
     "output_type": "stream",
     "text": [
      "This is the format of your plot grid:\n",
      "[ (1,1) x1,y1 ]  [ (1,2) x2,y2 ]\n",
      "\n"
     ]
    },
    {
     "data": {
      "text/html": [
       "<iframe id=\"igraph\" scrolling=\"no\" style=\"border:none;\" seamless=\"seamless\" src=\"https://plot.ly/~kishkp/240.embed\" height=\"525px\" width=\"100%\"></iframe>"
      ],
      "text/plain": [
       "<plotly.tools.PlotlyDisplay object>"
      ]
     },
     "execution_count": 9,
     "metadata": {},
     "output_type": "execute_result"
    }
   ],
   "source": [
    "# show box_plots\n",
    "\n",
    "x_0 = data.Education.unique()\n",
    "y_0 = data[(data[\"Response\"] == 'Yes')].Education.value_counts()\n",
    "y_1 = data[(data[\"Response\"] == 'No')].Education.value_counts()\n",
    "\n",
    "totals = y_0 + y_1\n",
    "\n",
    "# Create the percentage of the total \n",
    "y_2 = y_0 / totals\n",
    "y_3 = y_1 / totals\n",
    "\n",
    "trace1 = Bar(x=x_0, y=y_0,  name = 'Response = Yes',)\n",
    "trace2 = Bar(x=x_0,y=y_1,  name = 'Response = No',)\n",
    "trace3 = Bar(x=x_0, y=y_2,  name = 'Response = Yes',)\n",
    "trace4 = Bar(x=x_0,y=y_3,  name = 'Response = No',)\n",
    "\n",
    "fig = tools.make_subplots(1, 2)\n",
    "fig.append_trace(trace1, 1, 1)\n",
    "fig.append_trace(trace2, 1, 1)\n",
    "fig.append_trace(trace3, 1, 2)\n",
    "fig.append_trace(trace4, 1, 2)\n",
    "\n",
    "fig['layout'].update(barmode='stack')\n",
    "py.iplot(fig)\n"
   ]
  },
  {
   "cell_type": "code",
   "execution_count": 288,
   "metadata": {
    "collapsed": false
   },
   "outputs": [
    {
     "data": {
      "text/html": [
       "<div>\n",
       "<table border=\"1\" class=\"dataframe\">\n",
       "  <thead>\n",
       "    <tr style=\"text-align: right;\">\n",
       "      <th>Response</th>\n",
       "      <th>No</th>\n",
       "      <th>Yes</th>\n",
       "    </tr>\n",
       "    <tr>\n",
       "      <th>Education</th>\n",
       "      <th></th>\n",
       "      <th></th>\n",
       "    </tr>\n",
       "  </thead>\n",
       "  <tbody>\n",
       "    <tr>\n",
       "      <th>Bachelor</th>\n",
       "      <td>2370</td>\n",
       "      <td>378</td>\n",
       "    </tr>\n",
       "    <tr>\n",
       "      <th>College</th>\n",
       "      <td>2273</td>\n",
       "      <td>408</td>\n",
       "    </tr>\n",
       "    <tr>\n",
       "      <th>Doctor</th>\n",
       "      <td>282</td>\n",
       "      <td>60</td>\n",
       "    </tr>\n",
       "    <tr>\n",
       "      <th>High School or Below</th>\n",
       "      <td>2280</td>\n",
       "      <td>342</td>\n",
       "    </tr>\n",
       "    <tr>\n",
       "      <th>Master</th>\n",
       "      <td>621</td>\n",
       "      <td>120</td>\n",
       "    </tr>\n",
       "  </tbody>\n",
       "</table>\n",
       "</div>"
      ],
      "text/plain": [
       "Response                No  Yes\n",
       "Education                      \n",
       "Bachelor              2370  378\n",
       "College               2273  408\n",
       "Doctor                282   60 \n",
       "High School or Below  2280  342\n",
       "Master                621   120"
      ]
     },
     "execution_count": 288,
     "metadata": {},
     "output_type": "execute_result"
    },
    {
     "data": {
      "text/plain": [
       "(10.977692567761025,\n",
       " 0.026815866387950998,\n",
       " 4L,\n",
       " array([[ 2354.48303044,   393.51696956],\n",
       "        [ 2297.07751259,   383.92248741],\n",
       "        [  293.02518064,    48.97481936],\n",
       "        [ 2246.52638494,   375.47361506],\n",
       "        [  634.88789139,   106.11210861]]))"
      ]
     },
     "execution_count": 288,
     "metadata": {},
     "output_type": "execute_result"
    }
   ],
   "source": [
    "# Perform chi-sq test for independence \n",
    "cross_tab = pd.crosstab(data.Education, data.Response, margins = False)\n",
    "cross_tab\n",
    "\n",
    "\n",
    "chi_Sq_res = stats.chi2_contingency(observed= cross_tab)\n",
    "chi_Sq_res\n",
    "\n",
    "chi_sq_stat = chi_Sq_res[0]\n",
    "p_val = chi_Sq_res[1]\n",
    "deg_free = chi_Sq_res[2]\n",
    "exp_counts = chi_Sq_res[3]"
   ]
  },
  {
   "cell_type": "markdown",
   "metadata": {
    "collapsed": true
   },
   "source": [
    "From the 100 percent stacked bar, 'Response' variable seems to have a variation between the various education levels. A low p-value (0.0268) from the chi-square test of independence confirms this. \n",
    "\n",
    "We will retain this variable for further analysis. However, we will 'dummify' this categorical variable and remove the original variable.\n"
   ]
  },
  {
   "cell_type": "code",
   "execution_count": 289,
   "metadata": {
    "collapsed": false
   },
   "outputs": [],
   "source": [
    "data = data.join(pd.get_dummies(data['Education'], prefix='Education').ix[:, 1:])\n"
   ]
  },
  {
   "cell_type": "markdown",
   "metadata": {},
   "source": [
    "##### EmploymentStatus\t\n",
    "\n",
    "Is the person currently employed? We will look at the frequency distribution and correlation to response to see if this is a variable worth considering.\n"
   ]
  },
  {
   "cell_type": "code",
   "execution_count": 12,
   "metadata": {
    "collapsed": false,
    "scrolled": false
   },
   "outputs": [
    {
     "name": "stdout",
     "output_type": "stream",
     "text": [
      "This is the format of your plot grid:\n",
      "[ (1,1) x1,y1 ]  [ (1,2) x2,y2 ]\n",
      "\n"
     ]
    },
    {
     "data": {
      "text/html": [
       "<iframe id=\"igraph\" scrolling=\"no\" style=\"border:none;\" seamless=\"seamless\" src=\"https://plot.ly/~kishkp/242.embed\" height=\"525px\" width=\"100%\"></iframe>"
      ],
      "text/plain": [
       "<plotly.tools.PlotlyDisplay object>"
      ]
     },
     "execution_count": 12,
     "metadata": {},
     "output_type": "execute_result"
    }
   ],
   "source": [
    "# show box_plots\n",
    "\n",
    "x_0 = data.EmploymentStatus.unique()\n",
    "y_0 = data[(data[\"Response\"] == 'Yes')].EmploymentStatus.value_counts()\n",
    "y_1 = data[(data[\"Response\"] == 'No')].EmploymentStatus.value_counts()\n",
    "\n",
    "totals = y_0 + y_1\n",
    "\n",
    "# Create the percentage of the total \n",
    "y_2 = y_0 / totals\n",
    "y_3 = y_1 / totals\n",
    "\n",
    "trace1 = Bar(x=x_0, y=y_0,  name = 'Response = Yes',)\n",
    "trace2 = Bar(x=x_0,y=y_1,  name = 'Response = No',)\n",
    "trace3 = Bar(x=x_0, y=y_2,  name = 'Response = Yes',)\n",
    "trace4 = Bar(x=x_0,y=y_3,  name = 'Response = No',)\n",
    "\n",
    "fig = tools.make_subplots(1, 2)\n",
    "fig.append_trace(trace1, 1, 1)\n",
    "fig.append_trace(trace2, 1, 1)\n",
    "fig.append_trace(trace3, 1, 2)\n",
    "fig.append_trace(trace4, 1, 2)\n",
    "\n",
    "fig['layout'].update(barmode='stack')\n",
    "py.iplot(fig)\n",
    "\n"
   ]
  },
  {
   "cell_type": "code",
   "execution_count": 290,
   "metadata": {
    "collapsed": false
   },
   "outputs": [
    {
     "data": {
      "text/html": [
       "<div>\n",
       "<table border=\"1\" class=\"dataframe\">\n",
       "  <thead>\n",
       "    <tr style=\"text-align: right;\">\n",
       "      <th>Response</th>\n",
       "      <th>No</th>\n",
       "      <th>Yes</th>\n",
       "    </tr>\n",
       "    <tr>\n",
       "      <th>EmploymentStatus</th>\n",
       "      <th></th>\n",
       "      <th></th>\n",
       "    </tr>\n",
       "  </thead>\n",
       "  <tbody>\n",
       "    <tr>\n",
       "      <th>Disabled</th>\n",
       "      <td>333</td>\n",
       "      <td>72</td>\n",
       "    </tr>\n",
       "    <tr>\n",
       "      <th>Employed</th>\n",
       "      <td>4942</td>\n",
       "      <td>756</td>\n",
       "    </tr>\n",
       "    <tr>\n",
       "      <th>Medical Leave</th>\n",
       "      <td>354</td>\n",
       "      <td>78</td>\n",
       "    </tr>\n",
       "    <tr>\n",
       "      <th>Retired</th>\n",
       "      <td>78</td>\n",
       "      <td>204</td>\n",
       "    </tr>\n",
       "    <tr>\n",
       "      <th>Unemployed</th>\n",
       "      <td>2119</td>\n",
       "      <td>198</td>\n",
       "    </tr>\n",
       "  </tbody>\n",
       "</table>\n",
       "</div>"
      ],
      "text/plain": [
       "Response            No  Yes\n",
       "EmploymentStatus           \n",
       "Disabled          333   72 \n",
       "Employed          4942  756\n",
       "Medical Leave     354   78 \n",
       "Retired           78    204\n",
       "Unemployed        2119  198"
      ]
     },
     "execution_count": 290,
     "metadata": {},
     "output_type": "execute_result"
    },
    {
     "data": {
      "text/plain": [
       "(850.69262594458121,\n",
       " 8.0205821207649546e-183,\n",
       " 4L,\n",
       " array([[  347.00350339,    57.99649661],\n",
       "        [ 4882.03941318,   815.96058682],\n",
       "        [  370.13707029,    61.86292971],\n",
       "        [  241.61725422,    40.38274578],\n",
       "        [ 1985.20275892,   331.79724108]]))"
      ]
     },
     "execution_count": 290,
     "metadata": {},
     "output_type": "execute_result"
    }
   ],
   "source": [
    "# Perform chi-sq test for independence \n",
    "cross_tab = pd.crosstab(data.EmploymentStatus, data.Response, margins = False)\n",
    "cross_tab\n",
    "\n",
    "\n",
    "chi_Sq_res = stats.chi2_contingency(observed= cross_tab)\n",
    "chi_Sq_res\n",
    "\n",
    "chi_sq_stat = chi_Sq_res[0]\n",
    "p_val = chi_Sq_res[1]\n",
    "deg_free = chi_Sq_res[2]\n",
    "exp_counts = chi_Sq_res[3]\n"
   ]
  },
  {
   "cell_type": "markdown",
   "metadata": {
    "collapsed": true
   },
   "source": [
    "From the 100 percent stacked bar, 'Response' variable seems to have a significant variation between the various Employment levels. A very low p-value (8.02e-183) from the chi-square test of independence confirms this. \n",
    "\n",
    "We will retain this variable for further analysis. However, we will 'dummify' this categorical variable and remove the original variable.\n"
   ]
  },
  {
   "cell_type": "code",
   "execution_count": 291,
   "metadata": {
    "collapsed": true
   },
   "outputs": [],
   "source": [
    "data = data.join(pd.get_dummies(data['EmploymentStatus'], prefix='EmploymentStatus').ix[:, 1:])\n"
   ]
  },
  {
   "cell_type": "markdown",
   "metadata": {},
   "source": [
    "##### Gender\n",
    "\n",
    "What is the gender of the customer? Does the gender have any impact on the subscription?  We will look at the frequency distribution and correlation to response to see if this is a variable worth considering."
   ]
  },
  {
   "cell_type": "code",
   "execution_count": 15,
   "metadata": {
    "collapsed": false,
    "scrolled": false
   },
   "outputs": [
    {
     "name": "stdout",
     "output_type": "stream",
     "text": [
      "This is the format of your plot grid:\n",
      "[ (1,1) x1,y1 ]  [ (1,2) x2,y2 ]\n",
      "\n"
     ]
    },
    {
     "data": {
      "text/html": [
       "<iframe id=\"igraph\" scrolling=\"no\" style=\"border:none;\" seamless=\"seamless\" src=\"https://plot.ly/~kishkp/244.embed\" height=\"525px\" width=\"100%\"></iframe>"
      ],
      "text/plain": [
       "<plotly.tools.PlotlyDisplay object>"
      ]
     },
     "execution_count": 15,
     "metadata": {},
     "output_type": "execute_result"
    }
   ],
   "source": [
    "# show box_plots\n",
    "\n",
    "x_0 = data.Gender.unique()\n",
    "y_0 = data[(data[\"Response\"] == 'Yes')].Gender.value_counts()\n",
    "y_1 = data[(data[\"Response\"] == 'No')].Gender.value_counts()\n",
    "\n",
    "totals = y_0 + y_1\n",
    "\n",
    "# Create the percentage of the total \n",
    "y_2 = y_0 / totals\n",
    "y_3 = y_1 / totals\n",
    "\n",
    "trace1 = Bar(x=x_0, y=y_0,  name = 'Response = Yes',)\n",
    "trace2 = Bar(x=x_0,y=y_1,  name = 'Response = No',)\n",
    "trace3 = Bar(x=x_0, y=y_2,  name = 'Response = Yes',)\n",
    "trace4 = Bar(x=x_0,y=y_3,  name = 'Response = No',)\n",
    "\n",
    "fig = tools.make_subplots(1, 2)\n",
    "fig.append_trace(trace1, 1, 1)\n",
    "fig.append_trace(trace2, 1, 1)\n",
    "fig.append_trace(trace3, 1, 2)\n",
    "fig.append_trace(trace4, 1, 2)\n",
    "\n",
    "fig['layout'].update(barmode='stack')\n",
    "py.iplot(fig)\n"
   ]
  },
  {
   "cell_type": "code",
   "execution_count": 292,
   "metadata": {
    "collapsed": false
   },
   "outputs": [
    {
     "data": {
      "text/html": [
       "<div>\n",
       "<table border=\"1\" class=\"dataframe\">\n",
       "  <thead>\n",
       "    <tr style=\"text-align: right;\">\n",
       "      <th>Response</th>\n",
       "      <th>No</th>\n",
       "      <th>Yes</th>\n",
       "    </tr>\n",
       "    <tr>\n",
       "      <th>Gender</th>\n",
       "      <th></th>\n",
       "      <th></th>\n",
       "    </tr>\n",
       "  </thead>\n",
       "  <tbody>\n",
       "    <tr>\n",
       "      <th>F</th>\n",
       "      <td>3998</td>\n",
       "      <td>660</td>\n",
       "    </tr>\n",
       "    <tr>\n",
       "      <th>M</th>\n",
       "      <td>3828</td>\n",
       "      <td>648</td>\n",
       "    </tr>\n",
       "  </tbody>\n",
       "</table>\n",
       "</div>"
      ],
      "text/plain": [
       "Response    No  Yes\n",
       "Gender             \n",
       "F         3998  660\n",
       "M         3828  648"
      ]
     },
     "execution_count": 292,
     "metadata": {},
     "output_type": "execute_result"
    },
    {
     "data": {
      "text/plain": [
       "(0.15231640387892736,\n",
       " 0.69633147580094035,\n",
       " 1L,\n",
       " array([[ 3990.96868842,   667.03131158],\n",
       "        [ 3835.03131158,   640.96868842]]))"
      ]
     },
     "execution_count": 292,
     "metadata": {},
     "output_type": "execute_result"
    }
   ],
   "source": [
    "# Perform chi-sq test for independence \n",
    "cross_tab = pd.crosstab(data.Gender, data.Response, margins = False)\n",
    "cross_tab\n",
    "\n",
    "\n",
    "chi_Sq_res = stats.chi2_contingency(observed= cross_tab)\n",
    "chi_Sq_res\n",
    "\n",
    "chi_sq_stat = chi_Sq_res[0]\n",
    "p_val = chi_Sq_res[1]\n",
    "deg_free = chi_Sq_res[2]\n",
    "exp_counts = chi_Sq_res[3]\n",
    "\n"
   ]
  },
  {
   "cell_type": "markdown",
   "metadata": {
    "collapsed": true
   },
   "source": [
    "From the 100 percent stacked bar, it is clear that 'Response' variable is not dependent on 'Gender'. We do not see any variation in the \"Response\" based on the change in \"Gender\". The high p-value (0.6963) from the chi-square test of independence confirms this. \n",
    "\n",
    "Hence, we go ahead and exclude \"Gender\" from the analysis as well."
   ]
  },
  {
   "cell_type": "markdown",
   "metadata": {},
   "source": [
    "##### Location Code\t\n",
    "\n",
    "Are Urban folks more likely to subscribe?  We will look at the frequency distribution and correlation to response to see if this is a variable worth considering.\n"
   ]
  },
  {
   "cell_type": "code",
   "execution_count": 17,
   "metadata": {
    "collapsed": false,
    "scrolled": false
   },
   "outputs": [
    {
     "name": "stdout",
     "output_type": "stream",
     "text": [
      "This is the format of your plot grid:\n",
      "[ (1,1) x1,y1 ]  [ (1,2) x2,y2 ]\n",
      "\n"
     ]
    },
    {
     "data": {
      "text/html": [
       "<iframe id=\"igraph\" scrolling=\"no\" style=\"border:none;\" seamless=\"seamless\" src=\"https://plot.ly/~kishkp/246.embed\" height=\"525px\" width=\"100%\"></iframe>"
      ],
      "text/plain": [
       "<plotly.tools.PlotlyDisplay object>"
      ]
     },
     "execution_count": 17,
     "metadata": {},
     "output_type": "execute_result"
    }
   ],
   "source": [
    "# show box_plots\n",
    "\n",
    "\n",
    "x_0 = data.LocationCode.unique()\n",
    "y_0 = data[(data[\"Response\"] == 'Yes')].LocationCode.value_counts()\n",
    "y_1 = data[(data[\"Response\"] == 'No')].LocationCode.value_counts()\n",
    "\n",
    "totals = y_0 + y_1\n",
    "\n",
    "# Create the percentage of the total \n",
    "y_2 = y_0 / totals\n",
    "y_3 = y_1 / totals\n",
    "\n",
    "trace1 = Bar(x=x_0, y=y_0,  name = 'Response = Yes',)\n",
    "trace2 = Bar(x=x_0,y=y_1,  name = 'Response = No',)\n",
    "trace3 = Bar(x=x_0, y=y_2,  name = 'Response = Yes',)\n",
    "trace4 = Bar(x=x_0,y=y_3,  name = 'Response = No',)\n",
    "\n",
    "fig = tools.make_subplots(1, 2)\n",
    "fig.append_trace(trace1, 1, 1)\n",
    "fig.append_trace(trace2, 1, 1)\n",
    "fig.append_trace(trace3, 1, 2)\n",
    "fig.append_trace(trace4, 1, 2)\n",
    "\n",
    "fig['layout'].update(barmode='stack')\n",
    "py.iplot(fig)\n",
    "\n"
   ]
  },
  {
   "cell_type": "code",
   "execution_count": 293,
   "metadata": {
    "collapsed": false
   },
   "outputs": [
    {
     "data": {
      "text/html": [
       "<div>\n",
       "<table border=\"1\" class=\"dataframe\">\n",
       "  <thead>\n",
       "    <tr style=\"text-align: right;\">\n",
       "      <th>Response</th>\n",
       "      <th>No</th>\n",
       "      <th>Yes</th>\n",
       "    </tr>\n",
       "    <tr>\n",
       "      <th>LocationCode</th>\n",
       "      <th></th>\n",
       "      <th></th>\n",
       "    </tr>\n",
       "  </thead>\n",
       "  <tbody>\n",
       "    <tr>\n",
       "      <th>Rural</th>\n",
       "      <td>1611</td>\n",
       "      <td>162</td>\n",
       "    </tr>\n",
       "    <tr>\n",
       "      <th>Suburban</th>\n",
       "      <td>4771</td>\n",
       "      <td>1008</td>\n",
       "    </tr>\n",
       "    <tr>\n",
       "      <th>Urban</th>\n",
       "      <td>1444</td>\n",
       "      <td>138</td>\n",
       "    </tr>\n",
       "  </tbody>\n",
       "</table>\n",
       "</div>"
      ],
      "text/plain": [
       "Response        No   Yes\n",
       "LocationCode            \n",
       "Rural         1611  162 \n",
       "Suburban      4771  1008\n",
       "Urban         1444  138 "
      ]
     },
     "execution_count": 293,
     "metadata": {},
     "output_type": "execute_result"
    },
    {
     "data": {
      "text/plain": [
       "(125.13009510410569,\n",
       " 6.7351161253195568e-28,\n",
       " 2L,\n",
       " array([[ 1519.10422597,   253.89577403],\n",
       "        [ 4951.44011386,   827.55988614],\n",
       "        [ 1355.45566017,   226.54433983]]))"
      ]
     },
     "execution_count": 293,
     "metadata": {},
     "output_type": "execute_result"
    }
   ],
   "source": [
    "# Perform chi-sq test for independence \n",
    "cross_tab = pd.crosstab(data.LocationCode, data.Response, margins = False)\n",
    "cross_tab\n",
    "\n",
    "\n",
    "chi_Sq_res = stats.chi2_contingency(observed= cross_tab)\n",
    "chi_Sq_res\n",
    "\n",
    "chi_sq_stat = chi_Sq_res[0]\n",
    "p_val = chi_Sq_res[1]\n",
    "deg_free = chi_Sq_res[2]\n",
    "exp_counts = chi_Sq_res[3]"
   ]
  },
  {
   "cell_type": "markdown",
   "metadata": {
    "collapsed": true
   },
   "source": [
    "From the 100 percent stacked bar, 'Response' variable seems to have a variation between the various Locations. A low p-value (6.73e-28) from the chi-square test of independence confirms this. \n",
    "\n",
    "We will retain this variable for further analysis. However, we will 'dummify' this categorical variable and remove the original variable.\n"
   ]
  },
  {
   "cell_type": "code",
   "execution_count": 294,
   "metadata": {
    "collapsed": true
   },
   "outputs": [],
   "source": [
    "data = data.join(pd.get_dummies(data['LocationCode'], prefix='LocationCode').ix[:, 1:])\n"
   ]
  },
  {
   "cell_type": "markdown",
   "metadata": {},
   "source": [
    "##### Marital Status\n",
    "\n",
    "Are Married folks more likely to subscribe?  We will look at the frequency distribution and correlation to response to see if this is a variable worth considering.\n"
   ]
  },
  {
   "cell_type": "code",
   "execution_count": 20,
   "metadata": {
    "collapsed": false,
    "scrolled": false
   },
   "outputs": [
    {
     "name": "stdout",
     "output_type": "stream",
     "text": [
      "This is the format of your plot grid:\n",
      "[ (1,1) x1,y1 ]  [ (1,2) x2,y2 ]\n",
      "\n"
     ]
    },
    {
     "data": {
      "text/html": [
       "<iframe id=\"igraph\" scrolling=\"no\" style=\"border:none;\" seamless=\"seamless\" src=\"https://plot.ly/~kishkp/248.embed\" height=\"525px\" width=\"100%\"></iframe>"
      ],
      "text/plain": [
       "<plotly.tools.PlotlyDisplay object>"
      ]
     },
     "execution_count": 20,
     "metadata": {},
     "output_type": "execute_result"
    }
   ],
   "source": [
    "# show box_plots\n",
    "\n",
    "x_0 = data.MaritalStatus.unique()\n",
    "y_0 = data[(data[\"Response\"] == 'Yes')].MaritalStatus.value_counts()\n",
    "y_1 = data[(data[\"Response\"] == 'No')].MaritalStatus.value_counts()\n",
    "\n",
    "totals = y_0 + y_1\n",
    "\n",
    "# Create the percentage of the total \n",
    "y_2 = y_0 / totals\n",
    "y_3 = y_1 / totals\n",
    "\n",
    "trace1 = Bar(x=x_0, y=y_0,  name = 'Response = Yes',)\n",
    "trace2 = Bar(x=x_0,y=y_1,  name = 'Response = No',)\n",
    "trace3 = Bar(x=x_0, y=y_2,  name = 'Response = Yes',)\n",
    "trace4 = Bar(x=x_0,y=y_3,  name = 'Response = No',)\n",
    "\n",
    "fig = tools.make_subplots(1, 2)\n",
    "fig.append_trace(trace1, 1, 1)\n",
    "fig.append_trace(trace2, 1, 1)\n",
    "fig.append_trace(trace3, 1, 2)\n",
    "fig.append_trace(trace4, 1, 2)\n",
    "\n",
    "fig['layout'].update(barmode='stack')\n",
    "py.iplot(fig)\n",
    "\n"
   ]
  },
  {
   "cell_type": "code",
   "execution_count": 295,
   "metadata": {
    "collapsed": false
   },
   "outputs": [
    {
     "data": {
      "text/html": [
       "<div>\n",
       "<table border=\"1\" class=\"dataframe\">\n",
       "  <thead>\n",
       "    <tr style=\"text-align: right;\">\n",
       "      <th>Response</th>\n",
       "      <th>No</th>\n",
       "      <th>Yes</th>\n",
       "    </tr>\n",
       "    <tr>\n",
       "      <th>MaritalStatus</th>\n",
       "      <th></th>\n",
       "      <th></th>\n",
       "    </tr>\n",
       "  </thead>\n",
       "  <tbody>\n",
       "    <tr>\n",
       "      <th>Divorced</th>\n",
       "      <td>1045</td>\n",
       "      <td>324</td>\n",
       "    </tr>\n",
       "    <tr>\n",
       "      <th>Married</th>\n",
       "      <td>4602</td>\n",
       "      <td>696</td>\n",
       "    </tr>\n",
       "    <tr>\n",
       "      <th>Single</th>\n",
       "      <td>2179</td>\n",
       "      <td>288</td>\n",
       "    </tr>\n",
       "  </tbody>\n",
       "</table>\n",
       "</div>"
      ],
      "text/plain": [
       "Response         No  Yes\n",
       "MaritalStatus           \n",
       "Divorced       1045  324\n",
       "Married        4602  696\n",
       "Single         2179  288"
      ]
     },
     "execution_count": 295,
     "metadata": {},
     "output_type": "execute_result"
    },
    {
     "data": {
      "text/plain": [
       "(117.59875352408642,\n",
       " 2.9090764387287105e-26,\n",
       " 2L,\n",
       " array([[ 1172.95752135,   196.04247865],\n",
       "        [ 4539.31990366,   758.68009634],\n",
       "        [ 2113.72257499,   353.27742501]]))"
      ]
     },
     "execution_count": 295,
     "metadata": {},
     "output_type": "execute_result"
    }
   ],
   "source": [
    "# Perform chi-sq test for independence \n",
    "cross_tab = pd.crosstab(data.MaritalStatus, data.Response, margins = False)\n",
    "cross_tab\n",
    "\n",
    "\n",
    "chi_Sq_res = stats.chi2_contingency(observed= cross_tab)\n",
    "chi_Sq_res\n",
    "\n",
    "chi_sq_stat = chi_Sq_res[0]\n",
    "p_val = chi_Sq_res[1]\n",
    "deg_free = chi_Sq_res[2]\n",
    "exp_counts = chi_Sq_res[3]\n"
   ]
  },
  {
   "cell_type": "markdown",
   "metadata": {
    "collapsed": true
   },
   "source": [
    "From the 100 percent stacked bar, 'Response' variable seems to have a variation between the various Marital Statuses. A low p-value (2.91e-26) from the chi-square test of independence confirms this. \n",
    "\n",
    "We will retain this variable for further analysis. However, we will 'dummify' this categorical variable and remove the original variable.\n",
    "\n"
   ]
  },
  {
   "cell_type": "code",
   "execution_count": 296,
   "metadata": {
    "collapsed": true
   },
   "outputs": [],
   "source": [
    "data = data.join(pd.get_dummies(data['MaritalStatus'], prefix='MaritalStatus').ix[:, 1:])\n"
   ]
  },
  {
   "cell_type": "markdown",
   "metadata": {},
   "source": [
    "##### Policy Type\t\n",
    "\n",
    "Does the type of policy impact the campaign response? Are personal policy holders more likely to subscribe?  We will look at the frequency distribution and correlation to response to see if this is a variable worth considering.\n"
   ]
  },
  {
   "cell_type": "code",
   "execution_count": 23,
   "metadata": {
    "collapsed": false,
    "scrolled": false
   },
   "outputs": [
    {
     "name": "stdout",
     "output_type": "stream",
     "text": [
      "This is the format of your plot grid:\n",
      "[ (1,1) x1,y1 ]  [ (1,2) x2,y2 ]\n",
      "\n"
     ]
    },
    {
     "data": {
      "text/html": [
       "<iframe id=\"igraph\" scrolling=\"no\" style=\"border:none;\" seamless=\"seamless\" src=\"https://plot.ly/~kishkp/250.embed\" height=\"525px\" width=\"100%\"></iframe>"
      ],
      "text/plain": [
       "<plotly.tools.PlotlyDisplay object>"
      ]
     },
     "execution_count": 23,
     "metadata": {},
     "output_type": "execute_result"
    }
   ],
   "source": [
    "# show box_plots\n",
    "\n",
    "x_0 = data.PolicyType.unique()\n",
    "y_0 = data[(data[\"Response\"] == 'Yes')].PolicyType.value_counts()\n",
    "y_1 = data[(data[\"Response\"] == 'No')].PolicyType.value_counts()\n",
    "\n",
    "totals = y_0 + y_1\n",
    "\n",
    "# Create the percentage of the total \n",
    "y_2 = y_0 / totals\n",
    "y_3 = y_1 / totals\n",
    "\n",
    "trace1 = Bar(x=x_0, y=y_0,  name = 'Response = Yes',)\n",
    "trace2 = Bar(x=x_0,y=y_1,  name = 'Response = No',)\n",
    "trace3 = Bar(x=x_0, y=y_2,  name = 'Response = Yes',)\n",
    "trace4 = Bar(x=x_0,y=y_3,  name = 'Response = No',)\n",
    "\n",
    "fig = tools.make_subplots(1, 2)\n",
    "fig.append_trace(trace1, 1, 1)\n",
    "fig.append_trace(trace2, 1, 1)\n",
    "fig.append_trace(trace3, 1, 2)\n",
    "fig.append_trace(trace4, 1, 2)\n",
    "\n",
    "fig['layout'].update(barmode='stack')\n",
    "py.iplot(fig)\n"
   ]
  },
  {
   "cell_type": "code",
   "execution_count": 297,
   "metadata": {
    "collapsed": false
   },
   "outputs": [
    {
     "data": {
      "text/html": [
       "<div>\n",
       "<table border=\"1\" class=\"dataframe\">\n",
       "  <thead>\n",
       "    <tr style=\"text-align: right;\">\n",
       "      <th>Response</th>\n",
       "      <th>No</th>\n",
       "      <th>Yes</th>\n",
       "    </tr>\n",
       "    <tr>\n",
       "      <th>PolicyType</th>\n",
       "      <th></th>\n",
       "      <th></th>\n",
       "    </tr>\n",
       "  </thead>\n",
       "  <tbody>\n",
       "    <tr>\n",
       "      <th>Corporate Auto</th>\n",
       "      <td>1680</td>\n",
       "      <td>288</td>\n",
       "    </tr>\n",
       "    <tr>\n",
       "      <th>Personal Auto</th>\n",
       "      <td>5830</td>\n",
       "      <td>958</td>\n",
       "    </tr>\n",
       "    <tr>\n",
       "      <th>Special Auto</th>\n",
       "      <td>316</td>\n",
       "      <td>62</td>\n",
       "    </tr>\n",
       "  </tbody>\n",
       "</table>\n",
       "</div>"
      ],
      "text/plain": [
       "Response          No  Yes\n",
       "PolicyType               \n",
       "Corporate Auto  1680  288\n",
       "Personal Auto   5830  958\n",
       "Special Auto    316   62 "
      ]
     },
     "execution_count": 297,
     "metadata": {},
     "output_type": "execute_result"
    },
    {
     "data": {
      "text/plain": [
       "(1.7306298294691826,\n",
       " 0.42091897816529777,\n",
       " 2L,\n",
       " array([[ 1686.17998686,   281.82001314],\n",
       "        [ 5815.95007664,   972.04992336],\n",
       "        [  323.8699365 ,    54.1300635 ]]))"
      ]
     },
     "execution_count": 297,
     "metadata": {},
     "output_type": "execute_result"
    }
   ],
   "source": [
    "# Perform chi-sq test for independence \n",
    "cross_tab = pd.crosstab(data.PolicyType, data.Response, margins = False)\n",
    "cross_tab\n",
    "\n",
    "\n",
    "chi_Sq_res = stats.chi2_contingency(observed= cross_tab)\n",
    "chi_Sq_res\n",
    "\n",
    "chi_sq_stat = chi_Sq_res[0]\n",
    "p_val = chi_Sq_res[1]\n",
    "deg_free = chi_Sq_res[2]\n",
    "exp_counts = chi_Sq_res[3]\n",
    "\n"
   ]
  },
  {
   "cell_type": "markdown",
   "metadata": {
    "collapsed": true
   },
   "source": [
    "From the 100 percent stacked bar, we can see a slight variation for 'Special Auto'. However, it is not sufficient influence the \"response\" variable. The high p-value (0.4209) from the chi-square test of independence confirms this. \n",
    "\n",
    "Hence, we go ahead and exclude \"PolicyType\" from the analysis as well."
   ]
  },
  {
   "cell_type": "markdown",
   "metadata": {},
   "source": [
    "##### Policy\t\n",
    "\n",
    "Does the level of policy impact the campaign response? We will look at the frequency distribution and correlation to response to see if this is a variable worth considering.\n"
   ]
  },
  {
   "cell_type": "code",
   "execution_count": 25,
   "metadata": {
    "collapsed": false,
    "scrolled": false
   },
   "outputs": [
    {
     "name": "stdout",
     "output_type": "stream",
     "text": [
      "This is the format of your plot grid:\n",
      "[ (1,1) x1,y1 ]  [ (1,2) x2,y2 ]\n",
      "\n"
     ]
    },
    {
     "data": {
      "text/html": [
       "<iframe id=\"igraph\" scrolling=\"no\" style=\"border:none;\" seamless=\"seamless\" src=\"https://plot.ly/~kishkp/252.embed\" height=\"525px\" width=\"100%\"></iframe>"
      ],
      "text/plain": [
       "<plotly.tools.PlotlyDisplay object>"
      ]
     },
     "execution_count": 25,
     "metadata": {},
     "output_type": "execute_result"
    }
   ],
   "source": [
    "# show box_plots\n",
    "\n",
    "x_0 = data.Policy.unique()\n",
    "y_0 = data[(data[\"Response\"] == 'Yes')].Policy.value_counts()\n",
    "y_1 = data[(data[\"Response\"] == 'No')].Policy.value_counts()\n",
    "\n",
    "totals = y_0 + y_1\n",
    "\n",
    "# Create the percentage of the total \n",
    "y_2 = y_0 / totals\n",
    "y_3 = y_1 / totals\n",
    "\n",
    "trace1 = Bar(x=x_0, y=y_0,  name = 'Response = Yes',)\n",
    "trace2 = Bar(x=x_0,y=y_1,  name = 'Response = No',)\n",
    "trace3 = Bar(x=x_0, y=y_2,  name = 'Response = Yes',)\n",
    "trace4 = Bar(x=x_0,y=y_3,  name = 'Response = No',)\n",
    "\n",
    "fig = tools.make_subplots(1, 2)\n",
    "fig.append_trace(trace1, 1, 1)\n",
    "fig.append_trace(trace2, 1, 1)\n",
    "fig.append_trace(trace3, 1, 2)\n",
    "fig.append_trace(trace4, 1, 2)\n",
    "\n",
    "fig['layout'].update(barmode='stack')\n",
    "py.iplot(fig)\n"
   ]
  },
  {
   "cell_type": "code",
   "execution_count": 298,
   "metadata": {
    "collapsed": false
   },
   "outputs": [
    {
     "data": {
      "text/html": [
       "<div>\n",
       "<table border=\"1\" class=\"dataframe\">\n",
       "  <thead>\n",
       "    <tr style=\"text-align: right;\">\n",
       "      <th>Response</th>\n",
       "      <th>No</th>\n",
       "      <th>Yes</th>\n",
       "    </tr>\n",
       "    <tr>\n",
       "      <th>Policy</th>\n",
       "      <th></th>\n",
       "      <th></th>\n",
       "    </tr>\n",
       "  </thead>\n",
       "  <tbody>\n",
       "    <tr>\n",
       "      <th>Corporate L1</th>\n",
       "      <td>311</td>\n",
       "      <td>48</td>\n",
       "    </tr>\n",
       "    <tr>\n",
       "      <th>Corporate L2</th>\n",
       "      <td>507</td>\n",
       "      <td>88</td>\n",
       "    </tr>\n",
       "    <tr>\n",
       "      <th>Corporate L3</th>\n",
       "      <td>862</td>\n",
       "      <td>152</td>\n",
       "    </tr>\n",
       "    <tr>\n",
       "      <th>Personal L1</th>\n",
       "      <td>1055</td>\n",
       "      <td>185</td>\n",
       "    </tr>\n",
       "    <tr>\n",
       "      <th>Personal L2</th>\n",
       "      <td>1817</td>\n",
       "      <td>305</td>\n",
       "    </tr>\n",
       "    <tr>\n",
       "      <th>Personal L3</th>\n",
       "      <td>2958</td>\n",
       "      <td>468</td>\n",
       "    </tr>\n",
       "    <tr>\n",
       "      <th>Special L1</th>\n",
       "      <td>54</td>\n",
       "      <td>12</td>\n",
       "    </tr>\n",
       "    <tr>\n",
       "      <th>Special L2</th>\n",
       "      <td>145</td>\n",
       "      <td>19</td>\n",
       "    </tr>\n",
       "    <tr>\n",
       "      <th>Special L3</th>\n",
       "      <td>117</td>\n",
       "      <td>31</td>\n",
       "    </tr>\n",
       "  </tbody>\n",
       "</table>\n",
       "</div>"
      ],
      "text/plain": [
       "Response        No  Yes\n",
       "Policy                 \n",
       "Corporate L1  311   48 \n",
       "Corporate L2  507   88 \n",
       "Corporate L3  862   152\n",
       "Personal L1   1055  185\n",
       "Personal L2   1817  305\n",
       "Personal L3   2958  468\n",
       "Special L1    54    12 \n",
       "Special L2    145   19 \n",
       "Special L3    117   31 "
      ]
     },
     "execution_count": 298,
     "metadata": {},
     "output_type": "execute_result"
    },
    {
     "data": {
      "text/plain": [
       "(9.4230219909540036,\n",
       " 0.3078757089264722,\n",
       " 8L,\n",
       " array([[  307.5907598 ,    51.4092402 ],\n",
       "        [  509.79527042,    85.20472958],\n",
       "        [  868.79395665,   145.20604335],\n",
       "        [ 1062.43047953,   177.56952047],\n",
       "        [ 1818.12699803,   303.87300197],\n",
       "        [ 2935.39259908,   490.60740092],\n",
       "        [   56.54871907,     9.45128093],\n",
       "        [  140.51499891,    23.48500109],\n",
       "        [  126.80621852,    21.19378148]]))"
      ]
     },
     "execution_count": 298,
     "metadata": {},
     "output_type": "execute_result"
    }
   ],
   "source": [
    "# Perform chi-sq test for independence \n",
    "cross_tab = pd.crosstab(data.Policy, data.Response, margins = False)\n",
    "cross_tab\n",
    "\n",
    "\n",
    "chi_Sq_res = stats.chi2_contingency(observed= cross_tab)\n",
    "chi_Sq_res\n",
    "\n",
    "chi_sq_stat = chi_Sq_res[0]\n",
    "p_val = chi_Sq_res[1]\n",
    "deg_free = chi_Sq_res[2]\n",
    "exp_counts = chi_Sq_res[3]\n",
    "\n"
   ]
  },
  {
   "cell_type": "markdown",
   "metadata": {
    "collapsed": true
   },
   "source": [
    "There seems to be some variation in \"Response\", especially around 'Special' policies. However, as with PolicyType, it is not sufficient enough to retain the variable. The high p-value (0.3079) from the chi-square test of independence confirms this. \n",
    "\n",
    "Hence, we go ahead and exclude \"Policy\" from the analysis as well."
   ]
  },
  {
   "cell_type": "markdown",
   "metadata": {},
   "source": [
    "##### Renew Offer Type\t\n",
    "\n",
    "Is a particular offer more attractive than the other?  We will look at the frequency distribution and correlation to response to see if this is a variable worth considering.\n"
   ]
  },
  {
   "cell_type": "code",
   "execution_count": 557,
   "metadata": {
    "collapsed": false,
    "scrolled": false
   },
   "outputs": [
    {
     "name": "stdout",
     "output_type": "stream",
     "text": [
      "This is the format of your plot grid:\n",
      "[ (1,1) x1,y1 ]  [ (1,2) x2,y2 ]\n",
      "\n"
     ]
    },
    {
     "data": {
      "text/html": [
       "<iframe id=\"igraph\" scrolling=\"no\" style=\"border:none;\" seamless=\"seamless\" src=\"https://plot.ly/~kishkp/256.embed\" height=\"525px\" width=\"100%\"></iframe>"
      ],
      "text/plain": [
       "<plotly.tools.PlotlyDisplay object>"
      ]
     },
     "execution_count": 557,
     "metadata": {},
     "output_type": "execute_result"
    }
   ],
   "source": [
    "# show box_plots\n",
    "\n",
    "x_0 = data.RenewOfferType.unique()\n",
    "y_0 = data[(data[\"Response\"] == 'Yes')].RenewOfferType.value_counts()\n",
    "y_1 = data[(data[\"Response\"] == 'No')].RenewOfferType.value_counts()\n",
    "\n",
    "totals = y_0 + y_1\n",
    "\n",
    "# Create the percentage of the total \n",
    "y_2 = y_0 / totals\n",
    "y_3 = y_1 / totals\n",
    "\n",
    "trace1 = Bar(x=x_0, y=y_0,  name = 'Response = Yes',)\n",
    "trace2 = Bar(x=x_0,y=y_1,  name = 'Response = No',)\n",
    "trace3 = Bar(x=x_0, y=y_2,  name = 'Response = Yes',)\n",
    "trace4 = Bar(x=x_0,y=y_3,  name = 'Response = No',)\n",
    "\n",
    "fig = tools.make_subplots(1, 2)\n",
    "fig.append_trace(trace1, 1, 1)\n",
    "fig.append_trace(trace2, 1, 1)\n",
    "fig.append_trace(trace3, 1, 2)\n",
    "fig.append_trace(trace4, 1, 2)\n",
    "\n",
    "fig['layout'].update(barmode='stack')\n",
    "py.iplot(fig)\n"
   ]
  },
  {
   "cell_type": "code",
   "execution_count": 300,
   "metadata": {
    "collapsed": false
   },
   "outputs": [
    {
     "data": {
      "text/html": [
       "<div>\n",
       "<table border=\"1\" class=\"dataframe\">\n",
       "  <thead>\n",
       "    <tr style=\"text-align: right;\">\n",
       "      <th>Response</th>\n",
       "      <th>No</th>\n",
       "      <th>Yes</th>\n",
       "    </tr>\n",
       "    <tr>\n",
       "      <th>RenewOfferType</th>\n",
       "      <th></th>\n",
       "      <th></th>\n",
       "    </tr>\n",
       "  </thead>\n",
       "  <tbody>\n",
       "    <tr>\n",
       "      <th>Offer1</th>\n",
       "      <td>3158</td>\n",
       "      <td>594</td>\n",
       "    </tr>\n",
       "    <tr>\n",
       "      <th>Offer2</th>\n",
       "      <td>2242</td>\n",
       "      <td>684</td>\n",
       "    </tr>\n",
       "    <tr>\n",
       "      <th>Offer3</th>\n",
       "      <td>1402</td>\n",
       "      <td>30</td>\n",
       "    </tr>\n",
       "    <tr>\n",
       "      <th>Offer4</th>\n",
       "      <td>1024</td>\n",
       "      <td>0</td>\n",
       "    </tr>\n",
       "  </tbody>\n",
       "</table>\n",
       "</div>"
      ],
      "text/plain": [
       "Response          No  Yes\n",
       "RenewOfferType           \n",
       "Offer1          3158  594\n",
       "Offer2          2242  684\n",
       "Offer3          1402  30 \n",
       "Offer4          1024  0  "
      ]
     },
     "execution_count": 300,
     "metadata": {},
     "output_type": "execute_result"
    },
    {
     "data": {
      "text/plain": [
       "(548.16445142938346,\n",
       " 1.7369503065426601e-118,\n",
       " 3L,\n",
       " array([[ 3214.70899934,   537.29100066],\n",
       "        [ 2506.99321217,   419.00678783],\n",
       "        [ 1226.9358441 ,   205.0641559 ],\n",
       "        [  877.36194438,   146.63805562]]))"
      ]
     },
     "execution_count": 300,
     "metadata": {},
     "output_type": "execute_result"
    }
   ],
   "source": [
    "# Perform chi-sq test for independence \n",
    "cross_tab = pd.crosstab(data.RenewOfferType, data.Response, margins = False)\n",
    "cross_tab\n",
    "\n",
    "\n",
    "chi_Sq_res = stats.chi2_contingency(observed= cross_tab)\n",
    "chi_Sq_res\n",
    "\n",
    "chi_sq_stat = chi_Sq_res[0]\n",
    "p_val = chi_Sq_res[1]\n",
    "deg_free = chi_Sq_res[2]\n",
    "exp_counts = chi_Sq_res[3]\n"
   ]
  },
  {
   "cell_type": "markdown",
   "metadata": {
    "collapsed": true
   },
   "source": [
    "From the 100 percent stacked bar, 'Response' variable seems to have a variation between the various Renewal Offer Types. A low p-value (1.74e-118) from the chi-square test of independence confirms this. \n",
    "\n",
    "We will retain this variable for further analysis. However, we will 'dummify' this categorical variable and remove the original variable.\n",
    "\n"
   ]
  },
  {
   "cell_type": "code",
   "execution_count": 301,
   "metadata": {
    "collapsed": true
   },
   "outputs": [],
   "source": [
    "data = data.join(pd.get_dummies(data['RenewOfferType'], prefix='RenewOfferType').ix[:, 1:])\n"
   ]
  },
  {
   "cell_type": "markdown",
   "metadata": {},
   "source": [
    "##### Sales Channel\t\n",
    "\n",
    "Is a particular sales channel more likely to lead to a successful response? We will look at the frequency distribution and correlation to response to see if this is a variable worth considering.\n"
   ]
  },
  {
   "cell_type": "code",
   "execution_count": 558,
   "metadata": {
    "collapsed": false,
    "scrolled": false
   },
   "outputs": [
    {
     "name": "stdout",
     "output_type": "stream",
     "text": [
      "This is the format of your plot grid:\n",
      "[ (1,1) x1,y1 ]  [ (1,2) x2,y2 ]\n",
      "\n"
     ]
    },
    {
     "data": {
      "text/html": [
       "<iframe id=\"igraph\" scrolling=\"no\" style=\"border:none;\" seamless=\"seamless\" src=\"https://plot.ly/~kishkp/258.embed\" height=\"525px\" width=\"100%\"></iframe>"
      ],
      "text/plain": [
       "<plotly.tools.PlotlyDisplay object>"
      ]
     },
     "execution_count": 558,
     "metadata": {},
     "output_type": "execute_result"
    }
   ],
   "source": [
    "# show box_plots\n",
    "\n",
    "x_0 = data.SalesChannel.unique()\n",
    "y_0 = data[(data[\"Response\"] == 'Yes')].SalesChannel.value_counts()\n",
    "y_1 = data[(data[\"Response\"] == 'No')].SalesChannel.value_counts()\n",
    "\n",
    "totals = y_0 + y_1\n",
    "\n",
    "# Create the percentage of the total \n",
    "y_2 = y_0 / totals\n",
    "y_3 = y_1 / totals\n",
    "\n",
    "trace1 = Bar(x=x_0, y=y_0,  name = 'Response = Yes',)\n",
    "trace2 = Bar(x=x_0,y=y_1,  name = 'Response = No',)\n",
    "trace3 = Bar(x=x_0, y=y_2,  name = 'Response = Yes',)\n",
    "trace4 = Bar(x=x_0,y=y_3,  name = 'Response = No',)\n",
    "\n",
    "fig = tools.make_subplots(1, 2)\n",
    "fig.append_trace(trace1, 1, 1)\n",
    "fig.append_trace(trace2, 1, 1)\n",
    "fig.append_trace(trace3, 1, 2)\n",
    "fig.append_trace(trace4, 1, 2)\n",
    "\n",
    "fig['layout'].update(barmode='stack')\n",
    "py.iplot(fig)\n"
   ]
  },
  {
   "cell_type": "code",
   "execution_count": 302,
   "metadata": {
    "collapsed": false
   },
   "outputs": [
    {
     "data": {
      "text/html": [
       "<div>\n",
       "<table border=\"1\" class=\"dataframe\">\n",
       "  <thead>\n",
       "    <tr style=\"text-align: right;\">\n",
       "      <th>Response</th>\n",
       "      <th>No</th>\n",
       "      <th>Yes</th>\n",
       "    </tr>\n",
       "    <tr>\n",
       "      <th>SalesChannel</th>\n",
       "      <th></th>\n",
       "      <th></th>\n",
       "    </tr>\n",
       "  </thead>\n",
       "  <tbody>\n",
       "    <tr>\n",
       "      <th>Agent</th>\n",
       "      <td>2811</td>\n",
       "      <td>666</td>\n",
       "    </tr>\n",
       "    <tr>\n",
       "      <th>Branch</th>\n",
       "      <td>2273</td>\n",
       "      <td>294</td>\n",
       "    </tr>\n",
       "    <tr>\n",
       "      <th>Call Center</th>\n",
       "      <td>1573</td>\n",
       "      <td>192</td>\n",
       "    </tr>\n",
       "    <tr>\n",
       "      <th>Web</th>\n",
       "      <td>1169</td>\n",
       "      <td>156</td>\n",
       "    </tr>\n",
       "  </tbody>\n",
       "</table>\n",
       "</div>"
      ],
      "text/plain": [
       "Response        No  Yes\n",
       "SalesChannel           \n",
       "Agent         2811  666\n",
       "Branch        2273  294\n",
       "Call Center   1573  192\n",
       "Web           1169  156"
      ]
     },
     "execution_count": 302,
     "metadata": {},
     "output_type": "execute_result"
    },
    {
     "data": {
      "text/plain": [
       "(107.47244037488014,\n",
       " 3.8391117221024828e-23,\n",
       " 3L,\n",
       " array([[ 2979.08933654,   497.91066346],\n",
       "        [ 2199.40245238,   367.59754762],\n",
       "        [ 1512.24983578,   252.75016422],\n",
       "        [ 1135.2583753 ,   189.7416247 ]]))"
      ]
     },
     "execution_count": 302,
     "metadata": {},
     "output_type": "execute_result"
    }
   ],
   "source": [
    "# Perform chi-sq test for independence \n",
    "cross_tab = pd.crosstab(data.SalesChannel, data.Response, margins = False)\n",
    "cross_tab\n",
    "\n",
    "\n",
    "chi_Sq_res = stats.chi2_contingency(observed= cross_tab)\n",
    "chi_Sq_res\n",
    "\n",
    "chi_sq_stat = chi_Sq_res[0]\n",
    "p_val = chi_Sq_res[1]\n",
    "deg_free = chi_Sq_res[2]\n",
    "exp_counts = chi_Sq_res[3]\n"
   ]
  },
  {
   "cell_type": "markdown",
   "metadata": {
    "collapsed": true
   },
   "source": [
    "From the 100 percent stacked bar, 'Response' variable seems to have a variation between the various Sales Channels. A low p-value (3.84e-23) from the chi-square test of independence confirms this. \n",
    "\n",
    "We will retain this variable for further analysis. However, we will 'dummify' this categorical variable and remove the original variable.\n",
    "\n"
   ]
  },
  {
   "cell_type": "code",
   "execution_count": 303,
   "metadata": {
    "collapsed": true
   },
   "outputs": [],
   "source": [
    "data = data.join(pd.get_dummies(data['SalesChannel'], prefix='SalesChannel').ix[:, 1:])\n"
   ]
  },
  {
   "cell_type": "markdown",
   "metadata": {},
   "source": [
    "##### Vehicle Class\t\n",
    "\n",
    "Does the vehicle class impact campaign response?  We will look at the frequency distribution and correlation to response to see if this is a variable worth considering.\n"
   ]
  },
  {
   "cell_type": "code",
   "execution_count": 559,
   "metadata": {
    "collapsed": false,
    "scrolled": false
   },
   "outputs": [
    {
     "name": "stdout",
     "output_type": "stream",
     "text": [
      "This is the format of your plot grid:\n",
      "[ (1,1) x1,y1 ]  [ (1,2) x2,y2 ]\n",
      "\n"
     ]
    },
    {
     "data": {
      "text/html": [
       "<iframe id=\"igraph\" scrolling=\"no\" style=\"border:none;\" seamless=\"seamless\" src=\"https://plot.ly/~kishkp/260.embed\" height=\"525px\" width=\"100%\"></iframe>"
      ],
      "text/plain": [
       "<plotly.tools.PlotlyDisplay object>"
      ]
     },
     "execution_count": 559,
     "metadata": {},
     "output_type": "execute_result"
    }
   ],
   "source": [
    "# show box_plots\n",
    "\n",
    "x_0 = data.VehicleClass.unique()\n",
    "y_0 = data[(data[\"Response\"] == 'Yes')].VehicleClass.value_counts()\n",
    "y_1 = data[(data[\"Response\"] == 'No')].VehicleClass.value_counts()\n",
    "\n",
    "totals = y_0 + y_1\n",
    "\n",
    "# Create the percentage of the total \n",
    "y_2 = y_0 / totals\n",
    "y_3 = y_1 / totals\n",
    "\n",
    "trace1 = Bar(x=x_0, y=y_0,  name = 'Response = Yes',)\n",
    "trace2 = Bar(x=x_0,y=y_1,  name = 'Response = No',)\n",
    "trace3 = Bar(x=x_0, y=y_2,  name = 'Response = Yes',)\n",
    "trace4 = Bar(x=x_0,y=y_3,  name = 'Response = No',)\n",
    "\n",
    "fig = tools.make_subplots(1, 2)\n",
    "fig.append_trace(trace1, 1, 1)\n",
    "fig.append_trace(trace2, 1, 1)\n",
    "fig.append_trace(trace3, 1, 2)\n",
    "fig.append_trace(trace4, 1, 2)\n",
    "\n",
    "fig['layout'].update(barmode='stack')\n",
    "py.iplot(fig)\n"
   ]
  },
  {
   "cell_type": "code",
   "execution_count": 304,
   "metadata": {
    "collapsed": false
   },
   "outputs": [
    {
     "data": {
      "text/html": [
       "<div>\n",
       "<table border=\"1\" class=\"dataframe\">\n",
       "  <thead>\n",
       "    <tr style=\"text-align: right;\">\n",
       "      <th>Response</th>\n",
       "      <th>No</th>\n",
       "      <th>Yes</th>\n",
       "    </tr>\n",
       "    <tr>\n",
       "      <th>VehicleClass</th>\n",
       "      <th></th>\n",
       "      <th></th>\n",
       "    </tr>\n",
       "  </thead>\n",
       "  <tbody>\n",
       "    <tr>\n",
       "      <th>Four-Door Car</th>\n",
       "      <td>3997</td>\n",
       "      <td>624</td>\n",
       "    </tr>\n",
       "    <tr>\n",
       "      <th>Luxury Car</th>\n",
       "      <td>151</td>\n",
       "      <td>12</td>\n",
       "    </tr>\n",
       "    <tr>\n",
       "      <th>Luxury SUV</th>\n",
       "      <td>154</td>\n",
       "      <td>30</td>\n",
       "    </tr>\n",
       "    <tr>\n",
       "      <th>SUV</th>\n",
       "      <td>1508</td>\n",
       "      <td>288</td>\n",
       "    </tr>\n",
       "    <tr>\n",
       "      <th>Sports Car</th>\n",
       "      <td>394</td>\n",
       "      <td>90</td>\n",
       "    </tr>\n",
       "    <tr>\n",
       "      <th>Two-Door Car</th>\n",
       "      <td>1622</td>\n",
       "      <td>264</td>\n",
       "    </tr>\n",
       "  </tbody>\n",
       "</table>\n",
       "</div>"
      ],
      "text/plain": [
       "Response         No  Yes\n",
       "VehicleClass            \n",
       "Four-Door Car  3997  624\n",
       "Luxury Car     151   12 \n",
       "Luxury SUV     154   30 \n",
       "SUV            1508  288\n",
       "Sports Car     394   90 \n",
       "Two-Door Car   1622  264"
      ]
     },
     "execution_count": 304,
     "metadata": {},
     "output_type": "execute_result"
    },
    {
     "data": {
      "text/plain": [
       "(21.210243375074022,\n",
       " 0.00073921311309917527,\n",
       " 5L,\n",
       " array([[ 3959.26713379,   661.73286621],\n",
       "        [  139.65820013,    23.34179987],\n",
       "        [  157.65097438,    26.34902562],\n",
       "        [ 1538.81059777,   257.18940223],\n",
       "        [  414.69060653,    69.30939347],\n",
       "        [ 1615.92248741,   270.07751259]]))"
      ]
     },
     "execution_count": 304,
     "metadata": {},
     "output_type": "execute_result"
    }
   ],
   "source": [
    "# Perform chi-sq test for independence \n",
    "cross_tab = pd.crosstab(data.VehicleClass, data.Response, margins = False)\n",
    "cross_tab\n",
    "\n",
    "\n",
    "chi_Sq_res = stats.chi2_contingency(observed= cross_tab)\n",
    "chi_Sq_res\n",
    "\n",
    "chi_sq_stat = chi_Sq_res[0]\n",
    "p_val = chi_Sq_res[1]\n",
    "deg_free = chi_Sq_res[2]\n",
    "exp_counts = chi_Sq_res[3]\n"
   ]
  },
  {
   "cell_type": "markdown",
   "metadata": {
    "collapsed": true
   },
   "source": [
    "From the 100 percent stacked bar, 'Response' variable seems to have a variation between the various Vehicle Classes. A low p-value (0.00074) from the chi-square test of independence confirms this. \n",
    "\n",
    "We will retain this variable for further analysis. However, we will 'dummify' this categorical variable and remove the original variable.\n",
    "\n"
   ]
  },
  {
   "cell_type": "code",
   "execution_count": 305,
   "metadata": {
    "collapsed": true
   },
   "outputs": [],
   "source": [
    "data = data.join(pd.get_dummies(data['VehicleClass'], prefix='VehicleClass').ix[:, 1:])\n"
   ]
  },
  {
   "cell_type": "markdown",
   "metadata": {},
   "source": [
    "##### Vehicle Size\t\n",
    "\n",
    "Does the vehicle size impact campaign response?  We will look at the frequency distribution and correlation to response to see if this is a variable worth considering.\n"
   ]
  },
  {
   "cell_type": "code",
   "execution_count": 560,
   "metadata": {
    "collapsed": false,
    "scrolled": false
   },
   "outputs": [
    {
     "name": "stdout",
     "output_type": "stream",
     "text": [
      "This is the format of your plot grid:\n",
      "[ (1,1) x1,y1 ]  [ (1,2) x2,y2 ]\n",
      "\n"
     ]
    },
    {
     "data": {
      "text/html": [
       "<iframe id=\"igraph\" scrolling=\"no\" style=\"border:none;\" seamless=\"seamless\" src=\"https://plot.ly/~kishkp/262.embed\" height=\"525px\" width=\"100%\"></iframe>"
      ],
      "text/plain": [
       "<plotly.tools.PlotlyDisplay object>"
      ]
     },
     "execution_count": 560,
     "metadata": {},
     "output_type": "execute_result"
    }
   ],
   "source": [
    "# show box_plots\n",
    "\n",
    "x_0 = data.VehicleSize.unique()\n",
    "y_0 = data[(data[\"Response\"] == 'Yes')].VehicleSize.value_counts()\n",
    "y_1 = data[(data[\"Response\"] == 'No')].VehicleSize.value_counts()\n",
    "\n",
    "totals = y_0 + y_1\n",
    "\n",
    "# Create the percentage of the total \n",
    "y_2 = y_0 / totals\n",
    "y_3 = y_1 / totals\n",
    "\n",
    "trace1 = Bar(x=x_0, y=y_0,  name = 'Response = Yes',)\n",
    "trace2 = Bar(x=x_0,y=y_1,  name = 'Response = No',)\n",
    "trace3 = Bar(x=x_0, y=y_2,  name = 'Response = Yes',)\n",
    "trace4 = Bar(x=x_0,y=y_3,  name = 'Response = No',)\n",
    "\n",
    "fig = tools.make_subplots(1, 2)\n",
    "fig.append_trace(trace1, 1, 1)\n",
    "fig.append_trace(trace2, 1, 1)\n",
    "fig.append_trace(trace3, 1, 2)\n",
    "fig.append_trace(trace4, 1, 2)\n",
    "\n",
    "fig['layout'].update(barmode='stack')\n",
    "py.iplot(fig)\n"
   ]
  },
  {
   "cell_type": "code",
   "execution_count": 306,
   "metadata": {
    "collapsed": false
   },
   "outputs": [
    {
     "data": {
      "text/html": [
       "<div>\n",
       "<table border=\"1\" class=\"dataframe\">\n",
       "  <thead>\n",
       "    <tr style=\"text-align: right;\">\n",
       "      <th>Response</th>\n",
       "      <th>No</th>\n",
       "      <th>Yes</th>\n",
       "    </tr>\n",
       "    <tr>\n",
       "      <th>VehicleSize</th>\n",
       "      <th></th>\n",
       "      <th></th>\n",
       "    </tr>\n",
       "  </thead>\n",
       "  <tbody>\n",
       "    <tr>\n",
       "      <th>Large</th>\n",
       "      <td>778</td>\n",
       "      <td>168</td>\n",
       "    </tr>\n",
       "    <tr>\n",
       "      <th>Medsize</th>\n",
       "      <td>5482</td>\n",
       "      <td>942</td>\n",
       "    </tr>\n",
       "    <tr>\n",
       "      <th>Small</th>\n",
       "      <td>1566</td>\n",
       "      <td>198</td>\n",
       "    </tr>\n",
       "  </tbody>\n",
       "</table>\n",
       "</div>"
      ],
      "text/plain": [
       "Response       No  Yes\n",
       "VehicleSize           \n",
       "Large        778   168\n",
       "Medsize      5482  942\n",
       "Small        1566  198"
      ]
     },
     "execution_count": 306,
     "metadata": {},
     "output_type": "execute_result"
    },
    {
     "data": {
      "text/plain": [
       "(23.513731678546584,\n",
       " 7.8353435165186028e-06,\n",
       " 2L,\n",
       " array([[  810.53164003,   135.46835997],\n",
       "        [ 5504.07532297,   919.92467703],\n",
       "        [ 1511.393037  ,   252.606963  ]]))"
      ]
     },
     "execution_count": 306,
     "metadata": {},
     "output_type": "execute_result"
    }
   ],
   "source": [
    "# Perform chi-sq test for independence \n",
    "cross_tab = pd.crosstab(data.VehicleSize, data.Response, margins = False)\n",
    "cross_tab\n",
    "\n",
    "\n",
    "chi_Sq_res = stats.chi2_contingency(observed= cross_tab)\n",
    "chi_Sq_res\n",
    "\n",
    "chi_sq_stat = chi_Sq_res[0]\n",
    "p_val = chi_Sq_res[1]\n",
    "deg_free = chi_Sq_res[2]\n",
    "exp_counts = chi_Sq_res[3]\n"
   ]
  },
  {
   "cell_type": "markdown",
   "metadata": {
    "collapsed": true
   },
   "source": [
    "From the 100 percent stacked bar, 'Response' variable seems to have a variation between the various Vehicle Sizes. A low p-value (7.84e-06) from the chi-square test of independence confirms this. \n",
    "\n",
    "We will retain this variable for further analysis. However, we will 'dummify' this categorical variable and remove the original variable.\n",
    "\n"
   ]
  },
  {
   "cell_type": "code",
   "execution_count": 307,
   "metadata": {
    "collapsed": true
   },
   "outputs": [],
   "source": [
    "data = data.join(pd.get_dummies(data['VehicleSize'], prefix='VehicleSize').ix[:, 1:])\n"
   ]
  },
  {
   "cell_type": "markdown",
   "metadata": {
    "collapsed": true
   },
   "source": [
    "#### Continuous Variables\n",
    "\n",
    "Now lets have a look at the continuous variables."
   ]
  },
  {
   "cell_type": "markdown",
   "metadata": {},
   "source": [
    "##### Effective To Date\t\n",
    "\n",
    "This variable tells us till when the current policy is covered? The dates in this variable range from '01-Jan-2011' to '28-Feb-2011'. We will assume that the campaigns were run on '01-Dec-2010'. So effectively, it is 1 month before the earliest Insurance expiry date. \n",
    "\n",
    "We will derive an 'ExpiryDays' variable that tells us how much time does the customer have to renew the current policy. Is the customer in a hurry to sign up. Does the age of the current policy have an impact on the campaign response? We will do some exploration to see if this variable is useful. \n"
   ]
  },
  {
   "cell_type": "code",
   "execution_count": 308,
   "metadata": {
    "collapsed": true
   },
   "outputs": [],
   "source": [
    "data['ExpiryDays'] = (pd.to_datetime(data.EffectiveToDate) - pd.to_datetime('31-Dec-2010')) / np.timedelta64(1, 'D')\n",
    "data['Resp_codes'] = pd.Categorical.from_array(data.Response).codes"
   ]
  },
  {
   "cell_type": "code",
   "execution_count": 682,
   "metadata": {
    "collapsed": false,
    "scrolled": false
   },
   "outputs": [
    {
     "name": "stdout",
     "output_type": "stream",
     "text": [
      "This is the format of your plot grid:\n",
      "[ (1,1) x1,y1 ]  [ (1,2) x2,y2 ]\n",
      "\n"
     ]
    },
    {
     "data": {
      "text/html": [
       "<iframe id=\"igraph\" scrolling=\"no\" style=\"border:none;\" seamless=\"seamless\" src=\"https://plot.ly/~kishkp/266.embed\" height=\"525px\" width=\"100%\"></iframe>"
      ],
      "text/plain": [
       "<plotly.tools.PlotlyDisplay object>"
      ]
     },
     "execution_count": 682,
     "metadata": {},
     "output_type": "execute_result"
    }
   ],
   "source": [
    "\n",
    "x_0 = data[(data[\"Response\"] == 'Yes')].ExpiryDays\n",
    "x_1 = data[(data[\"Response\"] == 'No')].ExpiryDays\n",
    "\n",
    "trace1 = go.Histogram(x=x_0, opacity=0.75, name='Response = Yes', )\n",
    "trace2 = go.Histogram(x=x_1, opacity=0.75, name='Response = No',)\n",
    "trace3 = go.Box(y=x_0, boxpoints='all', jitter=0.3, pointpos=-1.8, name='Response = Yes',)\n",
    "trace4 = go.Box(y=x_1, boxpoints='all', jitter=0.3, pointpos=-1.8, name='Response = No',)\n",
    "\n",
    "fig = tools.make_subplots(1, 2)\n",
    "fig.append_trace(trace1, 1, 1)\n",
    "fig.append_trace(trace2, 1, 1)\n",
    "fig.append_trace(trace3, 1, 2)\n",
    "fig.append_trace(trace4, 1, 2)\n",
    "\n",
    "fig['layout'].update(barmode='overlay')\n",
    "py.iplot(fig)\n"
   ]
  },
  {
   "cell_type": "code",
   "execution_count": 309,
   "metadata": {
    "collapsed": false
   },
   "outputs": [
    {
     "data": {
      "text/html": [
       "<div>\n",
       "<table border=\"1\" class=\"dataframe\">\n",
       "  <thead>\n",
       "    <tr style=\"text-align: right;\">\n",
       "      <th></th>\n",
       "      <th>Resp_codes</th>\n",
       "      <th>ExpiryDays</th>\n",
       "    </tr>\n",
       "  </thead>\n",
       "  <tbody>\n",
       "    <tr>\n",
       "      <th>Resp_codes</th>\n",
       "      <td>1.000000</td>\n",
       "      <td>-0.006047</td>\n",
       "    </tr>\n",
       "    <tr>\n",
       "      <th>ExpiryDays</th>\n",
       "      <td>-0.006047</td>\n",
       "      <td>1.000000</td>\n",
       "    </tr>\n",
       "  </tbody>\n",
       "</table>\n",
       "</div>"
      ],
      "text/plain": [
       "            Resp_codes  ExpiryDays\n",
       "Resp_codes  1.000000   -0.006047  \n",
       "ExpiryDays -0.006047    1.000000  "
      ]
     },
     "execution_count": 309,
     "metadata": {},
     "output_type": "execute_result"
    }
   ],
   "source": [
    "data[['Resp_codes','ExpiryDays']].corr()\n",
    "\n"
   ]
  },
  {
   "cell_type": "markdown",
   "metadata": {},
   "source": [
    "From the above histogram and box-plot, it seems like Expiry days (and the Effective To Date) does not have a strong influence on Response. This is confirmed by the correlation between these two variables. \n",
    "\n",
    "We go ahead and drop this variable from further processing."
   ]
  },
  {
   "cell_type": "markdown",
   "metadata": {},
   "source": [
    "##### Customer Lifetime Value\t\n",
    "\n",
    "What is the value generated by the customer for the insurance company. We will bin this variable to see if a customer with higher LTV is more loyal to the company and subscribes more or if it is otherwise.\n"
   ]
  },
  {
   "cell_type": "code",
   "execution_count": 683,
   "metadata": {
    "collapsed": false
   },
   "outputs": [
    {
     "name": "stdout",
     "output_type": "stream",
     "text": [
      "This is the format of your plot grid:\n",
      "[ (1,1) x1,y1 ]  [ (1,2) x2,y2 ]\n",
      "\n"
     ]
    },
    {
     "data": {
      "text/html": [
       "<iframe id=\"igraph\" scrolling=\"no\" style=\"border:none;\" seamless=\"seamless\" src=\"https://plot.ly/~kishkp/268.embed\" height=\"525px\" width=\"100%\"></iframe>"
      ],
      "text/plain": [
       "<plotly.tools.PlotlyDisplay object>"
      ]
     },
     "execution_count": 683,
     "metadata": {},
     "output_type": "execute_result"
    }
   ],
   "source": [
    "x_0 = data[(data[\"Response\"] == 'Yes')].CustomerLifetimeValue\n",
    "x_1 = data[(data[\"Response\"] == 'No')].CustomerLifetimeValue\n",
    "\n",
    "trace1 = go.Histogram(x=x_0, opacity=0.75, name='Response = Yes', )\n",
    "trace2 = go.Histogram(x=x_1, opacity=0.75, name='Response = No',)\n",
    "trace3 = go.Box(y=x_0, boxpoints='all', jitter=0.3, pointpos=-1.8, name='Response = Yes',)\n",
    "trace4 = go.Box(y=x_1, boxpoints='all', jitter=0.3, pointpos=-1.8, name='Response = No',)\n",
    "\n",
    "fig = tools.make_subplots(1, 2)\n",
    "fig.append_trace(trace1, 1, 1)\n",
    "fig.append_trace(trace2, 1, 1)\n",
    "fig.append_trace(trace3, 1, 2)\n",
    "fig.append_trace(trace4, 1, 2)\n",
    "\n",
    "fig['layout'].update(barmode='overlay')\n",
    "py.iplot(fig)\n",
    "\n"
   ]
  },
  {
   "cell_type": "code",
   "execution_count": 310,
   "metadata": {
    "collapsed": false
   },
   "outputs": [
    {
     "data": {
      "text/html": [
       "<div>\n",
       "<table border=\"1\" class=\"dataframe\">\n",
       "  <thead>\n",
       "    <tr style=\"text-align: right;\">\n",
       "      <th></th>\n",
       "      <th>Resp_codes</th>\n",
       "      <th>CustomerLifetimeValue</th>\n",
       "    </tr>\n",
       "  </thead>\n",
       "  <tbody>\n",
       "    <tr>\n",
       "      <th>Resp_codes</th>\n",
       "      <td>1.00000</td>\n",
       "      <td>-0.00893</td>\n",
       "    </tr>\n",
       "    <tr>\n",
       "      <th>CustomerLifetimeValue</th>\n",
       "      <td>-0.00893</td>\n",
       "      <td>1.00000</td>\n",
       "    </tr>\n",
       "  </tbody>\n",
       "</table>\n",
       "</div>"
      ],
      "text/plain": [
       "                       Resp_codes  CustomerLifetimeValue\n",
       "Resp_codes             1.00000    -0.00893              \n",
       "CustomerLifetimeValue -0.00893     1.00000              "
      ]
     },
     "execution_count": 310,
     "metadata": {},
     "output_type": "execute_result"
    }
   ],
   "source": [
    "data[['Resp_codes','CustomerLifetimeValue']].corr()"
   ]
  },
  {
   "cell_type": "markdown",
   "metadata": {},
   "source": [
    "From the above histogram and box-plot, it seems like Customer Lifetime Value does not have a strong influence on Response. This is confirmed by the correlation between these two variables. \n",
    "\n",
    "Lets see if binning the customer life time value has a better influence."
   ]
  },
  {
   "cell_type": "code",
   "execution_count": 311,
   "metadata": {
    "collapsed": true
   },
   "outputs": [],
   "source": [
    "bins = [data['CustomerLifetimeValue'].min()-10, 10000, 15000, data['CustomerLifetimeValue'].max()+1]\n",
    "group_names = ['le_10000', '10000 to 15000', 'gt_15000']\n"
   ]
  },
  {
   "cell_type": "code",
   "execution_count": 690,
   "metadata": {
    "collapsed": false
   },
   "outputs": [
    {
     "name": "stdout",
     "output_type": "stream",
     "text": [
      "This is the format of your plot grid:\n",
      "[ (1,1) x1,y1 ]  [ (1,2) x2,y2 ]\n",
      "\n"
     ]
    },
    {
     "data": {
      "text/html": [
       "<iframe id=\"igraph\" scrolling=\"no\" style=\"border:none;\" seamless=\"seamless\" src=\"https://plot.ly/~kishkp/270.embed\" height=\"525px\" width=\"100%\"></iframe>"
      ],
      "text/plain": [
       "<plotly.tools.PlotlyDisplay object>"
      ]
     },
     "execution_count": 690,
     "metadata": {},
     "output_type": "execute_result"
    }
   ],
   "source": [
    "data['CLTV_Bins'] = pd.Categorical.from_array(pd.cut(data['CustomerLifetimeValue'], bins, labels=group_names)).codes\n",
    "\n",
    "# show box_plots\n",
    "\n",
    "x_0 = data.CLTV_Bins.unique()\n",
    "y_0 = data[(data[\"Response\"] == 'Yes')].CLTV_Bins.value_counts()\n",
    "y_1 = data[(data[\"Response\"] == 'No')].CLTV_Bins.value_counts()\n",
    "\n",
    "totals = y_0 + y_1\n",
    "\n",
    "# Create the percentage of the total \n",
    "y_2 = y_0 / totals\n",
    "y_3 = y_1 / totals\n",
    "\n",
    "trace1 = Bar(x=x_0, y=y_0,  name = 'Response = Yes',)\n",
    "trace2 = Bar(x=x_0,y=y_1,  name = 'Response = No',)\n",
    "trace3 = Bar(x=x_0, y=y_2,  name = 'Response = Yes',)\n",
    "trace4 = Bar(x=x_0,y=y_3,  name = 'Response = No',)\n",
    "\n",
    "fig = tools.make_subplots(1, 2)\n",
    "fig.append_trace(trace1, 1, 1)\n",
    "fig.append_trace(trace2, 1, 1)\n",
    "fig.append_trace(trace3, 1, 2)\n",
    "fig.append_trace(trace4, 1, 2)\n",
    "\n",
    "fig['layout'].update(barmode='stack')\n",
    "py.iplot(fig)\n"
   ]
  },
  {
   "cell_type": "code",
   "execution_count": 312,
   "metadata": {
    "collapsed": false
   },
   "outputs": [
    {
     "data": {
      "text/html": [
       "<div>\n",
       "<table border=\"1\" class=\"dataframe\">\n",
       "  <thead>\n",
       "    <tr style=\"text-align: right;\">\n",
       "      <th>Response</th>\n",
       "      <th>No</th>\n",
       "      <th>Yes</th>\n",
       "    </tr>\n",
       "    <tr>\n",
       "      <th>CLTV_Bins</th>\n",
       "      <th></th>\n",
       "      <th></th>\n",
       "    </tr>\n",
       "  </thead>\n",
       "  <tbody>\n",
       "    <tr>\n",
       "      <th>le_10000</th>\n",
       "      <td>6246</td>\n",
       "      <td>1002</td>\n",
       "    </tr>\n",
       "    <tr>\n",
       "      <th>10000 to 15000</th>\n",
       "      <td>735</td>\n",
       "      <td>180</td>\n",
       "    </tr>\n",
       "    <tr>\n",
       "      <th>gt_15000</th>\n",
       "      <td>845</td>\n",
       "      <td>126</td>\n",
       "    </tr>\n",
       "  </tbody>\n",
       "</table>\n",
       "</div>"
      ],
      "text/plain": [
       "Response          No   Yes\n",
       "CLTV_Bins                 \n",
       "le_10000        6246  1002\n",
       "10000 to 15000  735   180 \n",
       "gt_15000        845   126 "
      ]
     },
     "execution_count": 312,
     "metadata": {},
     "output_type": "execute_result"
    },
    {
     "data": {
      "text/plain": [
       "(24.241564192409005,\n",
       " 5.4451671933329041e-06,\n",
       " 2L,\n",
       " array([[ 6210.07751259,  1037.92248741],\n",
       "        [  783.97087804,   131.02912196],\n",
       "        [  831.95160937,   139.04839063]]))"
      ]
     },
     "execution_count": 312,
     "metadata": {},
     "output_type": "execute_result"
    }
   ],
   "source": [
    "data['CLTV_Bins'] = pd.Categorical.from_array(pd.cut(data['CustomerLifetimeValue'], bins, labels=group_names))\n",
    "\n",
    "# Perform chi-sq test for independence \n",
    "cross_tab = pd.crosstab(data.CLTV_Bins, data.Response, margins = False)\n",
    "cross_tab\n",
    "\n",
    "\n",
    "chi_Sq_res = stats.chi2_contingency(observed= cross_tab)\n",
    "chi_Sq_res\n",
    "\n",
    "chi_sq_stat = chi_Sq_res[0]\n",
    "p_val = chi_Sq_res[1]\n",
    "deg_free = chi_Sq_res[2]\n",
    "exp_counts = chi_Sq_res[3]\n",
    "\n"
   ]
  },
  {
   "cell_type": "markdown",
   "metadata": {},
   "source": [
    "From the 100 percent stacked bar, 'Response' variable seems to have a variation between the various CLTV Bins. A low p-value (5.45e-06) from the chi-square test of independence confirms this. \n",
    "\n",
    "We will retain this variable for further analysis. However, we drop the Customer Lifetime Value variable and we will 'dummify' the categorical variable and remove the original variable.\n"
   ]
  },
  {
   "cell_type": "code",
   "execution_count": 313,
   "metadata": {
    "collapsed": true
   },
   "outputs": [],
   "source": [
    "data = data.join(pd.get_dummies(data['CLTV_Bins'], prefix='CLTV').ix[:, 1:])\n"
   ]
  },
  {
   "cell_type": "markdown",
   "metadata": {},
   "source": [
    "##### Income\t\n",
    "\n",
    "Does a higher income indicate a successful campaign response. Is there a pattern to find here?. We will try binning this variable to see if we can get more predictive power. We will look at the frequency distribution / histograms and correlation to response to see if this is a variable worth considering.\n"
   ]
  },
  {
   "cell_type": "code",
   "execution_count": 691,
   "metadata": {
    "collapsed": false
   },
   "outputs": [
    {
     "name": "stdout",
     "output_type": "stream",
     "text": [
      "This is the format of your plot grid:\n",
      "[ (1,1) x1,y1 ]  [ (1,2) x2,y2 ]\n",
      "\n"
     ]
    },
    {
     "data": {
      "text/html": [
       "<iframe id=\"igraph\" scrolling=\"no\" style=\"border:none;\" seamless=\"seamless\" src=\"https://plot.ly/~kishkp/272.embed\" height=\"525px\" width=\"100%\"></iframe>"
      ],
      "text/plain": [
       "<plotly.tools.PlotlyDisplay object>"
      ]
     },
     "execution_count": 691,
     "metadata": {},
     "output_type": "execute_result"
    }
   ],
   "source": [
    "x_0 = data[(data[\"Response\"] == 'Yes')].Income\n",
    "x_1 = data[(data[\"Response\"] == 'No')].Income\n",
    "\n",
    "trace1 = go.Histogram(x=x_0, opacity=0.75, name='Response = Yes', )\n",
    "trace2 = go.Histogram(x=x_1, opacity=0.75, name='Response = No',)\n",
    "trace3 = go.Box(y=x_0, boxpoints='all', jitter=0.3, pointpos=-1.8, name='Response = Yes',)\n",
    "trace4 = go.Box(y=x_1, boxpoints='all', jitter=0.3, pointpos=-1.8, name='Response = No',)\n",
    "\n",
    "fig = tools.make_subplots(1, 2)\n",
    "fig.append_trace(trace1, 1, 1)\n",
    "fig.append_trace(trace2, 1, 1)\n",
    "fig.append_trace(trace3, 1, 2)\n",
    "fig.append_trace(trace4, 1, 2)\n",
    "\n",
    "fig['layout'].update(barmode='overlay')\n",
    "py.iplot(fig)\n",
    "\n",
    "# data.drop('Income', axis=1, inplace=True)"
   ]
  },
  {
   "cell_type": "code",
   "execution_count": 314,
   "metadata": {
    "collapsed": false
   },
   "outputs": [
    {
     "data": {
      "text/html": [
       "<div>\n",
       "<table border=\"1\" class=\"dataframe\">\n",
       "  <thead>\n",
       "    <tr style=\"text-align: right;\">\n",
       "      <th></th>\n",
       "      <th>Resp_codes</th>\n",
       "      <th>Income</th>\n",
       "    </tr>\n",
       "  </thead>\n",
       "  <tbody>\n",
       "    <tr>\n",
       "      <th>Resp_codes</th>\n",
       "      <td>1.000000</td>\n",
       "      <td>0.011932</td>\n",
       "    </tr>\n",
       "    <tr>\n",
       "      <th>Income</th>\n",
       "      <td>0.011932</td>\n",
       "      <td>1.000000</td>\n",
       "    </tr>\n",
       "  </tbody>\n",
       "</table>\n",
       "</div>"
      ],
      "text/plain": [
       "            Resp_codes    Income\n",
       "Resp_codes  1.000000    0.011932\n",
       "Income      0.011932    1.000000"
      ]
     },
     "execution_count": 314,
     "metadata": {},
     "output_type": "execute_result"
    }
   ],
   "source": [
    "data[['Resp_codes','Income']].corr()"
   ]
  },
  {
   "cell_type": "markdown",
   "metadata": {},
   "source": [
    "From the above histogram and box-plot, it seems like Income does not have a strong influence on Response. This is confirmed by the correlation between these two variables. \n",
    "\n",
    "Lets see if binning has a better influence."
   ]
  },
  {
   "cell_type": "code",
   "execution_count": 315,
   "metadata": {
    "collapsed": true
   },
   "outputs": [],
   "source": [
    "bins = [data['Income'].min()-10, 10000, 20000, 30000, 40000, 55000, 65000, 70000, data['Income'].max()+1]\n",
    "group_names = ['le_10K', '10K to 20K', '20K to 30K', '30K to 40K', '40K to 55K', '55K to 65K', '65K to 70K', 'gt_70K']\n"
   ]
  },
  {
   "cell_type": "code",
   "execution_count": 692,
   "metadata": {
    "collapsed": false
   },
   "outputs": [
    {
     "name": "stdout",
     "output_type": "stream",
     "text": [
      "This is the format of your plot grid:\n",
      "[ (1,1) x1,y1 ]  [ (1,2) x2,y2 ]\n",
      "\n"
     ]
    },
    {
     "data": {
      "text/html": [
       "<iframe id=\"igraph\" scrolling=\"no\" style=\"border:none;\" seamless=\"seamless\" src=\"https://plot.ly/~kishkp/274.embed\" height=\"525px\" width=\"100%\"></iframe>"
      ],
      "text/plain": [
       "<plotly.tools.PlotlyDisplay object>"
      ]
     },
     "execution_count": 692,
     "metadata": {},
     "output_type": "execute_result"
    }
   ],
   "source": [
    "data['Income_Bins'] = pd.Categorical.from_array(pd.cut(data['Income'], bins, labels=group_names)).codes\n",
    "\n",
    "# show box_plots\n",
    "\n",
    "x_0 = data.Income_Bins.unique()\n",
    "\n",
    "y_0 = data[(data[\"Response\"] == 'Yes')].Income_Bins.value_counts()\n",
    "y_1 = data[(data[\"Response\"] == 'No')].Income_Bins.value_counts()\n",
    "\n",
    "totals = y_0 + y_1\n",
    "\n",
    "# Create the percentage of the total \n",
    "y_2 = y_0 / totals\n",
    "y_3 = y_1 / totals\n",
    "\n",
    "trace1 = Bar(x=x_0, y=y_0,  name = 'Response = Yes',)\n",
    "trace2 = Bar(x=x_0,y=y_1,  name = 'Response = No',)\n",
    "trace3 = Bar(x=x_0, y=y_2,  name = 'Response = Yes',)\n",
    "trace4 = Bar(x=x_0,y=y_3,  name = 'Response = No',)\n",
    "\n",
    "fig = tools.make_subplots(1, 2)\n",
    "fig.append_trace(trace1, 1, 1)\n",
    "fig.append_trace(trace2, 1, 1)\n",
    "fig.append_trace(trace3, 1, 2)\n",
    "fig.append_trace(trace4, 1, 2)\n",
    "\n",
    "fig['layout'].update(barmode='stack')\n",
    "py.iplot(fig)\n"
   ]
  },
  {
   "cell_type": "code",
   "execution_count": 316,
   "metadata": {
    "collapsed": false
   },
   "outputs": [
    {
     "data": {
      "text/html": [
       "<div>\n",
       "<table border=\"1\" class=\"dataframe\">\n",
       "  <thead>\n",
       "    <tr style=\"text-align: right;\">\n",
       "      <th>Response</th>\n",
       "      <th>No</th>\n",
       "      <th>Yes</th>\n",
       "    </tr>\n",
       "    <tr>\n",
       "      <th>Income_Bins</th>\n",
       "      <th></th>\n",
       "      <th></th>\n",
       "    </tr>\n",
       "  </thead>\n",
       "  <tbody>\n",
       "    <tr>\n",
       "      <th>le_10K</th>\n",
       "      <td>2119</td>\n",
       "      <td>198</td>\n",
       "    </tr>\n",
       "    <tr>\n",
       "      <th>10K to 20K</th>\n",
       "      <td>360</td>\n",
       "      <td>162</td>\n",
       "    </tr>\n",
       "    <tr>\n",
       "      <th>20K to 30K</th>\n",
       "      <td>1099</td>\n",
       "      <td>282</td>\n",
       "    </tr>\n",
       "    <tr>\n",
       "      <th>30K to 40K</th>\n",
       "      <td>767</td>\n",
       "      <td>126</td>\n",
       "    </tr>\n",
       "    <tr>\n",
       "      <th>40K to 55K</th>\n",
       "      <td>1022</td>\n",
       "      <td>108</td>\n",
       "    </tr>\n",
       "    <tr>\n",
       "      <th>55K to 65K</th>\n",
       "      <td>659</td>\n",
       "      <td>162</td>\n",
       "    </tr>\n",
       "    <tr>\n",
       "      <th>65K to 70K</th>\n",
       "      <td>313</td>\n",
       "      <td>36</td>\n",
       "    </tr>\n",
       "    <tr>\n",
       "      <th>gt_70K</th>\n",
       "      <td>1487</td>\n",
       "      <td>234</td>\n",
       "    </tr>\n",
       "  </tbody>\n",
       "</table>\n",
       "</div>"
      ],
      "text/plain": [
       "Response       No  Yes\n",
       "Income_Bins           \n",
       "le_10K       2119  198\n",
       "10K to 20K   360   162\n",
       "20K to 30K   1099  282\n",
       "30K to 40K   767   126\n",
       "40K to 55K   1022  108\n",
       "55K to 65K   659   162\n",
       "65K to 70K   313   36 \n",
       "gt_70K       1487  234"
      ]
     },
     "execution_count": 316,
     "metadata": {},
     "output_type": "execute_result"
    },
    {
     "data": {
      "text/plain": [
       "(269.52539723729649,\n",
       " 1.9218649037582163e-54,\n",
       " 7L,\n",
       " array([[ 1985.20275892,   331.79724108],\n",
       "        [  447.24895993,    74.75104007],\n",
       "        [ 1183.23910663,   197.76089337],\n",
       "        [  765.12130501,   127.87869499],\n",
       "        [  968.18261441,   161.81738559],\n",
       "        [  703.4317933 ,   117.5682067 ],\n",
       "        [  299.02277206,    49.97722794],\n",
       "        [ 1474.55068973,   246.44931027]]))"
      ]
     },
     "execution_count": 316,
     "metadata": {},
     "output_type": "execute_result"
    }
   ],
   "source": [
    "data['Income_Bins'] = pd.Categorical.from_array(pd.cut(data['Income'], bins, labels=group_names))\n",
    "\n",
    "# Perform chi-sq test for independence \n",
    "cross_tab = pd.crosstab(data.Income_Bins, data.Response, margins = False)\n",
    "cross_tab\n",
    "\n",
    "\n",
    "chi_Sq_res = stats.chi2_contingency(observed= cross_tab)\n",
    "chi_Sq_res\n",
    "\n",
    "chi_sq_stat = chi_Sq_res[0]\n",
    "p_val = chi_Sq_res[1]\n",
    "deg_free = chi_Sq_res[2]\n",
    "exp_counts = chi_Sq_res[3]\n",
    "\n"
   ]
  },
  {
   "cell_type": "markdown",
   "metadata": {},
   "source": [
    "From the 100 percent stacked bar, 'Response' variable seems to have a variation between the various Income Bins. A low p-value (1.92e-54) from the chi-square test of independence confirms this. \n",
    "\n",
    "We will retain this variable for further analysis. However, we drop the Income variable and we will 'dummify' the categorical variable and remove the original variable.\n"
   ]
  },
  {
   "cell_type": "code",
   "execution_count": 317,
   "metadata": {
    "collapsed": true
   },
   "outputs": [],
   "source": [
    "data = data.join(pd.get_dummies(data['Income_Bins'], prefix='Income').ix[:, 1:])\n"
   ]
  },
  {
   "cell_type": "markdown",
   "metadata": {},
   "source": [
    "##### Monthly Premium Auto\t\n",
    "\n",
    "Is there a pattern here? We will look at the histograms and/or create binned variables to see if this variable is useful for prediction.\n"
   ]
  },
  {
   "cell_type": "code",
   "execution_count": 681,
   "metadata": {
    "collapsed": false
   },
   "outputs": [
    {
     "name": "stdout",
     "output_type": "stream",
     "text": [
      "This is the format of your plot grid:\n",
      "[ (1,1) x1,y1 ]  [ (1,2) x2,y2 ]\n",
      "\n"
     ]
    },
    {
     "data": {
      "text/html": [
       "<iframe id=\"igraph\" scrolling=\"no\" style=\"border:none;\" seamless=\"seamless\" src=\"https://plot.ly/~kishkp/264.embed\" height=\"525px\" width=\"100%\"></iframe>"
      ],
      "text/plain": [
       "<plotly.tools.PlotlyDisplay object>"
      ]
     },
     "execution_count": 681,
     "metadata": {},
     "output_type": "execute_result"
    }
   ],
   "source": [
    "\n",
    "x_0 = data[(data[\"Response\"] == 'Yes')].MonthlyPremiumAuto\n",
    "x_1 = data[(data[\"Response\"] == 'No')].MonthlyPremiumAuto\n",
    "\n",
    "\n",
    "trace1 = go.Histogram(x=x_0, opacity=0.75, name='Response = Yes', )\n",
    "trace2 = go.Histogram(x=x_1, opacity=0.75, name='Response = No',)\n",
    "trace3 = go.Box(y=x_0, boxpoints='all', jitter=0.3, pointpos=-1.8, name='Response = Yes',)\n",
    "trace4 = go.Box(y=x_1, boxpoints='all', jitter=0.3, pointpos=-1.8, name='Response = No',)\n",
    "\n",
    "fig = tools.make_subplots(1, 2)\n",
    "fig.append_trace(trace1, 1, 1)\n",
    "fig.append_trace(trace2, 1, 1)\n",
    "fig.append_trace(trace3, 1, 2)\n",
    "fig.append_trace(trace4, 1, 2)\n",
    "\n",
    "fig['layout'].update(barmode='overlay')\n",
    "py.iplot(fig)\n"
   ]
  },
  {
   "cell_type": "code",
   "execution_count": 318,
   "metadata": {
    "collapsed": false,
    "scrolled": true
   },
   "outputs": [
    {
     "data": {
      "text/html": [
       "<div>\n",
       "<table border=\"1\" class=\"dataframe\">\n",
       "  <thead>\n",
       "    <tr style=\"text-align: right;\">\n",
       "      <th></th>\n",
       "      <th>Resp_codes</th>\n",
       "      <th>MonthlyPremiumAuto</th>\n",
       "    </tr>\n",
       "  </thead>\n",
       "  <tbody>\n",
       "    <tr>\n",
       "      <th>Resp_codes</th>\n",
       "      <td>1.000000</td>\n",
       "      <td>0.010966</td>\n",
       "    </tr>\n",
       "    <tr>\n",
       "      <th>MonthlyPremiumAuto</th>\n",
       "      <td>0.010966</td>\n",
       "      <td>1.000000</td>\n",
       "    </tr>\n",
       "  </tbody>\n",
       "</table>\n",
       "</div>"
      ],
      "text/plain": [
       "                    Resp_codes  MonthlyPremiumAuto\n",
       "Resp_codes          1.000000    0.010966          \n",
       "MonthlyPremiumAuto  0.010966    1.000000          "
      ]
     },
     "execution_count": 318,
     "metadata": {},
     "output_type": "execute_result"
    }
   ],
   "source": [
    "data[['Resp_codes','MonthlyPremiumAuto']].corr()"
   ]
  },
  {
   "cell_type": "markdown",
   "metadata": {},
   "source": [
    "From the above histogram and box-plot, it seems like Monthly Premium Auto does not have a strong influence on Response. This is confirmed by the correlation between these two variables. \n",
    "\n",
    "Lets see if binning has a better influence."
   ]
  },
  {
   "cell_type": "code",
   "execution_count": 320,
   "metadata": {
    "collapsed": true
   },
   "outputs": [],
   "source": [
    "bins = [data['MonthlyPremiumAuto'].min()-10, 75, 95, 120, 140, data['MonthlyPremiumAuto'].max()+1]\n",
    "group_names = ['le_75', '75 to 95', '95 to 120', '120 to 140', 'gt_140']"
   ]
  },
  {
   "cell_type": "code",
   "execution_count": 693,
   "metadata": {
    "collapsed": false
   },
   "outputs": [
    {
     "name": "stdout",
     "output_type": "stream",
     "text": [
      "This is the format of your plot grid:\n",
      "[ (1,1) x1,y1 ]  [ (1,2) x2,y2 ]\n",
      "\n"
     ]
    },
    {
     "data": {
      "text/html": [
       "<iframe id=\"igraph\" scrolling=\"no\" style=\"border:none;\" seamless=\"seamless\" src=\"https://plot.ly/~kishkp/276.embed\" height=\"525px\" width=\"100%\"></iframe>"
      ],
      "text/plain": [
       "<plotly.tools.PlotlyDisplay object>"
      ]
     },
     "execution_count": 693,
     "metadata": {},
     "output_type": "execute_result"
    }
   ],
   "source": [
    "\n",
    "data['MonthlyPremium_Bins'] = pd.Categorical.from_array(pd.cut(data['MonthlyPremiumAuto'], bins, labels=group_names)).codes\n",
    "\n",
    "# show box_plots\n",
    "\n",
    "x_0 = data.MonthlyPremium_Bins.unique()\n",
    "y_0 = data[(data[\"Response\"] == 'Yes')].MonthlyPremium_Bins.value_counts()\n",
    "y_1 = data[(data[\"Response\"] == 'No')].MonthlyPremium_Bins.value_counts()\n",
    "\n",
    "totals = y_0 + y_1\n",
    "\n",
    "# Create the percentage of the total \n",
    "y_2 = y_0 / totals\n",
    "y_3 = y_1 / totals\n",
    "\n",
    "trace1 = Bar(x=x_0, y=y_0,  name = 'Response = Yes',)\n",
    "trace2 = Bar(x=x_0,y=y_1,  name = 'Response = No',)\n",
    "trace3 = Bar(x=x_0, y=y_2,  name = 'Response = Yes',)\n",
    "trace4 = Bar(x=x_0,y=y_3,  name = 'Response = No',)\n",
    "\n",
    "fig = tools.make_subplots(1, 2)\n",
    "fig.append_trace(trace1, 1, 1)\n",
    "fig.append_trace(trace2, 1, 1)\n",
    "fig.append_trace(trace3, 1, 2)\n",
    "fig.append_trace(trace4, 1, 2)\n",
    "\n",
    "fig['layout'].update(barmode='stack')\n",
    "py.iplot(fig)\n"
   ]
  },
  {
   "cell_type": "code",
   "execution_count": 321,
   "metadata": {
    "collapsed": false
   },
   "outputs": [
    {
     "data": {
      "text/html": [
       "<div>\n",
       "<table border=\"1\" class=\"dataframe\">\n",
       "  <thead>\n",
       "    <tr style=\"text-align: right;\">\n",
       "      <th>Response</th>\n",
       "      <th>No</th>\n",
       "      <th>Yes</th>\n",
       "    </tr>\n",
       "    <tr>\n",
       "      <th>MonthlyPremium_Bins</th>\n",
       "      <th></th>\n",
       "      <th></th>\n",
       "    </tr>\n",
       "  </thead>\n",
       "  <tbody>\n",
       "    <tr>\n",
       "      <th>le_75</th>\n",
       "      <td>3433</td>\n",
       "      <td>540</td>\n",
       "    </tr>\n",
       "    <tr>\n",
       "      <th>75 to 95</th>\n",
       "      <td>1413</td>\n",
       "      <td>216</td>\n",
       "    </tr>\n",
       "    <tr>\n",
       "      <th>95 to 120</th>\n",
       "      <td>1924</td>\n",
       "      <td>390</td>\n",
       "    </tr>\n",
       "    <tr>\n",
       "      <th>120 to 140</th>\n",
       "      <td>577</td>\n",
       "      <td>102</td>\n",
       "    </tr>\n",
       "    <tr>\n",
       "      <th>gt_140</th>\n",
       "      <td>479</td>\n",
       "      <td>60</td>\n",
       "    </tr>\n",
       "  </tbody>\n",
       "</table>\n",
       "</div>"
      ],
      "text/plain": [
       "Response               No  Yes\n",
       "MonthlyPremium_Bins           \n",
       "le_75                3433  540\n",
       "75 to 95             1413  216\n",
       "95 to 120            1924  390\n",
       "120 to 140           577   102\n",
       "gt_140               479   60 "
      ]
     },
     "execution_count": 321,
     "metadata": {},
     "output_type": "execute_result"
    },
    {
     "data": {
      "text/plain": [
       "(20.057964791264904,\n",
       " 0.00048641138326177601,\n",
       " 4L,\n",
       " array([[ 3404.06152836,   568.93847164],\n",
       "        [ 1395.72520254,   233.27479746],\n",
       "        [ 1982.6323626 ,   331.3676374 ],\n",
       "        [  581.76636742,    97.23363258],\n",
       "        [  461.81453908,    77.18546092]]))"
      ]
     },
     "execution_count": 321,
     "metadata": {},
     "output_type": "execute_result"
    }
   ],
   "source": [
    "data['MonthlyPremium_Bins'] = pd.Categorical.from_array(pd.cut(data['MonthlyPremiumAuto'], bins, labels=group_names))\n",
    "\n",
    "# Perform chi-sq test for independence \n",
    "cross_tab = pd.crosstab(data.MonthlyPremium_Bins, data.Response, margins = False)\n",
    "cross_tab\n",
    "\n",
    "\n",
    "chi_Sq_res = stats.chi2_contingency(observed= cross_tab)\n",
    "chi_Sq_res\n",
    "\n",
    "chi_sq_stat = chi_Sq_res[0]\n",
    "p_val = chi_Sq_res[1]\n",
    "deg_free = chi_Sq_res[2]\n",
    "exp_counts = chi_Sq_res[3]\n",
    "\n"
   ]
  },
  {
   "cell_type": "markdown",
   "metadata": {},
   "source": [
    "From the 100 percent stacked bar, 'Response' variable seems to have a variation between the various Monthly Premium Bins. A low p-value (7.84e-06) from the chi-square test of independence confirms this. \n",
    "\n",
    "We will retain this variable for further analysis. However, we drop the Monthly Premium Auto variable and we will 'dummify' the categorical variable and remove the original variable.\n"
   ]
  },
  {
   "cell_type": "code",
   "execution_count": 322,
   "metadata": {
    "collapsed": true
   },
   "outputs": [],
   "source": [
    "data = data.join(pd.get_dummies(data['MonthlyPremium_Bins'], prefix='MntlyPrem').ix[:, 1:])\n"
   ]
  },
  {
   "cell_type": "markdown",
   "metadata": {},
   "source": [
    "##### Months Since Last Claim\t\n",
    "\n",
    "Is there a pattern here? We will look at the histograms and/or create binned variables to see if this variable is useful for prediction.\n"
   ]
  },
  {
   "cell_type": "code",
   "execution_count": 694,
   "metadata": {
    "collapsed": false
   },
   "outputs": [
    {
     "name": "stdout",
     "output_type": "stream",
     "text": [
      "This is the format of your plot grid:\n",
      "[ (1,1) x1,y1 ]  [ (1,2) x2,y2 ]\n",
      "\n"
     ]
    },
    {
     "data": {
      "text/html": [
       "<iframe id=\"igraph\" scrolling=\"no\" style=\"border:none;\" seamless=\"seamless\" src=\"https://plot.ly/~kishkp/278.embed\" height=\"525px\" width=\"100%\"></iframe>"
      ],
      "text/plain": [
       "<plotly.tools.PlotlyDisplay object>"
      ]
     },
     "execution_count": 694,
     "metadata": {},
     "output_type": "execute_result"
    }
   ],
   "source": [
    "\n",
    "x_0 = data[(data[\"Response\"] == 'Yes')].MonthsSinceLastClaim\n",
    "x_1 = data[(data[\"Response\"] == 'No')].MonthsSinceLastClaim\n",
    "\n",
    "trace1 = go.Histogram(x=x_0, opacity=0.75, name='Response = Yes', )\n",
    "trace2 = go.Histogram(x=x_1, opacity=0.75, name='Response = No',)\n",
    "trace3 = go.Box(y=x_0, boxpoints='all', jitter=0.3, pointpos=-1.8, name='Response = Yes',)\n",
    "trace4 = go.Box(y=x_1, boxpoints='all', jitter=0.3, pointpos=-1.8, name='Response = No',)\n",
    "\n",
    "fig = tools.make_subplots(1, 2)\n",
    "fig.append_trace(trace1, 1, 1)\n",
    "fig.append_trace(trace2, 1, 1)\n",
    "fig.append_trace(trace3, 1, 2)\n",
    "fig.append_trace(trace4, 1, 2)\n",
    "\n",
    "fig['layout'].update(barmode='overlay')\n",
    "py.iplot(fig)\n",
    "\n"
   ]
  },
  {
   "cell_type": "code",
   "execution_count": 323,
   "metadata": {
    "collapsed": false
   },
   "outputs": [
    {
     "data": {
      "text/html": [
       "<div>\n",
       "<table border=\"1\" class=\"dataframe\">\n",
       "  <thead>\n",
       "    <tr style=\"text-align: right;\">\n",
       "      <th></th>\n",
       "      <th>Resp_codes</th>\n",
       "      <th>MonthsSinceLastClaim</th>\n",
       "    </tr>\n",
       "  </thead>\n",
       "  <tbody>\n",
       "    <tr>\n",
       "      <th>Resp_codes</th>\n",
       "      <td>1.000000</td>\n",
       "      <td>-0.016597</td>\n",
       "    </tr>\n",
       "    <tr>\n",
       "      <th>MonthsSinceLastClaim</th>\n",
       "      <td>-0.016597</td>\n",
       "      <td>1.000000</td>\n",
       "    </tr>\n",
       "  </tbody>\n",
       "</table>\n",
       "</div>"
      ],
      "text/plain": [
       "                      Resp_codes  MonthsSinceLastClaim\n",
       "Resp_codes            1.000000   -0.016597            \n",
       "MonthsSinceLastClaim -0.016597    1.000000            "
      ]
     },
     "execution_count": 323,
     "metadata": {},
     "output_type": "execute_result"
    }
   ],
   "source": [
    "data[['Resp_codes','MonthsSinceLastClaim']].corr()\n"
   ]
  },
  {
   "cell_type": "markdown",
   "metadata": {},
   "source": [
    "From the above histogram and box-plot, it seems like Months Since Last Claim does not have a strong influence on Response. This is confirmed by the correlation between these two variables. We will drop this variable from further analysis.\n"
   ]
  },
  {
   "cell_type": "markdown",
   "metadata": {},
   "source": [
    "##### Months Since Policy Inception\t\n",
    "\n",
    "Is there a pattern here? We will look at the histograms and/or create binned variables to see if this variable is useful for prediction.\n"
   ]
  },
  {
   "cell_type": "code",
   "execution_count": 695,
   "metadata": {
    "collapsed": false
   },
   "outputs": [
    {
     "name": "stdout",
     "output_type": "stream",
     "text": [
      "This is the format of your plot grid:\n",
      "[ (1,1) x1,y1 ]  [ (1,2) x2,y2 ]\n",
      "\n"
     ]
    },
    {
     "data": {
      "text/html": [
       "<iframe id=\"igraph\" scrolling=\"no\" style=\"border:none;\" seamless=\"seamless\" src=\"https://plot.ly/~kishkp/280.embed\" height=\"525px\" width=\"100%\"></iframe>"
      ],
      "text/plain": [
       "<plotly.tools.PlotlyDisplay object>"
      ]
     },
     "execution_count": 695,
     "metadata": {},
     "output_type": "execute_result"
    }
   ],
   "source": [
    "x_0 = data[(data[\"Response\"] == 'Yes')].MonthsSincePolicyInception\n",
    "x_1 = data[(data[\"Response\"] == 'No')].MonthsSincePolicyInception\n",
    "\n",
    "trace1 = go.Histogram(x=x_0, opacity=0.75, name='Response = Yes', )\n",
    "trace2 = go.Histogram(x=x_1, opacity=0.75, name='Response = No',)\n",
    "trace3 = go.Box(y=x_0, boxpoints='all', jitter=0.3, pointpos=-1.8, name='Response = Yes',)\n",
    "trace4 = go.Box(y=x_1, boxpoints='all', jitter=0.3, pointpos=-1.8, name='Response = No',)\n",
    "\n",
    "fig = tools.make_subplots(1, 2)\n",
    "fig.append_trace(trace1, 1, 1)\n",
    "fig.append_trace(trace2, 1, 1)\n",
    "fig.append_trace(trace3, 1, 2)\n",
    "fig.append_trace(trace4, 1, 2)\n",
    "\n",
    "fig['layout'].update(barmode='overlay')\n",
    "py.iplot(fig)\n"
   ]
  },
  {
   "cell_type": "code",
   "execution_count": 324,
   "metadata": {
    "collapsed": false
   },
   "outputs": [
    {
     "data": {
      "text/html": [
       "<div>\n",
       "<table border=\"1\" class=\"dataframe\">\n",
       "  <thead>\n",
       "    <tr style=\"text-align: right;\">\n",
       "      <th></th>\n",
       "      <th>Resp_codes</th>\n",
       "      <th>MonthsSincePolicyInception</th>\n",
       "    </tr>\n",
       "  </thead>\n",
       "  <tbody>\n",
       "    <tr>\n",
       "      <th>Resp_codes</th>\n",
       "      <td>1.000000</td>\n",
       "      <td>0.002952</td>\n",
       "    </tr>\n",
       "    <tr>\n",
       "      <th>MonthsSincePolicyInception</th>\n",
       "      <td>0.002952</td>\n",
       "      <td>1.000000</td>\n",
       "    </tr>\n",
       "  </tbody>\n",
       "</table>\n",
       "</div>"
      ],
      "text/plain": [
       "                            Resp_codes  MonthsSincePolicyInception\n",
       "Resp_codes                  1.000000    0.002952                  \n",
       "MonthsSincePolicyInception  0.002952    1.000000                  "
      ]
     },
     "execution_count": 324,
     "metadata": {},
     "output_type": "execute_result"
    }
   ],
   "source": [
    "data[['Resp_codes','MonthsSincePolicyInception']].corr()\n"
   ]
  },
  {
   "cell_type": "markdown",
   "metadata": {},
   "source": [
    "From the above histogram and box-plot, it seems like Months Since Policy Inception does not have a strong influence on Response. This is confirmed by the correlation between these two variables. We will drop this variable from further analysis.\n"
   ]
  },
  {
   "cell_type": "markdown",
   "metadata": {},
   "source": [
    "##### Number of Open Complaints\t\n",
    "\n",
    "Is there a pattern here? We can treat this field as a category rather than a numerical. Lets see if this helps in the predictions. \n"
   ]
  },
  {
   "cell_type": "code",
   "execution_count": 325,
   "metadata": {
    "collapsed": false
   },
   "outputs": [
    {
     "data": {
      "text/html": [
       "<div>\n",
       "<table border=\"1\" class=\"dataframe\">\n",
       "  <thead>\n",
       "    <tr style=\"text-align: right;\">\n",
       "      <th>Response</th>\n",
       "      <th>No</th>\n",
       "      <th>Yes</th>\n",
       "    </tr>\n",
       "    <tr>\n",
       "      <th>NumberofOpenComplaints_str</th>\n",
       "      <th></th>\n",
       "      <th></th>\n",
       "    </tr>\n",
       "  </thead>\n",
       "  <tbody>\n",
       "    <tr>\n",
       "      <th>0</th>\n",
       "      <td>6190</td>\n",
       "      <td>1062</td>\n",
       "    </tr>\n",
       "    <tr>\n",
       "      <th>1</th>\n",
       "      <td>873</td>\n",
       "      <td>138</td>\n",
       "    </tr>\n",
       "    <tr>\n",
       "      <th>2</th>\n",
       "      <td>350</td>\n",
       "      <td>24</td>\n",
       "    </tr>\n",
       "    <tr>\n",
       "      <th>3</th>\n",
       "      <td>238</td>\n",
       "      <td>54</td>\n",
       "    </tr>\n",
       "    <tr>\n",
       "      <th>4</th>\n",
       "      <td>125</td>\n",
       "      <td>24</td>\n",
       "    </tr>\n",
       "    <tr>\n",
       "      <th>5</th>\n",
       "      <td>50</td>\n",
       "      <td>6</td>\n",
       "    </tr>\n",
       "  </tbody>\n",
       "</table>\n",
       "</div>"
      ],
      "text/plain": [
       "Response                      No   Yes\n",
       "NumberofOpenComplaints_str            \n",
       "0                           6190  1062\n",
       "1                           873   138 \n",
       "2                           350   24  \n",
       "3                           238   54  \n",
       "4                           125   24  \n",
       "5                           50    6   "
      ]
     },
     "execution_count": 325,
     "metadata": {},
     "output_type": "execute_result"
    },
    {
     "data": {
      "text/plain": [
       "(25.155262642292971,\n",
       " 0.00013003705338174944,\n",
       " 5L,\n",
       " array([[ 6213.50470769,  1038.49529231],\n",
       "        [  866.22356032,   144.77643968],\n",
       "        [  320.44274141,    53.55725859],\n",
       "        [  250.18524195,    41.81475805],\n",
       "        [  127.6630173 ,    21.3369827 ],\n",
       "        [   47.98073133,     8.01926867]]))"
      ]
     },
     "execution_count": 325,
     "metadata": {},
     "output_type": "execute_result"
    }
   ],
   "source": [
    "data[\"NumberofOpenComplaints_str\"] =  data.NumberofOpenComplaints.astype('category')\n",
    "\n",
    "\n",
    "# Perform chi-sq test for independence \n",
    "cross_tab = pd.crosstab(data.NumberofOpenComplaints_str, data.Response, margins = False)\n",
    "cross_tab\n",
    "\n",
    "\n",
    "chi_Sq_res = stats.chi2_contingency(observed= cross_tab)\n",
    "chi_Sq_res\n",
    "\n",
    "chi_sq_stat = chi_Sq_res[0]\n",
    "p_val = chi_Sq_res[1]\n",
    "deg_free = chi_Sq_res[2]\n",
    "exp_counts = chi_Sq_res[3]\n",
    "\n"
   ]
  },
  {
   "cell_type": "markdown",
   "metadata": {},
   "source": [
    "The low p-value (0.00013) from the chi-square test of independence confirms that treating this variable as a catrgorical makes it significant in the correlation.\n",
    "\n",
    "We will retain this variable for further analysis. However, we drop the Number of Open Complaints variable and we will 'dummify' this categorical variable and remove the original variable.\n"
   ]
  },
  {
   "cell_type": "code",
   "execution_count": 326,
   "metadata": {
    "collapsed": true
   },
   "outputs": [],
   "source": [
    "data = data.join(pd.get_dummies(data['NumberofOpenComplaints_str'], prefix='OpnCmplnts').ix[:, 1:])\n"
   ]
  },
  {
   "cell_type": "markdown",
   "metadata": {},
   "source": [
    "##### Number of Policies\t\n",
    "\n",
    "We will follow a similar pattern for this variable as well. We can treat this field as a category rather than a numerical. Lets see if this helps in the predictions."
   ]
  },
  {
   "cell_type": "code",
   "execution_count": 327,
   "metadata": {
    "collapsed": false
   },
   "outputs": [
    {
     "data": {
      "text/html": [
       "<div>\n",
       "<table border=\"1\" class=\"dataframe\">\n",
       "  <thead>\n",
       "    <tr style=\"text-align: right;\">\n",
       "      <th>Response</th>\n",
       "      <th>No</th>\n",
       "      <th>Yes</th>\n",
       "    </tr>\n",
       "    <tr>\n",
       "      <th>NumberofPolicies_str</th>\n",
       "      <th></th>\n",
       "      <th></th>\n",
       "    </tr>\n",
       "  </thead>\n",
       "  <tbody>\n",
       "    <tr>\n",
       "      <th>1</th>\n",
       "      <td>2735</td>\n",
       "      <td>516</td>\n",
       "    </tr>\n",
       "    <tr>\n",
       "      <th>2</th>\n",
       "      <td>1952</td>\n",
       "      <td>342</td>\n",
       "    </tr>\n",
       "    <tr>\n",
       "      <th>3</th>\n",
       "      <td>1036</td>\n",
       "      <td>132</td>\n",
       "    </tr>\n",
       "    <tr>\n",
       "      <th>4</th>\n",
       "      <td>367</td>\n",
       "      <td>42</td>\n",
       "    </tr>\n",
       "    <tr>\n",
       "      <th>5</th>\n",
       "      <td>347</td>\n",
       "      <td>60</td>\n",
       "    </tr>\n",
       "    <tr>\n",
       "      <th>6</th>\n",
       "      <td>330</td>\n",
       "      <td>42</td>\n",
       "    </tr>\n",
       "    <tr>\n",
       "      <th>7</th>\n",
       "      <td>373</td>\n",
       "      <td>60</td>\n",
       "    </tr>\n",
       "    <tr>\n",
       "      <th>8</th>\n",
       "      <td>342</td>\n",
       "      <td>42</td>\n",
       "    </tr>\n",
       "    <tr>\n",
       "      <th>9</th>\n",
       "      <td>344</td>\n",
       "      <td>72</td>\n",
       "    </tr>\n",
       "  </tbody>\n",
       "</table>\n",
       "</div>"
      ],
      "text/plain": [
       "Response                No  Yes\n",
       "NumberofPolicies_str           \n",
       "1                     2735  516\n",
       "2                     1952  342\n",
       "3                     1036  132\n",
       "4                     367   42 \n",
       "5                     347   60 \n",
       "6                     330   42 \n",
       "7                     373   60 \n",
       "8                     342   42 \n",
       "9                     344   72 "
      ]
     },
     "execution_count": 327,
     "metadata": {},
     "output_type": "execute_result"
    },
    {
     "data": {
      "text/plain": [
       "(30.700029543086512,\n",
       " 0.0001588618575107321,\n",
       " 8L,\n",
       " array([[ 2785.45281366,   465.54718634],\n",
       "        [ 1965.49638713,   328.50361287],\n",
       "        [ 1000.74096781,   167.25903219],\n",
       "        [  350.43069849,    58.56930151],\n",
       "        [  348.71710094,    58.28289906],\n",
       "        [  318.72914386,    53.27085614],\n",
       "        [  370.99386906,    62.00613094],\n",
       "        [  329.01072914,    54.98927086],\n",
       "        [  356.42828991,    59.57171009]]))"
      ]
     },
     "execution_count": 327,
     "metadata": {},
     "output_type": "execute_result"
    }
   ],
   "source": [
    "data[\"NumberofPolicies_str\"] =  data.NumberofPolicies.astype('category')\n",
    "\n",
    "\n",
    "# Perform chi-sq test for independence \n",
    "cross_tab = pd.crosstab(data.NumberofPolicies_str, data.Response, margins = False)\n",
    "cross_tab\n",
    "\n",
    "\n",
    "chi_Sq_res = stats.chi2_contingency(observed= cross_tab)\n",
    "chi_Sq_res\n",
    "\n",
    "chi_sq_stat = chi_Sq_res[0]\n",
    "p_val = chi_Sq_res[1]\n",
    "deg_free = chi_Sq_res[2]\n",
    "exp_counts = chi_Sq_res[3]\n",
    "\n"
   ]
  },
  {
   "cell_type": "markdown",
   "metadata": {},
   "source": [
    "The low p-value (0.000158) from the chi-square test of independence confirms that treating this variable as a catrgorical makes it significant in the correlation.\n",
    "\n",
    "We will retain this variable for further analysis. However, we drop the Number of Policies variable and we will 'dummify' this categorical variable and remove the original variable.\n"
   ]
  },
  {
   "cell_type": "code",
   "execution_count": 328,
   "metadata": {
    "collapsed": false
   },
   "outputs": [],
   "source": [
    "data = data.join(pd.get_dummies(data['NumberofPolicies_str'], prefix='NumPolcs').ix[:, 1:])\n"
   ]
  },
  {
   "cell_type": "markdown",
   "metadata": {},
   "source": [
    "##### Total Claim Amount\t\n",
    "\n",
    "Does the Total claim amount impact campaign response. Is there a pattern to find here?. We will try binning this variable to see if we can get more predictive power. We will look at the frequency distribution / histograms and correlation to response to see if this is a variable worth considering.\n"
   ]
  },
  {
   "cell_type": "code",
   "execution_count": 696,
   "metadata": {
    "collapsed": false
   },
   "outputs": [
    {
     "name": "stdout",
     "output_type": "stream",
     "text": [
      "This is the format of your plot grid:\n",
      "[ (1,1) x1,y1 ]  [ (1,2) x2,y2 ]\n",
      "\n"
     ]
    },
    {
     "data": {
      "text/html": [
       "<iframe id=\"igraph\" scrolling=\"no\" style=\"border:none;\" seamless=\"seamless\" src=\"https://plot.ly/~kishkp/282.embed\" height=\"525px\" width=\"100%\"></iframe>"
      ],
      "text/plain": [
       "<plotly.tools.PlotlyDisplay object>"
      ]
     },
     "execution_count": 696,
     "metadata": {},
     "output_type": "execute_result"
    }
   ],
   "source": [
    "x_0 = data[(data[\"Response\"] == 'Yes')].TotalClaimAmount\n",
    "x_1 = data[(data[\"Response\"] == 'No')].TotalClaimAmount\n",
    "\n",
    "trace1 = go.Histogram(x=x_0, opacity=0.75, name='Response = Yes', )\n",
    "trace2 = go.Histogram(x=x_1, opacity=0.75, name='Response = No',)\n",
    "trace3 = go.Box(y=x_0, boxpoints='all', jitter=0.3, pointpos=-1.8, name='Response = Yes',)\n",
    "trace4 = go.Box(y=x_1, boxpoints='all', jitter=0.3, pointpos=-1.8, name='Response = No',)\n",
    "\n",
    "fig = tools.make_subplots(1, 2)\n",
    "fig.append_trace(trace1, 1, 1)\n",
    "fig.append_trace(trace2, 1, 1)\n",
    "fig.append_trace(trace3, 1, 2)\n",
    "fig.append_trace(trace4, 1, 2)\n",
    "\n",
    "fig['layout'].update(barmode='overlay')\n",
    "py.iplot(fig)\n"
   ]
  },
  {
   "cell_type": "code",
   "execution_count": 236,
   "metadata": {
    "collapsed": false,
    "scrolled": true
   },
   "outputs": [
    {
     "data": {
      "text/html": [
       "<div>\n",
       "<table border=\"1\" class=\"dataframe\">\n",
       "  <thead>\n",
       "    <tr style=\"text-align: right;\">\n",
       "      <th></th>\n",
       "      <th>Resp_codes</th>\n",
       "      <th>TotalClaimAmount</th>\n",
       "    </tr>\n",
       "  </thead>\n",
       "  <tbody>\n",
       "    <tr>\n",
       "      <th>Resp_codes</th>\n",
       "      <td>1.000000</td>\n",
       "      <td>0.016877</td>\n",
       "    </tr>\n",
       "    <tr>\n",
       "      <th>TotalClaimAmount</th>\n",
       "      <td>0.016877</td>\n",
       "      <td>1.000000</td>\n",
       "    </tr>\n",
       "  </tbody>\n",
       "</table>\n",
       "</div>"
      ],
      "text/plain": [
       "                  Resp_codes  TotalClaimAmount\n",
       "Resp_codes        1.000000    0.016877        \n",
       "TotalClaimAmount  0.016877    1.000000        "
      ]
     },
     "execution_count": 236,
     "metadata": {},
     "output_type": "execute_result"
    }
   ],
   "source": [
    "data[['Resp_codes','TotalClaimAmount']].corr()"
   ]
  },
  {
   "cell_type": "markdown",
   "metadata": {},
   "source": [
    "From the above histogram and box-plot, it seems like Total Claim Amount does not have a strong influence on Response. This is confirmed by the correlation between these two variables. \n",
    "\n",
    "Lets see if binning has a better influence."
   ]
  },
  {
   "cell_type": "code",
   "execution_count": 329,
   "metadata": {
    "collapsed": true
   },
   "outputs": [],
   "source": [
    "bins = [data['TotalClaimAmount'].min()-10, 250, 400, 600, 725, data['TotalClaimAmount'].max()+1]\n",
    "group_names = ['le_250', '250 to 400', '400 to 600', '600 to 725', 'gt_725']"
   ]
  },
  {
   "cell_type": "code",
   "execution_count": 697,
   "metadata": {
    "collapsed": false
   },
   "outputs": [
    {
     "name": "stdout",
     "output_type": "stream",
     "text": [
      "This is the format of your plot grid:\n",
      "[ (1,1) x1,y1 ]  [ (1,2) x2,y2 ]\n",
      "\n"
     ]
    },
    {
     "data": {
      "text/html": [
       "<iframe id=\"igraph\" scrolling=\"no\" style=\"border:none;\" seamless=\"seamless\" src=\"https://plot.ly/~kishkp/284.embed\" height=\"525px\" width=\"100%\"></iframe>"
      ],
      "text/plain": [
       "<plotly.tools.PlotlyDisplay object>"
      ]
     },
     "execution_count": 697,
     "metadata": {},
     "output_type": "execute_result"
    }
   ],
   "source": [
    "\n",
    "data['TotalClaimAmount_Bins'] = pd.Categorical.from_array(pd.cut(data['TotalClaimAmount'], bins, labels=group_names)).codes\n",
    "\n",
    "# show box_plots\n",
    "\n",
    "x_0 = data.MonthlyPremium_Bins.unique()\n",
    "y_0 = data[(data[\"Response\"] == 'Yes')].TotalClaimAmount_Bins.value_counts()\n",
    "y_1 = data[(data[\"Response\"] == 'No')].TotalClaimAmount_Bins.value_counts()\n",
    "\n",
    "totals = y_0 + y_1\n",
    "\n",
    "# Create the percentage of the total \n",
    "y_2 = y_0 / totals\n",
    "y_3 = y_1 / totals\n",
    "\n",
    "trace1 = Bar(x=x_0, y=y_0,  name = 'Response = Yes',)\n",
    "trace2 = Bar(x=x_0,y=y_1,  name = 'Response = No',)\n",
    "trace3 = Bar(x=x_0, y=y_2,  name = 'Response = Yes',)\n",
    "trace4 = Bar(x=x_0,y=y_3,  name = 'Response = No',)\n",
    "\n",
    "fig = tools.make_subplots(1, 2)\n",
    "fig.append_trace(trace1, 1, 1)\n",
    "fig.append_trace(trace2, 1, 1)\n",
    "fig.append_trace(trace3, 1, 2)\n",
    "fig.append_trace(trace4, 1, 2)\n",
    "\n",
    "fig['layout'].update(barmode='stack')\n",
    "py.iplot(fig)\n"
   ]
  },
  {
   "cell_type": "code",
   "execution_count": 330,
   "metadata": {
    "collapsed": false
   },
   "outputs": [
    {
     "data": {
      "text/html": [
       "<div>\n",
       "<table border=\"1\" class=\"dataframe\">\n",
       "  <thead>\n",
       "    <tr style=\"text-align: right;\">\n",
       "      <th>Response</th>\n",
       "      <th>No</th>\n",
       "      <th>Yes</th>\n",
       "    </tr>\n",
       "    <tr>\n",
       "      <th>TotalClaimAmount_Bins</th>\n",
       "      <th></th>\n",
       "      <th></th>\n",
       "    </tr>\n",
       "  </thead>\n",
       "  <tbody>\n",
       "    <tr>\n",
       "      <th>le_250</th>\n",
       "      <td>1922</td>\n",
       "      <td>186</td>\n",
       "    </tr>\n",
       "    <tr>\n",
       "      <th>250 to 400</th>\n",
       "      <td>2227</td>\n",
       "      <td>450</td>\n",
       "    </tr>\n",
       "    <tr>\n",
       "      <th>400 to 600</th>\n",
       "      <td>2091</td>\n",
       "      <td>450</td>\n",
       "    </tr>\n",
       "    <tr>\n",
       "      <th>600 to 725</th>\n",
       "      <td>598</td>\n",
       "      <td>108</td>\n",
       "    </tr>\n",
       "    <tr>\n",
       "      <th>gt_725</th>\n",
       "      <td>988</td>\n",
       "      <td>114</td>\n",
       "    </tr>\n",
       "  </tbody>\n",
       "</table>\n",
       "</div>"
      ],
      "text/plain": [
       "Response                 No  Yes\n",
       "TotalClaimAmount_Bins           \n",
       "le_250                 1922  186\n",
       "250 to 400             2227  450\n",
       "400 to 600             2091  450\n",
       "600 to 725             598   108\n",
       "gt_725                 988   114"
      ]
     },
     "execution_count": 330,
     "metadata": {},
     "output_type": "execute_result"
    },
    {
     "data": {
      "text/plain": [
       "(103.96805885041904,\n",
       " 1.4052961510061792e-21,\n",
       " 4L,\n",
       " array([[ 1806.1318152 ,   301.8681848 ],\n",
       "        [ 2293.6503175 ,   383.3496825 ],\n",
       "        [ 2177.12568426,   363.87431574],\n",
       "        [  604.89993431,   101.10006569],\n",
       "        [  944.19224874,   157.80775126]]))"
      ]
     },
     "execution_count": 330,
     "metadata": {},
     "output_type": "execute_result"
    }
   ],
   "source": [
    "data['TotalClaimAmount_Bins'] = pd.Categorical.from_array(pd.cut(data['TotalClaimAmount'], bins, labels=group_names))\n",
    "\n",
    "# Perform chi-sq test for independence \n",
    "cross_tab = pd.crosstab(data.TotalClaimAmount_Bins, data.Response, margins = False)\n",
    "cross_tab\n",
    "\n",
    "\n",
    "chi_Sq_res = stats.chi2_contingency(observed= cross_tab)\n",
    "chi_Sq_res\n",
    "\n",
    "chi_sq_stat = chi_Sq_res[0]\n",
    "p_val = chi_Sq_res[1]\n",
    "deg_free = chi_Sq_res[2]\n",
    "exp_counts = chi_Sq_res[3]\n",
    "\n"
   ]
  },
  {
   "cell_type": "markdown",
   "metadata": {},
   "source": [
    "From the 100 percent stacked bar, 'Response' variable seems to have a variation between the various Total Claim Amounts . A low p-value (1.41e-21) from the chi-square test of independence confirms this. \n",
    "\n",
    "We will retain this variable for further analysis. However, we drop the Total Claim Amount variable and we will 'dummify' the categorical variable and remove the original variable.\n"
   ]
  },
  {
   "cell_type": "code",
   "execution_count": 331,
   "metadata": {
    "collapsed": false
   },
   "outputs": [],
   "source": [
    "data = data.join(pd.get_dummies(data['TotalClaimAmount_Bins'], prefix='TotClmAmt').ix[:, 1:])\n"
   ]
  },
  {
   "cell_type": "markdown",
   "metadata": {
    "nbpresent": {
     "id": "4439bb3b-775f-4f88-8380-0781f0235512"
    }
   },
   "source": [
    "## \tPrepare Test / Train dataset\n",
    "\n",
    "We will now proceed to prepare the test and train datasets. We will use a 80-20 split for the train and test.  Before we do that, we add an intercept column. We will also drop all the columns that we had decided to discard earlier in the analysis. We all also drop the intermediate bin columns. "
   ]
  },
  {
   "cell_type": "code",
   "execution_count": 438,
   "metadata": {
    "collapsed": false,
    "scrolled": false
   },
   "outputs": [],
   "source": [
    "data.columns = data.columns.str.replace(' ', '')\n",
    "data.columns = data.columns.str.replace('-', '')\n",
    "\n",
    "data['intercept'] = 1.0\n",
    "\n",
    "#data.drop('Customer', axis=1, inplace=True)\n",
    "#data.drop('State', axis=1, inplace=True)\n",
    "#data.drop('Coverage', axis=1, inplace=True)\n",
    "#data.drop('Education', axis=1, inplace=True)\n",
    "#data.drop('EmploymentStatus', axis=1, inplace=True)\n",
    "#data.drop('Gender', axis=1, inplace=True)\n",
    "#data.drop('LocationCode', axis=1, inplace=True)\n",
    "#data.drop('MaritalStatus', axis=1, inplace=True)\n",
    "#data.drop('PolicyType', axis=1, inplace=True)\n",
    "#data.drop('Policy', axis=1, inplace=True)\n",
    "#data.drop('RenewOfferType', axis=1, inplace=True)\n",
    "#data.drop('SalesChannel', axis=1, inplace=True)\n",
    "#data.drop('VehicleClass', axis=1, inplace=True)\n",
    "#data.drop('VehicleSize', axis=1, inplace=True)\n",
    "#data.drop('ExpiryDays', axis=1, inplace=True)\n",
    "#data.drop('EffectiveToDate', axis=1, inplace=True)\n",
    "#data.drop('CustomerLifetimeValue', axis=1, inplace=True)\n",
    "#data.drop('CLTV_Bins', axis=1, inplace=True)\n",
    "#data.drop('Income', axis=1, inplace=True)\n",
    "#data.drop('Income_Bins', axis=1, inplace=True)\n",
    "#data.drop('MonthlyPremiumAuto', axis=1, inplace=True)\n",
    "#data.drop('MonthlyPremium_Bins', axis=1, inplace=True)\n",
    "#data.drop('MonthsSinceLastClaim', axis=1, inplace=True)\n",
    "#data.drop('MonthsSincePolicyInception', axis=1, inplace=True)\n",
    "#data.drop('NumberofOpenComplaints', axis=1, inplace=True)\n",
    "#data.drop('NumberofOpenComplaints_str', axis=1, inplace=True)\n",
    "#data.drop('NumberofPolicies', axis=1, inplace=True)\n",
    "#data.drop('NumberofPolicies_str', axis=1, inplace=True)\n",
    "#data.drop('TotalClaimAmount', axis=1, inplace=True)\n",
    "#data.drop('TotalClaimAmount_Bins', axis=1, inplace=True)\n",
    "#data.drop('Resp_codes', axis=1, inplace=True)\n",
    "\n",
    "Dependent_col = ['Resp_codes', 'Response']\n",
    "Independent_cols = ['Education_College', 'Education_Doctor', 'Education_HighSchoolorBelow', 'Education_Master', \\\n",
    "                    'EmploymentStatus_Employed', 'EmploymentStatus_MedicalLeave', 'EmploymentStatus_Retired', \\\n",
    "                    'EmploymentStatus_Unemployed', 'LocationCode_Suburban', 'LocationCode_Urban', 'MaritalStatus_Married', \\\n",
    "                    'MaritalStatus_Single', 'RenewOfferType_Offer2', 'RenewOfferType_Offer3', 'RenewOfferType_Offer4', \\\n",
    "                    'SalesChannel_Branch', 'SalesChannel_CallCenter', 'SalesChannel_Web', 'VehicleClass_LuxuryCar', \\\n",
    "                    'VehicleClass_LuxurySUV', 'VehicleClass_SUV', 'VehicleClass_SportsCar', 'VehicleClass_TwoDoorCar', \\\n",
    "                    'VehicleSize_Medsize', 'VehicleSize_Small', 'CLTV_10000to15000', 'CLTV_gt_15000', \\\n",
    "                    'Income_10Kto20K', 'Income_20Kto30K', 'Income_30Kto40K', 'Income_40Kto55K', 'Income_55Kto65K', \\\n",
    "                    'Income_65Kto70K', 'Income_gt_70K', 'MntlyPrem_75to95', 'MntlyPrem_95to120', 'MntlyPrem_120to140', \\\n",
    "                    'MntlyPrem_gt_140', 'OpnCmplnts_1', 'OpnCmplnts_2', 'OpnCmplnts_3', 'OpnCmplnts_4', 'OpnCmplnts_5', \\\n",
    "                    'NumPolcs_2', 'NumPolcs_3', 'NumPolcs_4', 'NumPolcs_5', 'NumPolcs_6', 'NumPolcs_7', 'NumPolcs_8', \\\n",
    "                    'NumPolcs_9', 'TotClmAmt_250to400', 'TotClmAmt_400to600', 'TotClmAmt_600to725', 'TotClmAmt_gt_725', \\\n",
    "                    'intercept']\n",
    "\n",
    "All_cols = Dependent_col + Independent_cols\n",
    "\n",
    "msk = np.random.rand(len(data)) < 0.8\n",
    "\n",
    "data_train = data.ix[msk, All_cols]\n",
    "#data_train.head()\n",
    "\n",
    "\n",
    "data_test = data.ix[~msk, All_cols]\n",
    "#data_test.head()\n"
   ]
  },
  {
   "cell_type": "markdown",
   "metadata": {
    "nbpresent": {
     "id": "146d4f2a-a084-4100-a9ce-6e5ed54c5d81"
    }
   },
   "source": [
    "## Build and Evaluate models\n",
    "\n",
    "We will next build at least 2 models with different subsets of variables and / or different algorithms. We will next compare and evaluate these models. \n",
    "\n",
    "### Model 1 \n",
    "\n",
    "In this model we will use logit() function from statsmodels package. "
   ]
  },
  {
   "cell_type": "code",
   "execution_count": 534,
   "metadata": {
    "collapsed": false,
    "scrolled": false
   },
   "outputs": [
    {
     "name": "stdout",
     "output_type": "stream",
     "text": [
      "Warning: Maximum number of iterations has been exceeded.\n",
      "         Current function value: 0.312477\n",
      "         Iterations: 35\n"
     ]
    },
    {
     "name": "stderr",
     "output_type": "stream",
     "text": [
      "C:\\Users\\GBM\\AppData\\Local\\Continuum\\Anaconda2\\lib\\site-packages\\statsmodels\\base\\model.py:466: ConvergenceWarning:\n",
      "\n",
      "Maximum Likelihood optimization failed to converge. Check mle_retvals\n",
      "\n"
     ]
    }
   ],
   "source": [
    "#np.asarray(data)\n",
    "\n",
    "logit = sm.Logit(data_train['Resp_codes'], data_train[Independent_cols])\n",
    "\n",
    "# fit the model\n",
    "mod1 = logit.fit()"
   ]
  },
  {
   "cell_type": "markdown",
   "metadata": {},
   "source": [
    "#### Model 1 Summary"
   ]
  },
  {
   "cell_type": "code",
   "execution_count": 535,
   "metadata": {
    "collapsed": false
   },
   "outputs": [
    {
     "name": "stdout",
     "output_type": "stream",
     "text": [
      "Model Summary\n"
     ]
    },
    {
     "data": {
      "text/html": [
       "<table class=\"simpletable\">\n",
       "<tr>\n",
       "        <td>Model:</td>              <td>Logit</td>      <td>Pseudo R-squared:</td>    <td>0.239</td>   \n",
       "</tr>\n",
       "<tr>\n",
       "  <td>Dependent Variable:</td>    <td>Resp_codes</td>          <td>AIC:</td>         <td>4685.9173</td> \n",
       "</tr>\n",
       "<tr>\n",
       "         <td>Date:</td>        <td>2016-12-23 18:47</td>       <td>BIC:</td>         <td>5065.3424</td> \n",
       "</tr>\n",
       "<tr>\n",
       "   <td>No. Observations:</td>        <td>7322</td>        <td>Log-Likelihood:</td>    <td>-2288.0</td>  \n",
       "</tr>\n",
       "<tr>\n",
       "       <td>Df Model:</td>             <td>54</td>            <td>LL-Null:</td>        <td>-3008.2</td>  \n",
       "</tr>\n",
       "<tr>\n",
       "     <td>Df Residuals:</td>          <td>7267</td>         <td>LLR p-value:</td>    <td>7.7686e-266</td>\n",
       "</tr>\n",
       "<tr>\n",
       "      <td>Converged:</td>           <td>0.0000</td>           <td>Scale:</td>         <td>1.0000</td>   \n",
       "</tr>\n",
       "<tr>\n",
       "    <td>No. Iterations:</td>        <td>35.0000</td>             <td></td>               <td></td>      \n",
       "</tr>\n",
       "</table>\n",
       "<table class=\"simpletable\">\n",
       "<tr>\n",
       "                <td></td>                  <th>Coef.</th>  <th>Std.Err.</th>    <th>z</th>     <th>P>|z|</th>   <th>[0.025</th>    <th>0.975]</th>  \n",
       "</tr>\n",
       "<tr>\n",
       "  <th>Education_College</th>              <td>0.1471</td>   <td>0.0994</td>  <td>1.4803</td>  <td>0.1388</td>   <td>-0.0477</td>   <td>0.3419</td>  \n",
       "</tr>\n",
       "<tr>\n",
       "  <th>Education_Doctor</th>               <td>0.6445</td>   <td>0.1871</td>  <td>3.4439</td>  <td>0.0006</td>   <td>0.2777</td>    <td>1.0112</td>  \n",
       "</tr>\n",
       "<tr>\n",
       "  <th>Education_HighSchoolorBelow</th>    <td>-0.0387</td>  <td>0.1029</td>  <td>-0.3767</td> <td>0.7064</td>   <td>-0.2404</td>   <td>0.1629</td>  \n",
       "</tr>\n",
       "<tr>\n",
       "  <th>Education_Master</th>               <td>0.4436</td>   <td>0.1449</td>  <td>3.0611</td>  <td>0.0022</td>   <td>0.1596</td>    <td>0.7277</td>  \n",
       "</tr>\n",
       "<tr>\n",
       "  <th>EmploymentStatus_Employed</th>      <td>-0.2437</td>  <td>0.2357</td>  <td>-1.0341</td> <td>0.3011</td>   <td>-0.7057</td>   <td>0.2182</td>  \n",
       "</tr>\n",
       "<tr>\n",
       "  <th>EmploymentStatus_MedicalLeave</th>  <td>0.2066</td>   <td>0.2239</td>  <td>0.9227</td>  <td>0.3562</td>   <td>-0.2322</td>   <td>0.6453</td>  \n",
       "</tr>\n",
       "<tr>\n",
       "  <th>EmploymentStatus_Retired</th>       <td>2.6552</td>   <td>0.2448</td>  <td>10.8466</td> <td>0.0000</td>   <td>2.1754</td>    <td>3.1350</td>  \n",
       "</tr>\n",
       "<tr>\n",
       "  <th>EmploymentStatus_Unemployed</th>    <td>-0.8060</td>    <td>nan</td>     <td>nan</td>     <td>nan</td>      <td>nan</td>       <td>nan</td>   \n",
       "</tr>\n",
       "<tr>\n",
       "  <th>LocationCode_Suburban</th>          <td>1.1736</td>   <td>0.2493</td>  <td>4.7082</td>  <td>0.0000</td>   <td>0.6851</td>    <td>1.6622</td>  \n",
       "</tr>\n",
       "<tr>\n",
       "  <th>LocationCode_Urban</th>             <td>-0.0984</td>  <td>0.2101</td>  <td>-0.4683</td> <td>0.6396</td>   <td>-0.5102</td>   <td>0.3134</td>  \n",
       "</tr>\n",
       "<tr>\n",
       "  <th>MaritalStatus_Married</th>          <td>-0.5915</td>  <td>0.1006</td>  <td>-5.8778</td> <td>0.0000</td>   <td>-0.7887</td>   <td>-0.3943</td> \n",
       "</tr>\n",
       "<tr>\n",
       "  <th>MaritalStatus_Single</th>           <td>-0.5740</td>  <td>0.1201</td>  <td>-4.7811</td> <td>0.0000</td>   <td>-0.8093</td>   <td>-0.3387</td> \n",
       "</tr>\n",
       "<tr>\n",
       "  <th>RenewOfferType_Offer2</th>          <td>0.6498</td>   <td>0.0844</td>  <td>7.7005</td>  <td>0.0000</td>   <td>0.4844</td>    <td>0.8152</td>  \n",
       "</tr>\n",
       "<tr>\n",
       "  <th>RenewOfferType_Offer3</th>          <td>-2.0635</td>  <td>0.2190</td>  <td>-9.4226</td> <td>0.0000</td>   <td>-2.4927</td>   <td>-1.6343</td> \n",
       "</tr>\n",
       "<tr>\n",
       "  <th>RenewOfferType_Offer4</th>         <td>-18.7399</td> <td>953.0167</td> <td>-0.0197</td> <td>0.9843</td> <td>-1886.6183</td> <td>1849.1385</td>\n",
       "</tr>\n",
       "<tr>\n",
       "  <th>SalesChannel_Branch</th>            <td>-0.6023</td>  <td>0.0954</td>  <td>-6.3101</td> <td>0.0000</td>   <td>-0.7894</td>   <td>-0.4152</td> \n",
       "</tr>\n",
       "<tr>\n",
       "  <th>SalesChannel_CallCenter</th>        <td>-0.4875</td>  <td>0.1098</td>  <td>-4.4395</td> <td>0.0000</td>   <td>-0.7028</td>   <td>-0.2723</td> \n",
       "</tr>\n",
       "<tr>\n",
       "  <th>SalesChannel_Web</th>               <td>-0.5745</td>  <td>0.1240</td>  <td>-4.6341</td> <td>0.0000</td>   <td>-0.8175</td>   <td>-0.3315</td> \n",
       "</tr>\n",
       "<tr>\n",
       "  <th>VehicleClass_LuxuryCar</th>         <td>0.4440</td>   <td>0.5009</td>  <td>0.8866</td>  <td>0.3753</td>   <td>-0.5376</td>   <td>1.4257</td>  \n",
       "</tr>\n",
       "<tr>\n",
       "  <th>VehicleClass_LuxurySUV</th>         <td>0.8558</td>   <td>0.4532</td>  <td>1.8884</td>  <td>0.0590</td>   <td>-0.0324</td>   <td>1.7440</td>  \n",
       "</tr>\n",
       "<tr>\n",
       "  <th>VehicleClass_SUV</th>               <td>0.3209</td>   <td>0.1523</td>  <td>2.1072</td>  <td>0.0351</td>   <td>0.0224</td>    <td>0.6194</td>  \n",
       "</tr>\n",
       "<tr>\n",
       "  <th>VehicleClass_SportsCar</th>         <td>0.4277</td>   <td>0.1965</td>  <td>2.1761</td>  <td>0.0295</td>   <td>0.0425</td>    <td>0.8129</td>  \n",
       "</tr>\n",
       "<tr>\n",
       "  <th>VehicleClass_TwoDoorCar</th>        <td>0.0006</td>   <td>0.1013</td>  <td>0.0054</td>  <td>0.9957</td>   <td>-0.1981</td>   <td>0.1992</td>  \n",
       "</tr>\n",
       "<tr>\n",
       "  <th>VehicleSize_Medsize</th>            <td>-0.2182</td>  <td>0.1196</td>  <td>-1.8247</td> <td>0.0680</td>   <td>-0.4526</td>   <td>0.0162</td>  \n",
       "</tr>\n",
       "<tr>\n",
       "  <th>VehicleSize_Small</th>              <td>-0.6494</td>  <td>0.1472</td>  <td>-4.4119</td> <td>0.0000</td>   <td>-0.9379</td>   <td>-0.3609</td> \n",
       "</tr>\n",
       "<tr>\n",
       "  <th>CLTV_10000to15000</th>              <td>0.5561</td>   <td>0.1669</td>  <td>3.3317</td>  <td>0.0009</td>   <td>0.2290</td>    <td>0.8833</td>  \n",
       "</tr>\n",
       "<tr>\n",
       "  <th>CLTV_gt_15000</th>                  <td>0.0525</td>   <td>0.1884</td>  <td>0.2787</td>  <td>0.7805</td>   <td>-0.3168</td>   <td>0.4218</td>  \n",
       "</tr>\n",
       "<tr>\n",
       "  <th>Income_10Kto20K</th>                <td>-0.2931</td>    <td>nan</td>     <td>nan</td>     <td>nan</td>      <td>nan</td>       <td>nan</td>   \n",
       "</tr>\n",
       "<tr>\n",
       "  <th>Income_20Kto30K</th>                <td>-0.3024</td>    <td>nan</td>     <td>nan</td>     <td>nan</td>      <td>nan</td>       <td>nan</td>   \n",
       "</tr>\n",
       "<tr>\n",
       "  <th>Income_30Kto40K</th>                <td>0.0142</td>     <td>nan</td>     <td>nan</td>     <td>nan</td>      <td>nan</td>       <td>nan</td>   \n",
       "</tr>\n",
       "<tr>\n",
       "  <th>Income_40Kto55K</th>                <td>-0.3924</td>    <td>nan</td>     <td>nan</td>     <td>nan</td>      <td>nan</td>       <td>nan</td>   \n",
       "</tr>\n",
       "<tr>\n",
       "  <th>Income_55Kto65K</th>                <td>0.5604</td>     <td>nan</td>     <td>nan</td>     <td>nan</td>      <td>nan</td>       <td>nan</td>   \n",
       "</tr>\n",
       "<tr>\n",
       "  <th>Income_65Kto70K</th>                <td>-0.0402</td>    <td>nan</td>     <td>nan</td>     <td>nan</td>      <td>nan</td>       <td>nan</td>   \n",
       "</tr>\n",
       "<tr>\n",
       "  <th>Income_gt_70K</th>                  <td>0.1169</td>     <td>nan</td>     <td>nan</td>     <td>nan</td>      <td>nan</td>       <td>nan</td>   \n",
       "</tr>\n",
       "<tr>\n",
       "  <th>MntlyPrem_75to95</th>               <td>0.0617</td>   <td>0.1195</td>  <td>0.5163</td>  <td>0.6056</td>   <td>-0.1725</td>   <td>0.2959</td>  \n",
       "</tr>\n",
       "<tr>\n",
       "  <th>MntlyPrem_95to120</th>              <td>0.3150</td>   <td>0.1526</td>  <td>2.0642</td>  <td>0.0390</td>   <td>0.0159</td>    <td>0.6141</td>  \n",
       "</tr>\n",
       "<tr>\n",
       "  <th>MntlyPrem_120to140</th>             <td>0.0260</td>   <td>0.2403</td>  <td>0.1083</td>  <td>0.9137</td>   <td>-0.4449</td>   <td>0.4970</td>  \n",
       "</tr>\n",
       "<tr>\n",
       "  <th>MntlyPrem_gt_140</th>               <td>-0.3313</td>  <td>0.4011</td>  <td>-0.8260</td> <td>0.4088</td>   <td>-1.1174</td>   <td>0.4548</td>  \n",
       "</tr>\n",
       "<tr>\n",
       "  <th>OpnCmplnts_1</th>                   <td>-0.0955</td>  <td>0.1262</td>  <td>-0.7572</td> <td>0.4489</td>   <td>-0.3429</td>   <td>0.1518</td>  \n",
       "</tr>\n",
       "<tr>\n",
       "  <th>OpnCmplnts_2</th>                   <td>-1.2935</td>  <td>0.3050</td>  <td>-4.2413</td> <td>0.0000</td>   <td>-1.8913</td>   <td>-0.6958</td> \n",
       "</tr>\n",
       "<tr>\n",
       "  <th>OpnCmplnts_3</th>                   <td>0.2698</td>   <td>0.1968</td>  <td>1.3706</td>  <td>0.1705</td>   <td>-0.1160</td>   <td>0.6556</td>  \n",
       "</tr>\n",
       "<tr>\n",
       "  <th>OpnCmplnts_4</th>                   <td>0.3157</td>   <td>0.2864</td>  <td>1.1025</td>  <td>0.2702</td>   <td>-0.2455</td>   <td>0.8770</td>  \n",
       "</tr>\n",
       "<tr>\n",
       "  <th>OpnCmplnts_5</th>                   <td>-1.4145</td>  <td>0.7177</td>  <td>-1.9708</td> <td>0.0487</td>   <td>-2.8212</td>   <td>-0.0078</td> \n",
       "</tr>\n",
       "<tr>\n",
       "  <th>NumPolcs_2</th>                     <td>-0.3442</td>  <td>0.1508</td>  <td>-2.2822</td> <td>0.0225</td>   <td>-0.6398</td>   <td>-0.0486</td> \n",
       "</tr>\n",
       "<tr>\n",
       "  <th>NumPolcs_3</th>                     <td>-0.4755</td>  <td>0.1323</td>  <td>-3.5930</td> <td>0.0003</td>   <td>-0.7349</td>   <td>-0.2161</td> \n",
       "</tr>\n",
       "<tr>\n",
       "  <th>NumPolcs_4</th>                     <td>-0.2768</td>  <td>0.2006</td>  <td>-1.3797</td> <td>0.1677</td>   <td>-0.6700</td>   <td>0.1164</td>  \n",
       "</tr>\n",
       "<tr>\n",
       "  <th>NumPolcs_5</th>                     <td>-0.0510</td>  <td>0.1954</td>  <td>-0.2609</td> <td>0.7942</td>   <td>-0.4339</td>   <td>0.3319</td>  \n",
       "</tr>\n",
       "<tr>\n",
       "  <th>NumPolcs_6</th>                     <td>-0.4233</td>  <td>0.2123</td>  <td>-1.9935</td> <td>0.0462</td>   <td>-0.8394</td>   <td>-0.0071</td> \n",
       "</tr>\n",
       "<tr>\n",
       "  <th>NumPolcs_7</th>                     <td>0.0255</td>   <td>0.1799</td>  <td>0.1420</td>  <td>0.8871</td>   <td>-0.3270</td>   <td>0.3781</td>  \n",
       "</tr>\n",
       "<tr>\n",
       "  <th>NumPolcs_8</th>                     <td>-0.4389</td>  <td>0.2195</td>  <td>-1.9999</td> <td>0.0455</td>   <td>-0.8690</td>   <td>-0.0088</td> \n",
       "</tr>\n",
       "<tr>\n",
       "  <th>NumPolcs_9</th>                     <td>-0.0246</td>  <td>0.1751</td>  <td>-0.1406</td> <td>0.8882</td>   <td>-0.3678</td>   <td>0.3186</td>  \n",
       "</tr>\n",
       "<tr>\n",
       "  <th>TotClmAmt_250to400</th>             <td>0.0221</td>   <td>0.2167</td>  <td>0.1020</td>  <td>0.9187</td>   <td>-0.4026</td>   <td>0.4468</td>  \n",
       "</tr>\n",
       "<tr>\n",
       "  <th>TotClmAmt_400to600</th>             <td>-0.3964</td>  <td>0.2501</td>  <td>-1.5851</td> <td>0.1130</td>   <td>-0.8867</td>   <td>0.0938</td>  \n",
       "</tr>\n",
       "<tr>\n",
       "  <th>TotClmAmt_600to725</th>             <td>-0.6356</td>  <td>0.2984</td>  <td>-2.1299</td> <td>0.0332</td>   <td>-1.2206</td>   <td>-0.0507</td> \n",
       "</tr>\n",
       "<tr>\n",
       "  <th>TotClmAmt_gt_725</th>               <td>-1.0745</td>  <td>0.3170</td>  <td>-3.3894</td> <td>0.0007</td>   <td>-1.6959</td>   <td>-0.4532</td> \n",
       "</tr>\n",
       "<tr>\n",
       "  <th>intercept</th>                      <td>-1.1426</td>    <td>nan</td>     <td>nan</td>     <td>nan</td>      <td>nan</td>       <td>nan</td>   \n",
       "</tr>\n",
       "</table>"
      ],
      "text/plain": [
       "<class 'statsmodels.iolib.summary2.Summary'>\n",
       "\"\"\"\n",
       "                                  Results: Logit\n",
       "===================================================================================\n",
       "Model:                     Logit                 Pseudo R-squared:      0.239      \n",
       "Dependent Variable:        Resp_codes            AIC:                   4685.9173  \n",
       "Date:                      2016-12-23 18:47      BIC:                   5065.3424  \n",
       "No. Observations:          7322                  Log-Likelihood:        -2288.0    \n",
       "Df Model:                  54                    LL-Null:               -3008.2    \n",
       "Df Residuals:              7267                  LLR p-value:           7.7686e-266\n",
       "Converged:                 0.0000                Scale:                 1.0000     \n",
       "No. Iterations:            35.0000                                                 \n",
       "-----------------------------------------------------------------------------------\n",
       "                               Coef.   Std.Err.    z    P>|z|    [0.025     0.975] \n",
       "-----------------------------------------------------------------------------------\n",
       "Education_College               0.1471   0.0994  1.4803 0.1388    -0.0477    0.3419\n",
       "Education_Doctor                0.6445   0.1871  3.4439 0.0006     0.2777    1.0112\n",
       "Education_HighSchoolorBelow    -0.0387   0.1029 -0.3767 0.7064    -0.2404    0.1629\n",
       "Education_Master                0.4436   0.1449  3.0611 0.0022     0.1596    0.7277\n",
       "EmploymentStatus_Employed      -0.2437   0.2357 -1.0341 0.3011    -0.7057    0.2182\n",
       "EmploymentStatus_MedicalLeave   0.2066   0.2239  0.9227 0.3562    -0.2322    0.6453\n",
       "EmploymentStatus_Retired        2.6552   0.2448 10.8466 0.0000     2.1754    3.1350\n",
       "EmploymentStatus_Unemployed    -0.8060      nan     nan    nan        nan       nan\n",
       "LocationCode_Suburban           1.1736   0.2493  4.7082 0.0000     0.6851    1.6622\n",
       "LocationCode_Urban             -0.0984   0.2101 -0.4683 0.6396    -0.5102    0.3134\n",
       "MaritalStatus_Married          -0.5915   0.1006 -5.8778 0.0000    -0.7887   -0.3943\n",
       "MaritalStatus_Single           -0.5740   0.1201 -4.7811 0.0000    -0.8093   -0.3387\n",
       "RenewOfferType_Offer2           0.6498   0.0844  7.7005 0.0000     0.4844    0.8152\n",
       "RenewOfferType_Offer3          -2.0635   0.2190 -9.4226 0.0000    -2.4927   -1.6343\n",
       "RenewOfferType_Offer4         -18.7399 953.0167 -0.0197 0.9843 -1886.6183 1849.1385\n",
       "SalesChannel_Branch            -0.6023   0.0954 -6.3101 0.0000    -0.7894   -0.4152\n",
       "SalesChannel_CallCenter        -0.4875   0.1098 -4.4395 0.0000    -0.7028   -0.2723\n",
       "SalesChannel_Web               -0.5745   0.1240 -4.6341 0.0000    -0.8175   -0.3315\n",
       "VehicleClass_LuxuryCar          0.4440   0.5009  0.8866 0.3753    -0.5376    1.4257\n",
       "VehicleClass_LuxurySUV          0.8558   0.4532  1.8884 0.0590    -0.0324    1.7440\n",
       "VehicleClass_SUV                0.3209   0.1523  2.1072 0.0351     0.0224    0.6194\n",
       "VehicleClass_SportsCar          0.4277   0.1965  2.1761 0.0295     0.0425    0.8129\n",
       "VehicleClass_TwoDoorCar         0.0006   0.1013  0.0054 0.9957    -0.1981    0.1992\n",
       "VehicleSize_Medsize            -0.2182   0.1196 -1.8247 0.0680    -0.4526    0.0162\n",
       "VehicleSize_Small              -0.6494   0.1472 -4.4119 0.0000    -0.9379   -0.3609\n",
       "CLTV_10000to15000               0.5561   0.1669  3.3317 0.0009     0.2290    0.8833\n",
       "CLTV_gt_15000                   0.0525   0.1884  0.2787 0.7805    -0.3168    0.4218\n",
       "Income_10Kto20K                -0.2931      nan     nan    nan        nan       nan\n",
       "Income_20Kto30K                -0.3024      nan     nan    nan        nan       nan\n",
       "Income_30Kto40K                 0.0142      nan     nan    nan        nan       nan\n",
       "Income_40Kto55K                -0.3924      nan     nan    nan        nan       nan\n",
       "Income_55Kto65K                 0.5604      nan     nan    nan        nan       nan\n",
       "Income_65Kto70K                -0.0402      nan     nan    nan        nan       nan\n",
       "Income_gt_70K                   0.1169      nan     nan    nan        nan       nan\n",
       "MntlyPrem_75to95                0.0617   0.1195  0.5163 0.6056    -0.1725    0.2959\n",
       "MntlyPrem_95to120               0.3150   0.1526  2.0642 0.0390     0.0159    0.6141\n",
       "MntlyPrem_120to140              0.0260   0.2403  0.1083 0.9137    -0.4449    0.4970\n",
       "MntlyPrem_gt_140               -0.3313   0.4011 -0.8260 0.4088    -1.1174    0.4548\n",
       "OpnCmplnts_1                   -0.0955   0.1262 -0.7572 0.4489    -0.3429    0.1518\n",
       "OpnCmplnts_2                   -1.2935   0.3050 -4.2413 0.0000    -1.8913   -0.6958\n",
       "OpnCmplnts_3                    0.2698   0.1968  1.3706 0.1705    -0.1160    0.6556\n",
       "OpnCmplnts_4                    0.3157   0.2864  1.1025 0.2702    -0.2455    0.8770\n",
       "OpnCmplnts_5                   -1.4145   0.7177 -1.9708 0.0487    -2.8212   -0.0078\n",
       "NumPolcs_2                     -0.3442   0.1508 -2.2822 0.0225    -0.6398   -0.0486\n",
       "NumPolcs_3                     -0.4755   0.1323 -3.5930 0.0003    -0.7349   -0.2161\n",
       "NumPolcs_4                     -0.2768   0.2006 -1.3797 0.1677    -0.6700    0.1164\n",
       "NumPolcs_5                     -0.0510   0.1954 -0.2609 0.7942    -0.4339    0.3319\n",
       "NumPolcs_6                     -0.4233   0.2123 -1.9935 0.0462    -0.8394   -0.0071\n",
       "NumPolcs_7                      0.0255   0.1799  0.1420 0.8871    -0.3270    0.3781\n",
       "NumPolcs_8                     -0.4389   0.2195 -1.9999 0.0455    -0.8690   -0.0088\n",
       "NumPolcs_9                     -0.0246   0.1751 -0.1406 0.8882    -0.3678    0.3186\n",
       "TotClmAmt_250to400              0.0221   0.2167  0.1020 0.9187    -0.4026    0.4468\n",
       "TotClmAmt_400to600             -0.3964   0.2501 -1.5851 0.1130    -0.8867    0.0938\n",
       "TotClmAmt_600to725             -0.6356   0.2984 -2.1299 0.0332    -1.2206   -0.0507\n",
       "TotClmAmt_gt_725               -1.0745   0.3170 -3.3894 0.0007    -1.6959   -0.4532\n",
       "intercept                      -1.1426      nan     nan    nan        nan       nan\n",
       "===================================================================================\n",
       "\n",
       "\"\"\""
      ]
     },
     "execution_count": 535,
     "metadata": {},
     "output_type": "execute_result"
    }
   ],
   "source": [
    "mod1.summary2()"
   ]
  },
  {
   "cell_type": "markdown",
   "metadata": {},
   "source": [
    "#### Regression Equation\n",
    "\n",
    "Using the coefficients from the above output, the regression equation is denoted by the following:\n"
   ]
  },
  {
   "cell_type": "code",
   "execution_count": 537,
   "metadata": {
    "collapsed": false
   },
   "outputs": [
    {
     "name": "stdout",
     "output_type": "stream",
     "text": [
      "Response = -1.1426 + (Education_College * 0.1471) + (Education_Doctor * 0.6445) + (Education_HighSchoolorBelow * -0.0387) + (Education_Master * 0.4436) + (EmploymentStatus_Employed * -0.2437) + (EmploymentStatus_MedicalLeave * 0.2066) + (EmploymentStatus_Retired * 2.6552) + (EmploymentStatus_Unemployed * -0.806) + (LocationCode_Suburban * 1.1736) + (LocationCode_Urban * -0.0984) + (MaritalStatus_Married * -0.5915) + (MaritalStatus_Single * -0.574) + (RenewOfferType_Offer2 * 0.6498) + (RenewOfferType_Offer3 * -2.0635) + (RenewOfferType_Offer4 * -18.7399) + (SalesChannel_Branch * -0.6023) + (SalesChannel_CallCenter * -0.4875) + (SalesChannel_Web * -0.5745) + (VehicleClass_LuxuryCar * 0.444) + (VehicleClass_LuxurySUV * 0.8558) + (VehicleClass_SUV * 0.3209) + (VehicleClass_SportsCar * 0.4277) + (VehicleClass_TwoDoorCar * 0.0006) + (VehicleSize_Medsize * -0.2182) + (VehicleSize_Small * -0.6494) + (CLTV_10000to15000 * 0.5561) + (CLTV_gt_15000 * 0.0525) + (Income_10Kto20K * -0.2931) + (Income_20Kto30K * -0.3024) + (Income_30Kto40K * 0.0142) + (Income_40Kto55K * -0.3924) + (Income_55Kto65K * 0.5604) + (Income_65Kto70K * -0.0402) + (Income_gt_70K * 0.1169) + (MntlyPrem_75to95 * 0.0617) + (MntlyPrem_95to120 * 0.315) + (MntlyPrem_120to140 * 0.026) + (MntlyPrem_gt_140 * -0.3313) + (OpnCmplnts_1 * -0.0955) + (OpnCmplnts_2 * -1.2935) + (OpnCmplnts_3 * 0.2698) + (OpnCmplnts_4 * 0.3157) + (OpnCmplnts_5 * -1.4145) + (NumPolcs_2 * -0.3442) + (NumPolcs_3 * -0.4755) + (NumPolcs_4 * -0.2768) + (NumPolcs_5 * -0.051) + (NumPolcs_6 * -0.4233) + (NumPolcs_7 * 0.0255) + (NumPolcs_8 * -0.4389) + (NumPolcs_9 * -0.0246) + (TotClmAmt_250to400 * 0.0221) + (TotClmAmt_400to600 * -0.3964) + (TotClmAmt_600to725 * -0.6356) + (TotClmAmt_gt_725 * -1.0745)\n"
     ]
    }
   ],
   "source": [
    "len = mod1.params.size\n",
    "eq = 'Response = ' + str(round(mod1.params.values[mod1.params.size-1],4)) \n",
    "\n",
    "for i in range(0, mod1.params.size-1):\n",
    "    eq = eq + ' + (' + mod1.params.index[i] + ' * ' +  str(round(mod1.params.values[i],4)) + ')'\n",
    "\n",
    "                                                        \n",
    "print(eq)   "
   ]
  },
  {
   "cell_type": "markdown",
   "metadata": {},
   "source": [
    "\n",
    "#### Predictor p-values\n",
    "\n",
    "From the model summary above, we can see the p-values associated with the various independent variables. \n",
    "\n",
    "The following is a list of good predictors (based on their p-values being less than 0.05):\n",
    "                                                     "
   ]
  },
  {
   "cell_type": "code",
   "execution_count": 533,
   "metadata": {
    "collapsed": false
   },
   "outputs": [
    {
     "name": "stdout",
     "output_type": "stream",
     "text": [
      "Best Predictors with p-values less than 0.05:\n"
     ]
    },
    {
     "data": {
      "text/plain": [
       "Education_Doctor            5.734542e-04\n",
       "Education_Master            2.205225e-03\n",
       "EmploymentStatus_Retired    2.069753e-27\n",
       "LocationCode_Suburban       2.499023e-06\n",
       "MaritalStatus_Married       4.158796e-09\n",
       "MaritalStatus_Single        1.743096e-06\n",
       "RenewOfferType_Offer2       1.355761e-14\n",
       "RenewOfferType_Offer3       4.402376e-21\n",
       "SalesChannel_Branch         2.788413e-10\n",
       "SalesChannel_CallCenter     9.017594e-06\n",
       "SalesChannel_Web            3.584498e-06\n",
       "VehicleClass_SUV            3.509634e-02\n",
       "VehicleClass_SportsCar      2.954764e-02\n",
       "VehicleSize_Small           1.024849e-05\n",
       "CLTV_10000to15000           8.631589e-04\n",
       "MntlyPrem_95to120           3.900089e-02\n",
       "OpnCmplnts_2                2.222515e-05\n",
       "OpnCmplnts_5                4.874909e-02\n",
       "NumPolcs_2                  2.247492e-02\n",
       "NumPolcs_3                  3.268327e-04\n",
       "NumPolcs_6                  4.621108e-02\n",
       "NumPolcs_8                  4.550807e-02\n",
       "TotClmAmt_600to725          3.318136e-02\n",
       "TotClmAmt_gt_725            7.003467e-04\n",
       "dtype: float64"
      ]
     },
     "execution_count": 533,
     "metadata": {},
     "output_type": "execute_result"
    }
   ],
   "source": [
    "\n",
    "print('Best Predictors with p-values less than 0.05:')\n",
    "\n",
    "mod1.pvalues[mod1.pvalues < 0.05]\n"
   ]
  },
  {
   "cell_type": "markdown",
   "metadata": {},
   "source": [
    "\n",
    "#### Odds Ratio\n",
    "\n",
    "The odds ratio tells us how a unit change in each variable / predictor affects the odds of success of buying the insurance. For example, in the output below, we can see that, Education_Master has an odds ratio of 1.558, meaning that if the education is masters, then there is an increase by about 155.8 % that the person will buy insurance. \n",
    "\n",
    "Below are the odds ratio for all variables:\n",
    " "
   ]
  },
  {
   "cell_type": "code",
   "execution_count": 555,
   "metadata": {
    "collapsed": false
   },
   "outputs": [
    {
     "data": {
      "text/plain": [
       "Education_College                1.159 \n",
       "Education_Doctor                 1.905 \n",
       "Education_HighSchoolorBelow      0.962 \n",
       "Education_Master                 1.558 \n",
       "EmploymentStatus_Employed        0.784 \n",
       "EmploymentStatus_MedicalLeave    1.229 \n",
       "EmploymentStatus_Retired         14.228\n",
       "EmploymentStatus_Unemployed      0.447 \n",
       "LocationCode_Suburban            3.234 \n",
       "LocationCode_Urban               0.906 \n",
       "MaritalStatus_Married            0.553 \n",
       "MaritalStatus_Single             0.563 \n",
       "RenewOfferType_Offer2            1.915 \n",
       "RenewOfferType_Offer3            0.127 \n",
       "RenewOfferType_Offer4            0.000 \n",
       "SalesChannel_Branch              0.548 \n",
       "SalesChannel_CallCenter          0.614 \n",
       "SalesChannel_Web                 0.563 \n",
       "VehicleClass_LuxuryCar           1.559 \n",
       "VehicleClass_LuxurySUV           2.353 \n",
       "VehicleClass_SUV                 1.378 \n",
       "VehicleClass_SportsCar           1.534 \n",
       "VehicleClass_TwoDoorCar          1.001 \n",
       "VehicleSize_Medsize              0.804 \n",
       "VehicleSize_Small                0.522 \n",
       "CLTV_10000to15000                1.744 \n",
       "CLTV_gt_15000                    1.054 \n",
       "Income_10Kto20K                  0.746 \n",
       "Income_20Kto30K                  0.739 \n",
       "Income_30Kto40K                  1.014 \n",
       "Income_40Kto55K                  0.675 \n",
       "Income_55Kto65K                  1.751 \n",
       "Income_65Kto70K                  0.961 \n",
       "Income_gt_70K                    1.124 \n",
       "MntlyPrem_75to95                 1.064 \n",
       "MntlyPrem_95to120                1.370 \n",
       "MntlyPrem_120to140               1.026 \n",
       "MntlyPrem_gt_140                 0.718 \n",
       "OpnCmplnts_1                     0.909 \n",
       "OpnCmplnts_2                     0.274 \n",
       "OpnCmplnts_3                     1.310 \n",
       "OpnCmplnts_4                     1.371 \n",
       "OpnCmplnts_5                     0.243 \n",
       "NumPolcs_2                       0.709 \n",
       "NumPolcs_3                       0.622 \n",
       "NumPolcs_4                       0.758 \n",
       "NumPolcs_5                       0.950 \n",
       "NumPolcs_6                       0.655 \n",
       "NumPolcs_7                       1.026 \n",
       "NumPolcs_8                       0.645 \n",
       "NumPolcs_9                       0.976 \n",
       "TotClmAmt_250to400               1.022 \n",
       "TotClmAmt_400to600               0.673 \n",
       "TotClmAmt_600to725               0.530 \n",
       "TotClmAmt_gt_725                 0.341 \n",
       "intercept                        0.319 \n",
       "dtype: float64"
      ]
     },
     "execution_count": 555,
     "metadata": {},
     "output_type": "execute_result"
    }
   ],
   "source": [
    "odds_ratio = np.exp(mod1.params)\n",
    "odds_ratio.round(3)\n"
   ]
  },
  {
   "cell_type": "markdown",
   "metadata": {},
   "source": [
    "\n",
    "\n",
    "### Model 2\n",
    "\n",
    "In this model, we will use LogisticRegression() from sklearn package.\n"
   ]
  },
  {
   "cell_type": "code",
   "execution_count": 596,
   "metadata": {
    "collapsed": false
   },
   "outputs": [],
   "source": [
    "dm_text = ''.join(Dependent_col[0]) + ' ~ ' + ' + '.join(Independent_cols[0:np.size(Independent_cols)-1])\n",
    "#dm_text\n",
    "y, X = dmatrices(dm_text , data_train, return_type=\"dataframe\")\n",
    "\n",
    "y = np.ravel(y)\n",
    "\n",
    "mod2 = LogisticRegression()\n",
    "mod2 = model.fit(X, y)\n"
   ]
  },
  {
   "cell_type": "markdown",
   "metadata": {},
   "source": [
    "\n",
    "\n",
    "#### Model 2 Score\n",
    "\n",
    "To check the accuracy of the model, we can use the score. Also included are the coefficients for the regression equation."
   ]
  },
  {
   "cell_type": "code",
   "execution_count": 618,
   "metadata": {
    "collapsed": false
   },
   "outputs": [
    {
     "name": "stdout",
     "output_type": "stream",
     "text": [
      "Score : \n",
      "0.872848948375\n"
     ]
    },
    {
     "data": {
      "text/html": [
       "<div>\n",
       "<table border=\"1\" class=\"dataframe\">\n",
       "  <thead>\n",
       "    <tr style=\"text-align: right;\">\n",
       "      <th></th>\n",
       "      <th>0</th>\n",
       "      <th>1</th>\n",
       "    </tr>\n",
       "  </thead>\n",
       "  <tbody>\n",
       "    <tr>\n",
       "      <th>0</th>\n",
       "      <td>Intercept</td>\n",
       "      <td>[-0.584054862524]</td>\n",
       "    </tr>\n",
       "    <tr>\n",
       "      <th>1</th>\n",
       "      <td>Education_College</td>\n",
       "      <td>[0.137917225463]</td>\n",
       "    </tr>\n",
       "    <tr>\n",
       "      <th>2</th>\n",
       "      <td>Education_Doctor</td>\n",
       "      <td>[0.608657235556]</td>\n",
       "    </tr>\n",
       "    <tr>\n",
       "      <th>3</th>\n",
       "      <td>Education_HighSchoolorBelow</td>\n",
       "      <td>[-0.0522168011488]</td>\n",
       "    </tr>\n",
       "    <tr>\n",
       "      <th>4</th>\n",
       "      <td>Education_Master</td>\n",
       "      <td>[0.416126443884]</td>\n",
       "    </tr>\n",
       "    <tr>\n",
       "      <th>5</th>\n",
       "      <td>EmploymentStatus_Employed</td>\n",
       "      <td>[-0.286690439823]</td>\n",
       "    </tr>\n",
       "    <tr>\n",
       "      <th>6</th>\n",
       "      <td>EmploymentStatus_MedicalLeave</td>\n",
       "      <td>[0.144921487186]</td>\n",
       "    </tr>\n",
       "    <tr>\n",
       "      <th>7</th>\n",
       "      <td>EmploymentStatus_Retired</td>\n",
       "      <td>[2.48612931808]</td>\n",
       "    </tr>\n",
       "    <tr>\n",
       "      <th>8</th>\n",
       "      <td>EmploymentStatus_Unemployed</td>\n",
       "      <td>[-0.774881278774]</td>\n",
       "    </tr>\n",
       "    <tr>\n",
       "      <th>9</th>\n",
       "      <td>LocationCode_Suburban</td>\n",
       "      <td>[1.01678156189]</td>\n",
       "    </tr>\n",
       "    <tr>\n",
       "      <th>10</th>\n",
       "      <td>LocationCode_Urban</td>\n",
       "      <td>[-0.195062796735]</td>\n",
       "    </tr>\n",
       "    <tr>\n",
       "      <th>11</th>\n",
       "      <td>MaritalStatus_Married</td>\n",
       "      <td>[-0.591521717405]</td>\n",
       "    </tr>\n",
       "    <tr>\n",
       "      <th>12</th>\n",
       "      <td>MaritalStatus_Single</td>\n",
       "      <td>[-0.568944439913]</td>\n",
       "    </tr>\n",
       "    <tr>\n",
       "      <th>13</th>\n",
       "      <td>RenewOfferType_Offer2</td>\n",
       "      <td>[0.66186350723]</td>\n",
       "    </tr>\n",
       "    <tr>\n",
       "      <th>14</th>\n",
       "      <td>RenewOfferType_Offer3</td>\n",
       "      <td>[-1.95107541865]</td>\n",
       "    </tr>\n",
       "    <tr>\n",
       "      <th>15</th>\n",
       "      <td>RenewOfferType_Offer4</td>\n",
       "      <td>[-3.65610257512]</td>\n",
       "    </tr>\n",
       "    <tr>\n",
       "      <th>16</th>\n",
       "      <td>SalesChannel_Branch</td>\n",
       "      <td>[-0.59513385898]</td>\n",
       "    </tr>\n",
       "    <tr>\n",
       "      <th>17</th>\n",
       "      <td>SalesChannel_CallCenter</td>\n",
       "      <td>[-0.488516401063]</td>\n",
       "    </tr>\n",
       "    <tr>\n",
       "      <th>18</th>\n",
       "      <td>SalesChannel_Web</td>\n",
       "      <td>[-0.573994986651]</td>\n",
       "    </tr>\n",
       "    <tr>\n",
       "      <th>19</th>\n",
       "      <td>VehicleClass_LuxuryCar</td>\n",
       "      <td>[0.262081223216]</td>\n",
       "    </tr>\n",
       "    <tr>\n",
       "      <th>20</th>\n",
       "      <td>VehicleClass_LuxurySUV</td>\n",
       "      <td>[0.662563512287]</td>\n",
       "    </tr>\n",
       "    <tr>\n",
       "      <th>21</th>\n",
       "      <td>VehicleClass_SUV</td>\n",
       "      <td>[0.290256825291]</td>\n",
       "    </tr>\n",
       "    <tr>\n",
       "      <th>22</th>\n",
       "      <td>VehicleClass_SportsCar</td>\n",
       "      <td>[0.390428479851]</td>\n",
       "    </tr>\n",
       "    <tr>\n",
       "      <th>23</th>\n",
       "      <td>VehicleClass_TwoDoorCar</td>\n",
       "      <td>[-0.00343377122303]</td>\n",
       "    </tr>\n",
       "    <tr>\n",
       "      <th>24</th>\n",
       "      <td>VehicleSize_Medsize</td>\n",
       "      <td>[-0.209526506498]</td>\n",
       "    </tr>\n",
       "    <tr>\n",
       "      <th>25</th>\n",
       "      <td>VehicleSize_Small</td>\n",
       "      <td>[-0.64044980687]</td>\n",
       "    </tr>\n",
       "    <tr>\n",
       "      <th>26</th>\n",
       "      <td>CLTV_10000to15000</td>\n",
       "      <td>[0.535898904616]</td>\n",
       "    </tr>\n",
       "    <tr>\n",
       "      <th>27</th>\n",
       "      <td>CLTV_gt_15000</td>\n",
       "      <td>[0.0471682807354]</td>\n",
       "    </tr>\n",
       "    <tr>\n",
       "      <th>28</th>\n",
       "      <td>Income_10Kto20K</td>\n",
       "      <td>[-0.191508366757]</td>\n",
       "    </tr>\n",
       "    <tr>\n",
       "      <th>29</th>\n",
       "      <td>Income_20Kto30K</td>\n",
       "      <td>[-0.214111489759]</td>\n",
       "    </tr>\n",
       "    <tr>\n",
       "      <th>30</th>\n",
       "      <td>Income_30Kto40K</td>\n",
       "      <td>[0.0850880353344]</td>\n",
       "    </tr>\n",
       "    <tr>\n",
       "      <th>31</th>\n",
       "      <td>Income_40Kto55K</td>\n",
       "      <td>[-0.313646885413]</td>\n",
       "    </tr>\n",
       "    <tr>\n",
       "      <th>32</th>\n",
       "      <td>Income_55Kto65K</td>\n",
       "      <td>[0.622280568956]</td>\n",
       "    </tr>\n",
       "    <tr>\n",
       "      <th>33</th>\n",
       "      <td>Income_65Kto70K</td>\n",
       "      <td>[0.0201227942265]</td>\n",
       "    </tr>\n",
       "    <tr>\n",
       "      <th>34</th>\n",
       "      <td>Income_gt_70K</td>\n",
       "      <td>[0.182601759661]</td>\n",
       "    </tr>\n",
       "    <tr>\n",
       "      <th>35</th>\n",
       "      <td>MntlyPrem_75to95</td>\n",
       "      <td>[0.0455499266873]</td>\n",
       "    </tr>\n",
       "    <tr>\n",
       "      <th>36</th>\n",
       "      <td>MntlyPrem_95to120</td>\n",
       "      <td>[0.301033708363]</td>\n",
       "    </tr>\n",
       "    <tr>\n",
       "      <th>37</th>\n",
       "      <td>MntlyPrem_120to140</td>\n",
       "      <td>[0.0228085808859]</td>\n",
       "    </tr>\n",
       "    <tr>\n",
       "      <th>38</th>\n",
       "      <td>MntlyPrem_gt_140</td>\n",
       "      <td>[-0.240715490136]</td>\n",
       "    </tr>\n",
       "    <tr>\n",
       "      <th>39</th>\n",
       "      <td>OpnCmplnts_1</td>\n",
       "      <td>[-0.0810769629977]</td>\n",
       "    </tr>\n",
       "    <tr>\n",
       "      <th>40</th>\n",
       "      <td>OpnCmplnts_2</td>\n",
       "      <td>[-1.1837212183]</td>\n",
       "    </tr>\n",
       "    <tr>\n",
       "      <th>41</th>\n",
       "      <td>OpnCmplnts_3</td>\n",
       "      <td>[0.262193904802]</td>\n",
       "    </tr>\n",
       "    <tr>\n",
       "      <th>42</th>\n",
       "      <td>OpnCmplnts_4</td>\n",
       "      <td>[0.295095202594]</td>\n",
       "    </tr>\n",
       "    <tr>\n",
       "      <th>43</th>\n",
       "      <td>OpnCmplnts_5</td>\n",
       "      <td>[-0.950394760694]</td>\n",
       "    </tr>\n",
       "    <tr>\n",
       "      <th>44</th>\n",
       "      <td>NumPolcs_2</td>\n",
       "      <td>[-0.324234048822]</td>\n",
       "    </tr>\n",
       "    <tr>\n",
       "      <th>45</th>\n",
       "      <td>NumPolcs_3</td>\n",
       "      <td>[-0.455424344745]</td>\n",
       "    </tr>\n",
       "    <tr>\n",
       "      <th>46</th>\n",
       "      <td>NumPolcs_4</td>\n",
       "      <td>[-0.260234922323]</td>\n",
       "    </tr>\n",
       "    <tr>\n",
       "      <th>47</th>\n",
       "      <td>NumPolcs_5</td>\n",
       "      <td>[-0.0485656256373]</td>\n",
       "    </tr>\n",
       "    <tr>\n",
       "      <th>48</th>\n",
       "      <td>NumPolcs_6</td>\n",
       "      <td>[-0.395362564677]</td>\n",
       "    </tr>\n",
       "    <tr>\n",
       "      <th>49</th>\n",
       "      <td>NumPolcs_7</td>\n",
       "      <td>[0.029252256628]</td>\n",
       "    </tr>\n",
       "    <tr>\n",
       "      <th>50</th>\n",
       "      <td>NumPolcs_8</td>\n",
       "      <td>[-0.415768016323]</td>\n",
       "    </tr>\n",
       "    <tr>\n",
       "      <th>51</th>\n",
       "      <td>NumPolcs_9</td>\n",
       "      <td>[-0.00866942211476]</td>\n",
       "    </tr>\n",
       "    <tr>\n",
       "      <th>52</th>\n",
       "      <td>TotClmAmt_250to400</td>\n",
       "      <td>[0.135924786924]</td>\n",
       "    </tr>\n",
       "    <tr>\n",
       "      <th>53</th>\n",
       "      <td>TotClmAmt_400to600</td>\n",
       "      <td>[-0.246378119037]</td>\n",
       "    </tr>\n",
       "    <tr>\n",
       "      <th>54</th>\n",
       "      <td>TotClmAmt_600to725</td>\n",
       "      <td>[-0.47083063651]</td>\n",
       "    </tr>\n",
       "    <tr>\n",
       "      <th>55</th>\n",
       "      <td>TotClmAmt_gt_725</td>\n",
       "      <td>[-0.888190280554]</td>\n",
       "    </tr>\n",
       "  </tbody>\n",
       "</table>\n",
       "</div>"
      ],
      "text/plain": [
       "                                0                    1\n",
       "0   Intercept                      [-0.584054862524]  \n",
       "1   Education_College              [0.137917225463]   \n",
       "2   Education_Doctor               [0.608657235556]   \n",
       "3   Education_HighSchoolorBelow    [-0.0522168011488] \n",
       "4   Education_Master               [0.416126443884]   \n",
       "5   EmploymentStatus_Employed      [-0.286690439823]  \n",
       "6   EmploymentStatus_MedicalLeave  [0.144921487186]   \n",
       "7   EmploymentStatus_Retired       [2.48612931808]    \n",
       "8   EmploymentStatus_Unemployed    [-0.774881278774]  \n",
       "9   LocationCode_Suburban          [1.01678156189]    \n",
       "10  LocationCode_Urban             [-0.195062796735]  \n",
       "11  MaritalStatus_Married          [-0.591521717405]  \n",
       "12  MaritalStatus_Single           [-0.568944439913]  \n",
       "13  RenewOfferType_Offer2          [0.66186350723]    \n",
       "14  RenewOfferType_Offer3          [-1.95107541865]   \n",
       "15  RenewOfferType_Offer4          [-3.65610257512]   \n",
       "16  SalesChannel_Branch            [-0.59513385898]   \n",
       "17  SalesChannel_CallCenter        [-0.488516401063]  \n",
       "18  SalesChannel_Web               [-0.573994986651]  \n",
       "19  VehicleClass_LuxuryCar         [0.262081223216]   \n",
       "20  VehicleClass_LuxurySUV         [0.662563512287]   \n",
       "21  VehicleClass_SUV               [0.290256825291]   \n",
       "22  VehicleClass_SportsCar         [0.390428479851]   \n",
       "23  VehicleClass_TwoDoorCar        [-0.00343377122303]\n",
       "24  VehicleSize_Medsize            [-0.209526506498]  \n",
       "25  VehicleSize_Small              [-0.64044980687]   \n",
       "26  CLTV_10000to15000              [0.535898904616]   \n",
       "27  CLTV_gt_15000                  [0.0471682807354]  \n",
       "28  Income_10Kto20K                [-0.191508366757]  \n",
       "29  Income_20Kto30K                [-0.214111489759]  \n",
       "30  Income_30Kto40K                [0.0850880353344]  \n",
       "31  Income_40Kto55K                [-0.313646885413]  \n",
       "32  Income_55Kto65K                [0.622280568956]   \n",
       "33  Income_65Kto70K                [0.0201227942265]  \n",
       "34  Income_gt_70K                  [0.182601759661]   \n",
       "35  MntlyPrem_75to95               [0.0455499266873]  \n",
       "36  MntlyPrem_95to120              [0.301033708363]   \n",
       "37  MntlyPrem_120to140             [0.0228085808859]  \n",
       "38  MntlyPrem_gt_140               [-0.240715490136]  \n",
       "39  OpnCmplnts_1                   [-0.0810769629977] \n",
       "40  OpnCmplnts_2                   [-1.1837212183]    \n",
       "41  OpnCmplnts_3                   [0.262193904802]   \n",
       "42  OpnCmplnts_4                   [0.295095202594]   \n",
       "43  OpnCmplnts_5                   [-0.950394760694]  \n",
       "44  NumPolcs_2                     [-0.324234048822]  \n",
       "45  NumPolcs_3                     [-0.455424344745]  \n",
       "46  NumPolcs_4                     [-0.260234922323]  \n",
       "47  NumPolcs_5                     [-0.0485656256373] \n",
       "48  NumPolcs_6                     [-0.395362564677]  \n",
       "49  NumPolcs_7                     [0.029252256628]   \n",
       "50  NumPolcs_8                     [-0.415768016323]  \n",
       "51  NumPolcs_9                     [-0.00866942211476]\n",
       "52  TotClmAmt_250to400             [0.135924786924]   \n",
       "53  TotClmAmt_400to600             [-0.246378119037]  \n",
       "54  TotClmAmt_600to725             [-0.47083063651]   \n",
       "55  TotClmAmt_gt_725               [-0.888190280554]  "
      ]
     },
     "execution_count": 618,
     "metadata": {},
     "output_type": "execute_result"
    }
   ],
   "source": [
    "print('Score : ')\n",
    "\n",
    "print(mod2.score(X, y))\n",
    "\n",
    "\n",
    "pd.DataFrame(zip(X.columns, np.transpose(mod2.coef_)))"
   ]
  },
  {
   "cell_type": "markdown",
   "metadata": {},
   "source": [
    "#### Regression Equation\n",
    "\n",
    "Using the coefficients output, we can generate the regression equation as below:\n"
   ]
  },
  {
   "cell_type": "code",
   "execution_count": 619,
   "metadata": {
    "collapsed": false
   },
   "outputs": [
    {
     "name": "stdout",
     "output_type": "stream",
     "text": [
      "Response = -0.5841 + (Education_College * 0.1379) + (Education_Doctor * 0.6087) + (Education_HighSchoolorBelow * -0.0522) + (Education_Master * 0.4161) + (EmploymentStatus_Employed * -0.2867) + (EmploymentStatus_MedicalLeave * 0.1449) + (EmploymentStatus_Retired * 2.4861) + (EmploymentStatus_Unemployed * -0.7749) + (LocationCode_Suburban * 1.0168) + (LocationCode_Urban * -0.1951) + (MaritalStatus_Married * -0.5915) + (MaritalStatus_Single * -0.5689) + (RenewOfferType_Offer2 * 0.6619) + (RenewOfferType_Offer3 * -1.9511) + (RenewOfferType_Offer4 * -3.6561) + (SalesChannel_Branch * -0.5951) + (SalesChannel_CallCenter * -0.4885) + (SalesChannel_Web * -0.574) + (VehicleClass_LuxuryCar * 0.2621) + (VehicleClass_LuxurySUV * 0.6626) + (VehicleClass_SUV * 0.2903) + (VehicleClass_SportsCar * 0.3904) + (VehicleClass_TwoDoorCar * -0.0034) + (VehicleSize_Medsize * -0.2095) + (VehicleSize_Small * -0.6404) + (CLTV_10000to15000 * 0.5359) + (CLTV_gt_15000 * 0.0472) + (Income_10Kto20K * -0.1915) + (Income_20Kto30K * -0.2141) + (Income_30Kto40K * 0.0851) + (Income_40Kto55K * -0.3136) + (Income_55Kto65K * 0.6223) + (Income_65Kto70K * 0.0201) + (Income_gt_70K * 0.1826) + (MntlyPrem_75to95 * 0.0455) + (MntlyPrem_95to120 * 0.301) + (MntlyPrem_120to140 * 0.0228) + (MntlyPrem_gt_140 * -0.2407) + (OpnCmplnts_1 * -0.0811) + (OpnCmplnts_2 * -1.1837) + (OpnCmplnts_3 * 0.2622) + (OpnCmplnts_4 * 0.2951) + (OpnCmplnts_5 * -0.9504) + (NumPolcs_2 * -0.3242) + (NumPolcs_3 * -0.4554) + (NumPolcs_4 * -0.2602) + (NumPolcs_5 * -0.0486) + (NumPolcs_6 * -0.3954) + (NumPolcs_7 * 0.0293) + (NumPolcs_8 * -0.4158) + (NumPolcs_9 * -0.0087) + (TotClmAmt_250to400 * 0.1359) + (TotClmAmt_400to600 * -0.2464) + (TotClmAmt_600to725 * -0.4708)\n"
     ]
    }
   ],
   "source": [
    "a = pd.DataFrame(zip(X.columns, np.transpose(mod2.coef_)))\n",
    "len = a[0].size\n",
    "\n",
    "eq = 'Response = ' + str(round(a[1][0],4)) \n",
    "for i in range(1, len-1):\n",
    "    eq = eq + ' + (' + a[0][i] + ' * ' +  str(round(a[1][i],4)) + ')'\n",
    "\n",
    "                                                        \n",
    "print(eq)   "
   ]
  },
  {
   "cell_type": "markdown",
   "metadata": {},
   "source": [
    "\n",
    "We can see from the equation that anything with a -ve sign inversly impacts the chances of insurance response. So, for example, an unemployed status and total claims amount being greater than 725 leads to an unsuccessful response. Similarly, being retired or being a doctor increases the chances of success.\n"
   ]
  },
  {
   "cell_type": "markdown",
   "metadata": {},
   "source": [
    "### Model Comparision and Selection \n",
    "\n",
    "Lets prepare classification matrices to check which of the 2 models performed better:\n",
    "\n"
   ]
  },
  {
   "cell_type": "code",
   "execution_count": 665,
   "metadata": {
    "collapsed": false
   },
   "outputs": [
    {
     "name": "stdout",
     "output_type": "stream",
     "text": [
      "Model 1 performance\n",
      "             precision    recall  f1-score   support\n",
      "\n",
      "         No      0.880     0.987     0.930      6273\n",
      "        Yes      0.710     0.194     0.304      1049\n",
      "\n",
      "avg / total      0.855     0.873     0.841      7322\n",
      "\n",
      "Accuracy of Model 1: 0.87312\n",
      "Auc Score of Model 1: 0.82698\n",
      "\n",
      "\n",
      "Model 2 performance\n",
      "             precision    recall  f1-score   support\n",
      "\n",
      "          0      0.879     0.987     0.930      6273\n",
      "          1      0.712     0.189     0.298      1049\n",
      "\n",
      "avg / total      0.855     0.873     0.840      7322\n",
      "\n",
      "Accuracy of Model 1: 0.87285\n",
      "Auc Score of Model 1: 0.82679\n"
     ]
    }
   ],
   "source": [
    "\n",
    "print('Model 1 performance')\n",
    "\n",
    "predictions = mod1.predict()\n",
    "predictions_nominal = [ \"No\" if x < 0.5 else \"Yes\" for x in predictions]\n",
    "print classification_report(data_train[\"Response\"], predictions_nominal, digits=3)\n",
    "\n",
    "# generate evaluation metrics\n",
    "print 'Accuracy of Model 1: %1.5f' %metrics.accuracy_score(data_train[\"Response\"], predictions_nominal)\n",
    "print 'Auc Score of Model 1: %1.5f' %metrics.roc_auc_score(data_train[\"Resp_codes\"], predictions)\n",
    "\n",
    "\n",
    "print('\\n\\nModel 2 performance')\n",
    "\n",
    "predicted = mod2.predict(X)\n",
    "print classification_report(data_train[\"Resp_codes\"], predicted, digits=3)\n",
    "\n",
    "probs = mod2.predict_proba(X)\n",
    "# generate evaluation metrics\n",
    "print 'Accuracy of Model 1: %1.5f' %metrics.accuracy_score(y, predicted)\n",
    "print 'Auc Score of Model 1: %1.5f' %metrics.roc_auc_score(y, probs[:, 1])\n"
   ]
  },
  {
   "cell_type": "markdown",
   "metadata": {
    "nbpresent": {
     "id": "d944fe5d-c290-4b6e-b9aa-cdec89d938d9"
    }
   },
   "source": [
    "\n",
    "From the output above, we can see that both models performed almost on par. However, model 1 seems to be slightly better.\n",
    "\n",
    "We will go ahead apply both models on the test data and check for the performance.\n",
    "\n",
    "\n",
    "\n",
    "## Final Model Performance on Test Data \n",
    "\n",
    "\n",
    "\n"
   ]
  },
  {
   "cell_type": "code",
   "execution_count": 680,
   "metadata": {
    "collapsed": false,
    "scrolled": false
   },
   "outputs": [
    {
     "name": "stdout",
     "output_type": "stream",
     "text": [
      "Model 1 performance\n",
      "             precision    recall  f1-score   support\n",
      "\n",
      "         No      0.877     0.988     0.929      1553\n",
      "        Yes      0.705     0.166     0.269       259\n",
      "\n",
      "avg / total      0.852     0.871     0.835      1812\n",
      "\n",
      "Accuracy of Model 1: 0.87086\n",
      "Auc Score of Model 1: 0.81221\n",
      "\n",
      "\n",
      "Model 2 performance\n",
      "             precision    recall  f1-score   support\n",
      "\n",
      "          0      0.855     0.936     0.894      1553\n",
      "          1      0.108     0.046     0.065       259\n",
      "\n",
      "avg / total      0.748     0.809     0.775      1812\n",
      "\n",
      "Accuracy of Model 1: 0.80905\n",
      "Auc Score of Model 1: 0.46094\n"
     ]
    }
   ],
   "source": [
    "X = data_test[Independent_cols]\n",
    "#X.drop('intercept', axis=1, inplace=True)\n",
    "\n",
    "print('Model 1 performance')\n",
    "\n",
    "predictions = mod1.predict(X)\n",
    "predictions_nominal = [ \"No\" if x < 0.5 else \"Yes\" for x in predictions]\n",
    "print classification_report(data_test[\"Response\"], predictions_nominal, digits=3)\n",
    "\n",
    "# generate evaluation metrics\n",
    "print 'Accuracy of Model 1: %1.5f' %metrics.accuracy_score(data_test[\"Response\"], predictions_nominal)\n",
    "print 'Auc Score of Model 1: %1.5f' %metrics.roc_auc_score(data_test[\"Resp_codes\"], predictions)\n",
    "\n",
    "\n",
    "print('\\n\\nModel 2 performance')\n",
    "\n",
    "predicted = mod2.predict(X)\n",
    "print classification_report(data_test[\"Resp_codes\"], predicted, digits=3)\n",
    "\n",
    "probs = mod2.predict_proba(X)\n",
    "# generate evaluation metrics\n",
    "print 'Accuracy of Model 1: %1.5f' %metrics.accuracy_score(data_test[\"Resp_codes\"], predicted)\n",
    "print 'Auc Score of Model 1: %1.5f' %metrics.roc_auc_score(data_test[\"Resp_codes\"], probs[:, 1])\n"
   ]
  },
  {
   "cell_type": "markdown",
   "metadata": {},
   "source": [
    "## Conclusion\n",
    "\n",
    "Based on the output above, it is clear that Model 1 performed better on unseen data (the test data). Hence it makes sense to use model 1 for further implementation.\n",
    "\n",
    "\n",
    "#### Further steps\n",
    "\n",
    "There are many different steps that could be tried in order to improve the models:\n",
    "\n",
    "- Running a feature selection algorithm or PCA to find potent features  \n",
    "- Look for interaction terms and include them in the model\n",
    "- Look at the distribution of the features and see if any normalization / regularization needs to be carried out\n",
    "- Finally try using a non-linear model\n"
   ]
  }
 ],
 "metadata": {
  "anaconda-cloud": {},
  "kernelspec": {
   "display_name": "Python [conda root]",
   "language": "python",
   "name": "conda-root-py"
  },
  "language_info": {
   "codemirror_mode": {
    "name": "ipython",
    "version": 2
   },
   "file_extension": ".py",
   "mimetype": "text/x-python",
   "name": "python",
   "nbconvert_exporter": "python",
   "pygments_lexer": "ipython2",
   "version": "2.7.12"
  },
  "nbpresent": {
   "slides": {
    "027d5a13-fb9f-4d12-a246-42eccda02a8a": {
     "id": "027d5a13-fb9f-4d12-a246-42eccda02a8a",
     "prev": "454a7051-1607-47c4-80d7-bd672c13122e",
     "regions": {
      "3f68f795-ad13-4e6f-a4a2-c192b8b0670b": {
       "attrs": {
        "height": 0.8,
        "width": 0.8,
        "x": 0.1,
        "y": 0.1
       },
       "content": {
        "cell": "c6291edc-11b9-4e95-b607-145d7340bba2",
        "part": "whole"
       },
       "id": "3f68f795-ad13-4e6f-a4a2-c192b8b0670b"
      }
     }
    },
    "2a86557f-3d61-427a-884e-189cd14981b1": {
     "id": "2a86557f-3d61-427a-884e-189cd14981b1",
     "prev": "866a97c5-b81c-4fc2-90ea-d244b13f097a",
     "regions": {
      "8c4143f6-6f32-4f2c-a144-2f0e22e567af": {
       "attrs": {
        "height": 0.8,
        "width": 0.8,
        "x": 0.1,
        "y": 0.1
       },
       "content": {
        "cell": "ce8e690c-0147-4a89-9d9d-5f017f394e64",
        "part": "whole"
       },
       "id": "8c4143f6-6f32-4f2c-a144-2f0e22e567af"
      }
     }
    },
    "2e9c4f3b-0d8f-4e85-bfb1-956940bbeaed": {
     "id": "2e9c4f3b-0d8f-4e85-bfb1-956940bbeaed",
     "prev": "f563f763-0777-4e0d-b1f8-8a9f16a58177",
     "regions": {
      "083aa872-b2b1-4322-8bd0-fa58717f2a08": {
       "attrs": {
        "height": 0.8,
        "width": 0.8,
        "x": 0.1,
        "y": 0.1
       },
       "content": {
        "cell": "9bcb2466-4a7a-48c9-9c31-3ac15b7abff7",
        "part": "whole"
       },
       "id": "083aa872-b2b1-4322-8bd0-fa58717f2a08"
      }
     }
    },
    "454a7051-1607-47c4-80d7-bd672c13122e": {
     "id": "454a7051-1607-47c4-80d7-bd672c13122e",
     "prev": "8d08d0d4-6535-4f39-8249-a1356eb99f8e",
     "regions": {
      "134e2e0d-c758-46d6-a719-c1d860ee7aae": {
       "attrs": {
        "height": 0.8,
        "width": 0.8,
        "x": 0.1,
        "y": 0.1
       },
       "content": {
        "cell": "4439bb3b-775f-4f88-8380-0781f0235512",
        "part": "whole"
       },
       "id": "134e2e0d-c758-46d6-a719-c1d860ee7aae"
      }
     }
    },
    "564bded1-7981-4191-a381-d1877a466c0b": {
     "id": "564bded1-7981-4191-a381-d1877a466c0b",
     "prev": "b128420e-5117-4231-a311-3950a9e092e3",
     "regions": {
      "feeda7a9-ecf3-463f-8cfa-affa9a8ba824": {
       "attrs": {
        "height": 0.8,
        "width": 0.8,
        "x": 0.1,
        "y": 0.1
       },
       "content": {
        "cell": "6ce96938-660d-48bc-85e3-a453d635bd7f",
        "part": "whole"
       },
       "id": "feeda7a9-ecf3-463f-8cfa-affa9a8ba824"
      }
     }
    },
    "866a97c5-b81c-4fc2-90ea-d244b13f097a": {
     "id": "866a97c5-b81c-4fc2-90ea-d244b13f097a",
     "prev": null,
     "regions": {
      "51030db5-6fe7-48f2-ba56-f57de5955dc5": {
       "attrs": {
        "height": 0.8,
        "width": 0.8,
        "x": 0.1,
        "y": 0.1
       },
       "content": {
        "cell": "9591cca6-8dfc-40a6-a194-e2c7221a7afd",
        "part": "whole"
       },
       "id": "51030db5-6fe7-48f2-ba56-f57de5955dc5"
      }
     }
    },
    "8d08d0d4-6535-4f39-8249-a1356eb99f8e": {
     "id": "8d08d0d4-6535-4f39-8249-a1356eb99f8e",
     "prev": "2e9c4f3b-0d8f-4e85-bfb1-956940bbeaed",
     "regions": {
      "0aad163b-72d4-4208-97d4-8bca15ed87d7": {
       "attrs": {
        "height": 0.8,
        "width": 0.8,
        "x": 0.1,
        "y": 0.1
       },
       "content": {
        "cell": "dfd06b7e-2c94-47d5-a891-c30b4cca834b",
        "part": "whole"
       },
       "id": "0aad163b-72d4-4208-97d4-8bca15ed87d7"
      }
     }
    },
    "9c45166a-ca20-466a-9f8a-508fb43a3d83": {
     "id": "9c45166a-ca20-466a-9f8a-508fb43a3d83",
     "prev": "2a86557f-3d61-427a-884e-189cd14981b1",
     "regions": {
      "ba539b43-7202-4e74-9cf0-8c8b3891b556": {
       "attrs": {
        "height": 0.8,
        "width": 0.8,
        "x": 0.1,
        "y": 0.1
       },
       "content": {
        "cell": "af660f26-cd47-428e-bd26-e766130cf314",
        "part": "whole"
       },
       "id": "ba539b43-7202-4e74-9cf0-8c8b3891b556"
      }
     }
    },
    "b128420e-5117-4231-a311-3950a9e092e3": {
     "id": "b128420e-5117-4231-a311-3950a9e092e3",
     "prev": "027d5a13-fb9f-4d12-a246-42eccda02a8a",
     "regions": {
      "527b9f13-90a5-463c-b9ec-ee326559d8f6": {
       "attrs": {
        "height": 0.8,
        "width": 0.8,
        "x": 0.1,
        "y": 0.1
       },
       "content": {
        "cell": "146d4f2a-a084-4100-a9ce-6e5ed54c5d81",
        "part": "whole"
       },
       "id": "527b9f13-90a5-463c-b9ec-ee326559d8f6"
      }
     }
    },
    "e20ab10d-e50e-4c02-b2b8-3d82d772dc92": {
     "id": "e20ab10d-e50e-4c02-b2b8-3d82d772dc92",
     "prev": "f9ee036d-ca83-40bf-927f-a07f20caf54b",
     "regions": {
      "15b87b85-0b1d-4480-8969-d3730b005176": {
       "attrs": {
        "height": 0.8,
        "width": 0.8,
        "x": 0.1,
        "y": 0.1
       },
       "content": {
        "cell": "24b9d3a2-8466-4859-90e8-5d12cc6c0933",
        "part": "whole"
       },
       "id": "15b87b85-0b1d-4480-8969-d3730b005176"
      }
     }
    },
    "ea28f25f-8c87-49b3-9fd4-1e91b3325ba2": {
     "id": "ea28f25f-8c87-49b3-9fd4-1e91b3325ba2",
     "prev": "9c45166a-ca20-466a-9f8a-508fb43a3d83",
     "regions": {
      "31a23ded-d2db-420d-8bb2-a52a46b31d61": {
       "attrs": {
        "height": 0.8,
        "width": 0.8,
        "x": 0.1,
        "y": 0.1
       },
       "content": {
        "cell": "9b2a9727-f50a-4962-8ca4-76cbb0339ebf",
        "part": "whole"
       },
       "id": "31a23ded-d2db-420d-8bb2-a52a46b31d61"
      }
     }
    },
    "ed4cdef1-1b0f-4dbf-adab-bd2e6bf3d14a": {
     "id": "ed4cdef1-1b0f-4dbf-adab-bd2e6bf3d14a",
     "prev": "ea28f25f-8c87-49b3-9fd4-1e91b3325ba2",
     "regions": {
      "f7050503-7e59-463c-b937-dfb26cdfa83a": {
       "attrs": {
        "height": 0.8,
        "width": 0.8,
        "x": 0.1,
        "y": 0.1
       },
       "content": {
        "cell": "52ae8b8c-0114-40d9-bf5e-78d99eadb07f",
        "part": "whole"
       },
       "id": "f7050503-7e59-463c-b937-dfb26cdfa83a"
      }
     }
    },
    "ed58c848-5472-4488-901b-ba60b54761eb": {
     "id": "ed58c848-5472-4488-901b-ba60b54761eb",
     "prev": "e20ab10d-e50e-4c02-b2b8-3d82d772dc92",
     "regions": {
      "daa09c63-3b0e-4459-8459-21f0aa58c248": {
       "attrs": {
        "height": 0.8,
        "width": 0.8,
        "x": 0.1,
        "y": 0.1
       },
       "content": {
        "cell": "dded43cc-b225-436b-a190-35a7239936b4",
        "part": "whole"
       },
       "id": "daa09c63-3b0e-4459-8459-21f0aa58c248"
      }
     }
    },
    "f563f763-0777-4e0d-b1f8-8a9f16a58177": {
     "id": "f563f763-0777-4e0d-b1f8-8a9f16a58177",
     "prev": "ed4cdef1-1b0f-4dbf-adab-bd2e6bf3d14a",
     "regions": {
      "eba4acc1-cd6e-4c38-9972-db745897d031": {
       "attrs": {
        "height": 0.8,
        "width": 0.8,
        "x": 0.1,
        "y": 0.1
       },
       "content": {
        "cell": "d22f8a5c-0968-4d24-a75e-e088dc895b64",
        "part": "whole"
       },
       "id": "eba4acc1-cd6e-4c38-9972-db745897d031"
      }
     }
    },
    "f9ee036d-ca83-40bf-927f-a07f20caf54b": {
     "id": "f9ee036d-ca83-40bf-927f-a07f20caf54b",
     "prev": "564bded1-7981-4191-a381-d1877a466c0b",
     "regions": {
      "5efd05bd-fbaa-4528-88f9-3acb8feea09d": {
       "attrs": {
        "height": 0.8,
        "width": 0.8,
        "x": 0.1,
        "y": 0.1
       },
       "content": {
        "cell": "d944fe5d-c290-4b6e-b9aa-cdec89d938d9",
        "part": "whole"
       },
       "id": "5efd05bd-fbaa-4528-88f9-3acb8feea09d"
      }
     }
    }
   },
   "themes": {
    "default": "7fd11356-57d2-4749-a4b5-4399ec0e2cb6",
    "theme": {}
   }
  }
 },
 "nbformat": 4,
 "nbformat_minor": 1
}
