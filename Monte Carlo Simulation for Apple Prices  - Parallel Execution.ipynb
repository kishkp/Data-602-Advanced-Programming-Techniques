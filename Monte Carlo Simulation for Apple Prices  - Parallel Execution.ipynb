{
 "cells": [
  {
   "cell_type": "markdown",
   "metadata": {},
   "source": [
    "# DATA 602 Assignment 12\n",
    "\n",
    "## Kishore Prasad"
   ]
  },
  {
   "cell_type": "markdown",
   "metadata": {},
   "source": [
    "## Non - Parellel Execution Output"
   ]
  },
  {
   "cell_type": "code",
   "execution_count": 15,
   "metadata": {
    "collapsed": false
   },
   "outputs": [
    {
     "name": "stdout",
     "output_type": "stream",
     "text": [
      "1 loop, best of 3: 448 ms per loop\n"
     ]
    }
   ],
   "source": [
    "%%timeit\n",
    "\n",
    "import pandas as pd\n",
    "import numpy as np\n",
    "\n",
    "# Read Data\n",
    "data = pd.read_csv(\"apple.2011.csv\")\n",
    "data.columns = ['Date','Price','Pert_change']\n",
    "\n",
    "# Calculate mu and sigma\n",
    "data_pert_change = pd.Series(data['Pert_change'][1:], dtype = float)\n",
    "mu, sigma = np.mean(data_pert_change), np.std(data_pert_change)\n",
    "mu, sigma\n",
    "\n",
    "# simulate 10000 times\n",
    "final_prices = np.empty(10000)\n",
    "\n",
    "for i in range(0,10000):\n",
    "    last_price = data['Price'][data['Price'].size - 1]\n",
    "    random_percentages = np.random.normal(mu, sigma, 20)\n",
    "    for j in random_percentages:\n",
    "        last_price = last_price * (1 + j)\n",
    "\n",
    "    final_prices[i] = last_price\n",
    "\n",
    "# get Value at Risk\n",
    "VaR = np.percentile(final_prices, 1)"
   ]
  },
  {
   "cell_type": "markdown",
   "metadata": {
    "collapsed": true
   },
   "source": [
    "## Parallel Execution Output"
   ]
  },
  {
   "cell_type": "code",
   "execution_count": 16,
   "metadata": {
    "collapsed": false
   },
   "outputs": [],
   "source": [
    "import ipyparallel\n",
    "clients = ipyparallel.Client()\n",
    "clients.block = True\n",
    "dv = clients.direct_view()"
   ]
  },
  {
   "cell_type": "code",
   "execution_count": 17,
   "metadata": {
    "collapsed": false
   },
   "outputs": [
    {
     "name": "stdout",
     "output_type": "stream",
     "text": [
      "1 loop, best of 3: 380 ms per loop\n"
     ]
    }
   ],
   "source": [
    "%%timeit\n",
    "\n",
    "# Split the final_prices among the 4 processes\n",
    "%px from numpy import empty\n",
    "%px final_prices = empty(2500)\n",
    "%px\n",
    "\n",
    "import pandas as pd\n",
    "import numpy as np\n",
    "\n",
    "# Read Data\n",
    "data = pd.read_csv(\"apple.2011.csv\")\n",
    "data.columns = ['Date','Price','Pert_change']\n",
    "\n",
    "# Calculate mu and sigma\n",
    "data_pert_change = pd.Series(data['Pert_change'][1:], dtype = float)\n",
    "mu, sigma = np.mean(data_pert_change), np.std(data_pert_change)\n",
    "mu, sigma\n",
    "\n",
    "# simulate 10000 times\n",
    "final_prices = np.empty(2500)\n",
    "\n",
    "for i in range(0,2500):\n",
    "    last_price = data['Price'][data['Price'].size - 1]\n",
    "    random_percentages = np.random.normal(mu, sigma, 20)\n",
    "    for j in random_percentages:\n",
    "        last_price = last_price * (1 + j)\n",
    "\n",
    "    final_prices[i] = last_price\n",
    "\n",
    "%px\n",
    "\n",
    "# Gather the output from the 4 processes\n",
    "final_prices = dv.gather('final_prices')\n",
    "final_prices = np.array(final_prices)\n",
    "\n",
    "# get Value at Risk\n",
    "VaR = np.percentile(final_prices, 1)\n"
   ]
  }
 ],
 "metadata": {
  "anaconda-cloud": {},
  "kernelspec": {
   "display_name": "Python [default]",
   "language": "python",
   "name": "python2"
  },
  "language_info": {
   "codemirror_mode": {
    "name": "ipython",
    "version": 2
   },
   "file_extension": ".py",
   "mimetype": "text/x-python",
   "name": "python",
   "nbconvert_exporter": "python",
   "pygments_lexer": "ipython2",
   "version": "2.7.12"
  }
 },
 "nbformat": 4,
 "nbformat_minor": 1
}
